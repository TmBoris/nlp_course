{
 "cells": [
  {
   "cell_type": "markdown",
   "id": "b549e444-bb68-4ad9-9f84-97c2a47a1b3e",
   "metadata": {
    "id": "b549e444-bb68-4ad9-9f84-97c2a47a1b3e"
   },
   "source": [
    "# Глубинное обучение для текстовых данных, ФКН ВШЭ\n",
    "## Домашнее задание 5: Retrieval‑Augmented Generation (RAG)\n",
    "### Оценивание и штрафы\n",
    "\n",
    "Максимально допустимая оценка за работу — __10 баллов__.\n",
    "\n",
    "Задание выполняется самостоятельно. «Похожие» решения считаются плагиатом и все задействованные студенты (в том числе те, у кого списали) не могут получить за него больше 0 баллов. Весь код должен быть написан самостоятельно. Чужим кодом для пользоваться запрещается даже с указанием ссылки на источник. В разумных рамках, конечно. Взять пару очевидных строчек кода для реализации какого-то небольшого функционала можно.\n",
    "\n",
    "Неэффективная реализация кода может негативно отразиться на оценке. Также оценка может быть снижена за плохо читаемый код и плохо оформленные графики. Все ответы должны сопровождаться кодом или комментариями о том, как они были получены.\n",
    "\n",
    "__Мягкий дедлайн 16.12.24 23:59__ \\\n",
    "__Жесткий дедлайн 19.12.24 23:59__\n",
    "\n",
    "### О задании\n",
    "\n",
    "В этом домашнем задании вам предлагается реализовать ассистента для кулинарных советов с помощью RAG, который помимо всего прочего может ходить в итернет за дополнительной информацией. Всю логику системы нужно будет написать самостоятельно без специализорованных библиотек. Мы разделили ее на несколько логических компонент, каждой из которых будет отведено отдельное задание:\n",
    "1. Векторная база данных с быстрым семантическим поиском\n",
    "2. Разбиение текстов на куски.\n",
    "3. Ранжирование документов по релевантности\n",
    "4. Формирование контекста для модели и генерация ответа\n",
    "\n",
    "### О данных\n",
    "\n",
    "В качестве базы данных мы будем использовать пользовательские рецепты с сайта \"Поваренок.Ру\". Они получены с помощью веб-парсинга сайта, поэтому местами тексты недостаточно чистые. Всего в датасете содержится 84130 рецептов."
   ]
  },
  {
   "cell_type": "code",
   "execution_count": 1,
   "id": "ff2e0ac6-83d3-419b-a01d-110cc40cd8b1",
   "metadata": {
    "execution": {
     "iopub.execute_input": "2024-12-15T06:51:30.785678Z",
     "iopub.status.busy": "2024-12-15T06:51:30.785285Z",
     "iopub.status.idle": "2024-12-15T06:51:30.815502Z",
     "shell.execute_reply": "2024-12-15T06:51:30.814714Z",
     "shell.execute_reply.started": "2024-12-15T06:51:30.785646Z"
    },
    "id": "ff2e0ac6-83d3-419b-a01d-110cc40cd8b1",
    "trusted": true
   },
   "outputs": [],
   "source": [
    "import matplotlib.pyplot as plt\n",
    "import numpy as np"
   ]
  },
  {
   "cell_type": "markdown",
   "id": "83786d0e",
   "metadata": {
    "id": "83786d0e"
   },
   "source": [
    "### Загрузка датасета и модели\n",
    "\n",
    "Таблица с рецептами хранится в файле `povarenok.csv`. Каждая запись содержит название рецепта, список ингредиентов и сам рецепт. Несмотря на то, что всего датасете хранится 84130 записей, в рамках этого задания мы будем работать с первыми 10-ю тысячами для того, чтобы все работало быстрее. При желании вы можете взять больше."
   ]
  },
  {
   "cell_type": "code",
   "execution_count": 2,
   "id": "35e8b808-4268-4e7b-89c2-530cea848cea",
   "metadata": {
    "execution": {
     "iopub.execute_input": "2024-12-15T06:51:32.642118Z",
     "iopub.status.busy": "2024-12-15T06:51:32.641563Z",
     "iopub.status.idle": "2024-12-15T06:51:42.514271Z",
     "shell.execute_reply": "2024-12-15T06:51:42.513242Z",
     "shell.execute_reply.started": "2024-12-15T06:51:32.642087Z"
    },
    "trusted": true
   },
   "outputs": [
    {
     "name": "stdout",
     "output_type": "stream",
     "text": [
      "Requirement already satisfied: gdown in /home/boris/.pyenv/versions/3.11.5/lib/python3.11/site-packages (5.2.0)\n",
      "Requirement already satisfied: beautifulsoup4 in /home/boris/.pyenv/versions/3.11.5/lib/python3.11/site-packages (from gdown) (4.12.3)\n",
      "Requirement already satisfied: filelock in /home/boris/.pyenv/versions/3.11.5/lib/python3.11/site-packages (from gdown) (3.16.1)\n",
      "Requirement already satisfied: requests[socks] in /home/boris/.pyenv/versions/3.11.5/lib/python3.11/site-packages (from gdown) (2.32.3)\n",
      "Requirement already satisfied: tqdm in /home/boris/.pyenv/versions/3.11.5/lib/python3.11/site-packages (from gdown) (4.67.0)\n",
      "Requirement already satisfied: soupsieve>1.2 in /home/boris/.pyenv/versions/3.11.5/lib/python3.11/site-packages (from beautifulsoup4->gdown) (2.6)\n",
      "Requirement already satisfied: charset-normalizer<4,>=2 in /home/boris/.pyenv/versions/3.11.5/lib/python3.11/site-packages (from requests[socks]->gdown) (3.4.0)\n",
      "Requirement already satisfied: idna<4,>=2.5 in /home/boris/.pyenv/versions/3.11.5/lib/python3.11/site-packages (from requests[socks]->gdown) (3.7)\n",
      "Requirement already satisfied: urllib3<3,>=1.21.1 in /home/boris/.pyenv/versions/3.11.5/lib/python3.11/site-packages (from requests[socks]->gdown) (2.2.3)\n",
      "Requirement already satisfied: certifi>=2017.4.17 in /home/boris/.pyenv/versions/3.11.5/lib/python3.11/site-packages (from requests[socks]->gdown) (2024.2.2)\n",
      "Requirement already satisfied: PySocks!=1.5.7,>=1.5.6 in /home/boris/.pyenv/versions/3.11.5/lib/python3.11/site-packages (from requests[socks]->gdown) (1.7.1)\n",
      "\n",
      "\u001b[1m[\u001b[0m\u001b[34;49mnotice\u001b[0m\u001b[1;39;49m]\u001b[0m\u001b[39;49m A new release of pip is available: \u001b[0m\u001b[31;49m23.2.1\u001b[0m\u001b[39;49m -> \u001b[0m\u001b[32;49m24.3.1\u001b[0m\n",
      "\u001b[1m[\u001b[0m\u001b[34;49mnotice\u001b[0m\u001b[1;39;49m]\u001b[0m\u001b[39;49m To update, run: \u001b[0m\u001b[32;49mpip install --upgrade pip\u001b[0m\n",
      "Note: you may need to restart the kernel to use updated packages.\n"
     ]
    }
   ],
   "source": [
    "%pip install gdown"
   ]
  },
  {
   "cell_type": "code",
   "execution_count": 3,
   "id": "X8Pd8DilrPTa",
   "metadata": {
    "colab": {
     "base_uri": "https://localhost:8080/",
     "height": 110
    },
    "execution": {
     "iopub.execute_input": "2024-12-15T06:51:42.517108Z",
     "iopub.status.busy": "2024-12-15T06:51:42.516355Z",
     "iopub.status.idle": "2024-12-15T06:51:49.808925Z",
     "shell.execute_reply": "2024-12-15T06:51:49.808034Z",
     "shell.execute_reply.started": "2024-12-15T06:51:42.517063Z"
    },
    "id": "X8Pd8DilrPTa",
    "outputId": "1cc0f7a0-d6b7-444a-cd3c-4cf0d70a6c13",
    "trusted": true
   },
   "outputs": [
    {
     "name": "stderr",
     "output_type": "stream",
     "text": [
      "Downloading...\n",
      "From: https://drive.google.com/uc?id=1wu38NuHL7ZxcHYxlEtWQKeouJ5zPpR4S\n",
      "To: /home/boris/Documents/ВШЭ 4 курс/nlp/hw5-rag/povarenok.csv\n",
      "100%|██████████| 79.3M/79.3M [00:03<00:00, 24.4MB/s]\n"
     ]
    },
    {
     "data": {
      "text/plain": [
       "'povarenok.csv'"
      ]
     },
     "execution_count": 3,
     "metadata": {},
     "output_type": "execute_result"
    }
   ],
   "source": [
    "import gdown\n",
    "\n",
    "gdown.download(id='1wu38NuHL7ZxcHYxlEtWQKeouJ5zPpR4S')"
   ]
  },
  {
   "cell_type": "code",
   "execution_count": 6,
   "id": "upJu_C5VrmHO",
   "metadata": {
    "colab": {
     "base_uri": "https://localhost:8080/"
    },
    "execution": {
     "iopub.execute_input": "2024-12-15T06:51:49.810489Z",
     "iopub.status.busy": "2024-12-15T06:51:49.810082Z",
     "iopub.status.idle": "2024-12-15T06:51:58.014691Z",
     "shell.execute_reply": "2024-12-15T06:51:58.013579Z",
     "shell.execute_reply.started": "2024-12-15T06:51:49.810461Z"
    },
    "id": "upJu_C5VrmHO",
    "outputId": "ea850d8d-4362-4bcc-f687-e7a61de65574",
    "trusted": true
   },
   "outputs": [],
   "source": [
    "# %pip install datasets"
   ]
  },
  {
   "cell_type": "code",
   "execution_count": 7,
   "id": "e00385b0-e865-4e59-ab02-35e079fde06c",
   "metadata": {
    "colab": {
     "base_uri": "https://localhost:8080/",
     "height": 123,
     "referenced_widgets": [
      "ff724884d5ac40a48b77cd3f568f8339",
      "70b489bf2be640c7a63679bc3b41aa8d",
      "a64c78132ffe481f951c6eb21442ae56",
      "7be07cdab5474c2896d5fa3d9b14b463",
      "59f5176be5d444b5ad842690478c7725",
      "6315988c1bd940768fe2cf9d9977a766",
      "4d43af00251d41b49b88cd685af6c7c7",
      "a6d5517c7de6408e9e90c83ad715c5a9",
      "ecada820c714407ba912cfeaac2ef7b1",
      "1210297f738a4fbbb5fa09b1d2474f2d",
      "adbc297b841848b28ca27136928e36ed"
     ]
    },
    "execution": {
     "iopub.execute_input": "2024-12-15T06:51:58.017384Z",
     "iopub.status.busy": "2024-12-15T06:51:58.017057Z",
     "iopub.status.idle": "2024-12-15T06:52:01.241627Z",
     "shell.execute_reply": "2024-12-15T06:52:01.240846Z",
     "shell.execute_reply.started": "2024-12-15T06:51:58.017355Z"
    },
    "id": "e00385b0-e865-4e59-ab02-35e079fde06c",
    "outputId": "24297e8d-d6c9-4c02-c096-272f4b02d83d",
    "trusted": true
   },
   "outputs": [
    {
     "data": {
      "text/plain": [
       "Dataset({\n",
       "    features: ['name', 'ingredients', 'text'],\n",
       "    num_rows: 10000\n",
       "})"
      ]
     },
     "execution_count": 7,
     "metadata": {},
     "output_type": "execute_result"
    }
   ],
   "source": [
    "from datasets import load_dataset\n",
    "\n",
    "dataset = load_dataset('csv', data_files=['povarenok.csv'], split='train')\n",
    "dataset = dataset.select(range(10000))\n",
    "dataset"
   ]
  },
  {
   "cell_type": "code",
   "execution_count": 8,
   "id": "ad6257e6-e4d6-40cd-b164-2927e5d3669e",
   "metadata": {
    "colab": {
     "base_uri": "https://localhost:8080/"
    },
    "execution": {
     "iopub.execute_input": "2024-12-15T06:52:01.242985Z",
     "iopub.status.busy": "2024-12-15T06:52:01.242591Z",
     "iopub.status.idle": "2024-12-15T06:52:01.251205Z",
     "shell.execute_reply": "2024-12-15T06:52:01.250242Z",
     "shell.execute_reply.started": "2024-12-15T06:52:01.242958Z"
    },
    "id": "ad6257e6-e4d6-40cd-b164-2927e5d3669e",
    "outputId": "ab82ed70-f558-4f33-fc78-df4eaab9806c",
    "trusted": true
   },
   "outputs": [
    {
     "data": {
      "text/plain": [
       "{'name': 'Густой молочно-клубничный коктейль',\n",
       " 'ingredients': \"['Молоко', 'Клубника', 'Сахар']\",\n",
       " 'text': 'Не размораживая, ягоду положите в блендер, добавьте молоко и сахар (если ягода свежая, то и перепелиное яйцо) Взбивайте на высокой скорости до полного измельчения ягод. Вылете в стаканы и можно по чуть-чуть пить, так как этот напиток оочень холодный. Кто не любит таковой, подождите и выпейте, когда он немного согреется. Приятного аппетита!'}"
      ]
     },
     "execution_count": 8,
     "metadata": {},
     "output_type": "execute_result"
    }
   ],
   "source": [
    "dataset[0]"
   ]
  },
  {
   "cell_type": "markdown",
   "id": "30f0fc4e-e777-494c-a651-2d733f84824d",
   "metadata": {
    "id": "30f0fc4e-e777-494c-a651-2d733f84824d"
   },
   "source": [
    "Посмотрим на распределение длин текстов. Нам важно знать с чем мы имеем дело, ведь RAG подразумевает, что мы будем подавать тексты на вход модели."
   ]
  },
  {
   "cell_type": "code",
   "execution_count": 9,
   "id": "af1cd79f",
   "metadata": {
    "colab": {
     "base_uri": "https://localhost:8080/",
     "height": 237
    },
    "execution": {
     "iopub.execute_input": "2024-12-15T06:52:01.252446Z",
     "iopub.status.busy": "2024-12-15T06:52:01.252192Z",
     "iopub.status.idle": "2024-12-15T06:52:02.410404Z",
     "shell.execute_reply": "2024-12-15T06:52:02.409512Z",
     "shell.execute_reply.started": "2024-12-15T06:52:01.252423Z"
    },
    "id": "af1cd79f",
    "outputId": "857ae9e8-fade-4300-fdde-64b6bc43ef70",
    "trusted": true
   },
   "outputs": [
    {
     "data": {
      "image/png": "[encoded data removed]",
      "text/plain": [
       "<Figure size 1000x200 with 2 Axes>"
      ]
     },
     "metadata": {},
     "output_type": "display_data"
    }
   ],
   "source": [
    "lens = np.array([len(dataset[i]['text'].split()) for i in range(len(dataset))])\n",
    "\n",
    "plt.figure(figsize=(10, 2))\n",
    "plt.subplot(1, 2, 1)\n",
    "plt.hist(lens, bins=50)\n",
    "plt.title('Распределение длин текстов')\n",
    "\n",
    "plt.subplot(1, 2, 2)\n",
    "plt.hist(lens[lens < 600], bins=50)\n",
    "plt.title('Распределение длин текстов короче 600 слов')\n",
    "\n",
    "plt.show()"
   ]
  },
  {
   "cell_type": "markdown",
   "id": "45be8bd5",
   "metadata": {
    "id": "45be8bd5"
   },
   "source": [
    "Видим, что тексты часто довольно длинные. Поэтому смухлевать не получится и перед векторизацией нужно будет разбивать каждый текст на небольшие куски, чтобы не перегружать контекст модели и чтобы потерять важную информацию при векторизацци текстов на этапе складывания их в векторную базу данных.\n",
    "\n",
    "Приступим к реализации RAG."
   ]
  },
  {
   "cell_type": "markdown",
   "id": "bdeabe13",
   "metadata": {
    "id": "bdeabe13"
   },
   "source": [
    "## Retrieval‑Augmented Generation\n",
    "\n",
    "В качестве основы для ассистента возьмите модель [`Qwen/Qwen2-1.5B-Instruct`](https://huggingface.co/Qwen/Qwen2-1.5B-Instruct) из huggingface. Важно, что это `Instruct` модель, то есть она предлазначена для общения в формате диалога.\n",
    "\n",
    "__Задание 0 (0 баллов).__ Проверьте, как модель отвечает на кулинарные вопросы без RAG. Это необходимо сделать, чтобы понять, нужен ли вообще RAG для данной задачи."
   ]
  },
  {
   "cell_type": "code",
   "execution_count": null,
   "id": "ba3c508d-7db6-424a-94c5-2bfd85ee497a",
   "metadata": {
    "colab": {
     "base_uri": "https://localhost:8080/",
     "height": 192,
     "referenced_widgets": [
      "5128742b41fe4b9284ac7d7a4d142ba8",
      "296c343ce42d4be89520db010f70a270",
      "c12af7b01ca04922932a99b750cd44c2",
      "06a5969a64fa4acc8b45c53f73f94ff4",
      "376e9b99f8b843d0a621a468b605770a",
      "d3d918d1e69440ad9a0f49ae74ff4791",
      "9f6af8bb88dd46e498b92618b064fb07",
      "d6415c8ca8854d4882ea1c97da5985f0",
      "0e217d41d35840609f92ea307c2380e3",
      "7c15dfe36b924a03abe0efd4011b644d",
      "1340afa607af4ec298d4d695942cd775",
      "dbb8f534bdd841198f6cd71da9cd7c76",
      "5816e3c890f244959e407ddf07ec153f",
      "8d56fa1a69644216957ff9c874f174e1",
      "f8264a7b88c144a2b69a2db3cfa6af2e",
      "4aad8741f70047fdb8cf0752f2bb238b",
      "ac8cd1e51a1944fdbee3ce4da0766e47",
      "95a6961cd63545d4a9afcf60fd171431",
      "86900754e5044cb79d2a8d62e838c7cf",
      "ffc4cd73f2a74402b353ac6d86b068d2",
      "e27be415f2da4207910d5d463610d5fd",
      "cdededc97663416493b4156064fd96b1"
     ]
    },
    "execution": {
     "iopub.execute_input": "2024-12-15T06:52:02.411824Z",
     "iopub.status.busy": "2024-12-15T06:52:02.411536Z",
     "iopub.status.idle": "2024-12-15T06:53:37.777038Z",
     "shell.execute_reply": "2024-12-15T06:53:37.776067Z",
     "shell.execute_reply.started": "2024-12-15T06:52:02.411796Z"
    },
    "id": "ba3c508d-7db6-424a-94c5-2bfd85ee497a",
    "outputId": "1b8815ac-c15c-411a-9ff3-a752a2228eab",
    "trusted": true
   },
   "outputs": [],
   "source": [
    "from transformers import AutoModelForCausalLM, AutoTokenizer\n",
    "device = \"cuda\"\n",
    "\n",
    "model = AutoModelForCausalLM.from_pretrained(\n",
    "    \"Qwen/Qwen2-1.5B-Instruct\",\n",
    "    torch_dtype=\"auto\",\n",
    "    device_map=\"auto\"\n",
    ")\n",
    "tokenizer = AutoTokenizer.from_pretrained(\"Qwen/Qwen2-1.5B-Instruct\")\n",
    "\n",
    "def infer_model(prompt):\n",
    "    messages = [\n",
    "        {\"role\": \"system\", \"content\": \"Ты — опытный кулинарный эксперт и информационный ресурс по всем вопросам, связанным с приготовлением пищи. Ты также можешь отвечать на вопросы о кулинарных техниках, ингредиентах, оборудовании, хранении продуктов и любых других темах, связанных с кулинарией.  Твои ответы должны быть точными, информативными и понятными.\"},\n",
    "        {\"role\": \"user\", \"content\": prompt}\n",
    "    ]\n",
    "    text = tokenizer.apply_chat_template(\n",
    "        messages,\n",
    "        tokenize=False,\n",
    "        add_generation_prompt=True\n",
    "    )\n",
    "    model_inputs = tokenizer([text], return_tensors=\"pt\").to(device)\n",
    "\n",
    "    generated_ids = model.generate(\n",
    "        model_inputs.input_ids,\n",
    "        max_new_tokens=512\n",
    "    )\n",
    "    generated_ids = [\n",
    "        output_ids[len(input_ids):] for input_ids, output_ids in zip(model_inputs.input_ids, generated_ids)\n",
    "    ]\n",
    "\n",
    "    response = tokenizer.batch_decode(generated_ids, skip_special_tokens=True)[0]\n",
    "\n",
    "    return response\n"
   ]
  },
  {
   "cell_type": "code",
   "execution_count": 9,
   "id": "nv7eBIneqlL4",
   "metadata": {
    "colab": {
     "base_uri": "https://localhost:8080/"
    },
    "execution": {
     "iopub.execute_input": "2024-12-14T14:42:11.863964Z",
     "iopub.status.busy": "2024-12-14T14:42:11.863406Z",
     "iopub.status.idle": "2024-12-14T14:42:31.863839Z",
     "shell.execute_reply": "2024-12-14T14:42:31.862919Z",
     "shell.execute_reply.started": "2024-12-14T14:42:11.863933Z"
    },
    "id": "nv7eBIneqlL4",
    "outputId": "8731367d-17db-46ac-add1-10d0010e2b5a",
    "trusted": true
   },
   "outputs": [
    {
     "name": "stderr",
     "output_type": "stream",
     "text": [
      "The attention mask is not set and cannot be inferred from input because pad token is same as eos token. As a consequence, you may observe unexpected behavior. Please pass your input's `attention_mask` to obtain reliable results.\n"
     ]
    },
    {
     "name": "stdout",
     "output_type": "stream",
     "text": [
      "Запеченные утки - это вкусная и нежная кулинарная особенность. Вот несколько простых шагов, которые помогут вам сделать их:\n",
      "\n",
      "**Ингредиенты:**\n",
      "\n",
      "- 1 курица (или другие виды мяса)\n",
      "- 2 стакана воды\n",
      "- Соль, перец по вкусу\n",
      "- Зелень для украшения (например, петрушка или луковички)\n",
      "\n",
      "**Рецепт:**\n",
      "\n",
      "1. Нарезьте мясо тонкими дольками.\n",
      "2. В большой миске смешайте воду и добавьте в нее мясо, а затем все добавьте в котleta. Поместите в кастрюлю и доведите до кипения.\n",
      "3. Залейте водой и обложите крышкой. Оставьте на слабом огне около 40 минут или до полной готовности.\n",
      "4. Уберите изо кастрюли и дайте ему немного отдохнуть.\n",
      "5. Заверните каждый кусок в фольгу и запекайте в духовке при температуре 180 градусов Цельсия примерно 2 часа.\n",
      "\n",
      "Это будет замечательным блюдом для праздничного стола или просто как приятное угощение. Если вы хотите добавить больше зелени, можете использовать чеснок, морковь или лук, которые будут прекрасно сочетаться с мясом. \n",
      "\n",
      "Помните, что время приготовления может меняться в зависимости от размера вашей курицы и ее состояния перед приготовлением.\n"
     ]
    }
   ],
   "source": [
    "print(infer_model(\"Запеченая утка\"))"
   ]
  },
  {
   "cell_type": "code",
   "execution_count": 10,
   "id": "777702f6-4906-4fb7-9ec1-2abdd8304663",
   "metadata": {
    "execution": {
     "iopub.execute_input": "2024-12-14T14:42:31.865158Z",
     "iopub.status.busy": "2024-12-14T14:42:31.864888Z",
     "iopub.status.idle": "2024-12-14T14:42:50.523830Z",
     "shell.execute_reply": "2024-12-14T14:42:50.522928Z",
     "shell.execute_reply.started": "2024-12-14T14:42:31.865132Z"
    },
    "trusted": true
   },
   "outputs": [
    {
     "name": "stdout",
     "output_type": "stream",
     "text": [
      "Селдий (или сельдь) - это очень вкусное и питательное мясо, которое часто готовится в виде \"под шубой\". Этот метод приготовления позволяет сохранить максимум свежести мяса и улучшает его текстуру.\n",
      "\n",
      "Вот как вы можете сделать селдий под шубой:\n",
      "\n",
      "Ингредиенты:\n",
      "- 1 килограмм селедки\n",
      "- 3 зубчика чеснока\n",
      "- 2 столовые ложки соли\n",
      "- 1 столовая ложка муки\n",
      "- 2 столовые ложки сахара\n",
      "- 1 столовая ложка меда\n",
      "\n",
      "Приготовление:\n",
      "1. Нарежьте селедку на небольшие кусочки.\n",
      "2. В большой миске смешайте соль, сахар, муку и мед. \n",
      "3. Добавьте натертое чесноком и перемешайте до получения однородной массы.\n",
      "4. Смешанную массу выложите на селедку и аккуратно перемешайте. \n",
      "5. Запекайте в духовке на среднем огне около 30 минут или пока не станет достаточно мягким для поглощения соленого соуса.\n",
      "6. Выньте селдий из духовки и дайте ему немного остыть перед подачей.\n",
      "\n",
      "Этот рецепт подходит для использования даже в домашних условиях, если есть доступ к хорошему магазину соленого соуса. Это очень вкусное и простое блюдо, которое можно легко приготовить дома и радовать своих гостей.\n"
     ]
    }
   ],
   "source": [
    "print(infer_model(\"Селдь под шубой\"))"
   ]
  },
  {
   "cell_type": "code",
   "execution_count": 15,
   "id": "y12K1-2cuvxu",
   "metadata": {
    "colab": {
     "base_uri": "https://localhost:8080/"
    },
    "execution": {
     "iopub.execute_input": "2024-12-14T14:52:16.085081Z",
     "iopub.status.busy": "2024-12-14T14:52:16.084489Z",
     "iopub.status.idle": "2024-12-14T14:52:41.000841Z",
     "shell.execute_reply": "2024-12-14T14:52:40.999955Z",
     "shell.execute_reply.started": "2024-12-14T14:52:16.085044Z"
    },
    "id": "y12K1-2cuvxu",
    "outputId": "a539fdf2-7382-4aff-9fec-3188dc56e65e",
    "trusted": true
   },
   "outputs": [
    {
     "name": "stdout",
     "output_type": "stream",
     "text": [
      "Вы хотите готовить говядину с брокколи? Вот несколько простых шагов:\n",
      "\n",
      "1. **Подготовка ингредиентов**: \n",
      "\n",
      "   - Говядина (обычно используется жареная или запеченная). Вы можете использовать мясо любой степени готовности.\n",
      "   - Брокколи. Это может быть свежее или вареное брокколи.\n",
      "   - Лук. Чешуйчатый или белый лук.\n",
      "   - Соль и перец по вкусу.\n",
      "   - Масло для обжаривания.\n",
      "\n",
      "2. **Поместите брокколи в воде для варки, пока не станет мягким.**\n",
      "\n",
      "3. **Сначала обжарьте лук в масле. Это поможет ему стать более сочным и подчеркнет его аромат. Держите его на медленном огне до тех пор, пока он не станет прозрачным.**\n",
      "\n",
      "4. **Время от времени помешивайте, чтобы избежать образования комков. Постепенно добавляйте мясо и продолжайте обжаривать до тех пор, пока оно не станет достаточно прожаренным. Важно, чтобы мясо было достаточно мягким, чтобы оно легко было разрезать на кусочки, но не слишком мягким, чтобы оно не было твердым после того, как оно будет приготовлено.**\n",
      "\n",
      "5. **Добавьте варенное брокколи и продолжайте обжаривать, пока брокколи не начнет становиться мягким.**\n",
      "\n",
      "6. **После этого добавьте специи (солень, черный перец), если вы используете их.**\n",
      "\n",
      "7. **Накрыть все это на небольшой сковородке или большой сковороде, чтобы обеспечить равномерное обжаривание всех компонентов.**\n",
      "\n",
      "8. **После того, как все ингредиенты будут хорошо обжарены, можно переключить на средний огонь и добавить молоко или другой жидкость, чтобы мясо стало более жидким. Продолжайте варить, пока мясо не станет достаточно мягким.**\n",
      "\n",
      "9. **Когда мясо полностью готово, можно подавать на стол.\n"
     ]
    }
   ],
   "source": [
    "print(infer_model(\"Говядина с брокколи\"))"
   ]
  },
  {
   "cell_type": "code",
   "execution_count": 9,
   "id": "d95d2ec9-e7ab-4e38-aab0-9ce8612e61b1",
   "metadata": {
    "execution": {
     "iopub.execute_input": "2024-12-15T06:53:37.779136Z",
     "iopub.status.busy": "2024-12-15T06:53:37.778376Z",
     "iopub.status.idle": "2024-12-15T06:53:37.783622Z",
     "shell.execute_reply": "2024-12-15T06:53:37.782751Z",
     "shell.execute_reply.started": "2024-12-15T06:53:37.779090Z"
    },
    "trusted": true
   },
   "outputs": [],
   "source": [
    "test_recipe_names = [\"Запеченая утка\", \"Селдь под шубой\", \"Говядина с брокколи\"]"
   ]
  },
  {
   "cell_type": "markdown",
   "id": "SAhX3GnTwgh5",
   "metadata": {
    "id": "SAhX3GnTwgh5"
   },
   "source": [
    "Можно заметить, что в ответах модели иногда встречается китайский язык, в примере с борщем она сильно наврала, в последнем примере она отказалась генерировать рецепт. Думаю раг тут однозначно будет полезен."
   ]
  },
  {
   "cell_type": "markdown",
   "id": "5466d510",
   "metadata": {
    "id": "5466d510"
   },
   "source": [
    "### Locality Sensitive Hashing (LSH)\n",
    "\n",
    "В RAG для каждого запроса необходимо искать релевантные документы по векторной базе данных. Так как документов очень много, подсчет релевантности для каждого из них будет занимать очень много времени. Поэтому нам важно, чтобы поиск был быстрым. Для достижения этого мы даже готовы немного пожертвовать точностью.\n",
    "\n",
    "В этой секции вам предстоит реализовать [Locality Sensitive Hashing](https://ru.wikipedia.org/wiki/Locality-sensitive_hashing).\n",
    "\n",
    "Идея LSH довольна проста. Разделим все векторы из базы данных на группы, состоящие из похожих векторов. В начале поиска определим группу, которая соответствует вектору запроса и будем считать релевантность только для объектов из этой группы. Для разбиения на группы мы введем несколько хеш-функций. Каждая их них будет строиться по следующему алгоритму:\n",
    "1. Сгенерируем $k$ случайных векторов (векторы нормали гиперплоскости)\n",
    "2. Для отдельной точки (вектора) в базе данных и вектора нормали запишем 1, если точка лежит над соответствующей гиперплоскостью. В обратном случае запишем 0.\n",
    "3. Повторим процедуру для всех точек и векторов нормали. Так мы для каждой точки получим список из $k$ 0 и 1, который и будет хешем.\n",
    "4. Запишем в хеш-таблицу найденные точки для каждого хеша.\n",
    "5. Повторим шаги 1-4 $L$ раз и получим $L$ разных хеш-таблиц.\n",
    "\n",
    "Теперь для каждого нового вектора $q$ мы можем очень быстро найти набор векторов похожих на него. Для этого посчитаем хеши запроса в каждой хеш-таблице и возьмем все точки, у которых хеш совпал c $q$ хотя бы в одной из них. Затем переранжируем найденные точки по релевантности (расстоянию до вектора запроса) и оставим заданное число самых близких.\n",
    "\n",
    "Сложность формирования хеш-таблиц можно оценить как $O(nLkd)$, где $n$ – число векторов в базе данных, а $d$ – размерность вектора. В то же время сложность поиска LSH – $O(Lkd + (nLp) \\cdot d)$, где $p$ – вероятность того, что хеш двух случайных точек совпадет ($p$ стремится к 0). Сложность полного перебора – $O(nd)$, поэтому при поиске LSH работает быстрее почти в $\\frac{n}{Lk}$ раз!"
   ]
  },
  {
   "cell_type": "markdown",
   "id": "2e7a3346",
   "metadata": {
    "id": "2e7a3346"
   },
   "source": [
    "__Задание 1 (3 балла).__ Реализуйте векторную базу данных LSH поиском. База данных должна уметь добавлять новые векторы, а так же по входному вектору быстро находить ближайшие к нему. Во время создании базы данных сгенерируйте необходимое число хеш-функций. Подумайте о том, как выбрать количество хеш-таблиц и число случайных векторов, а так же о том, из какого распределения брать эти случайные векторы. При добавлении нового вектора в базу данных, считайте для него хеш и записывайте, каким группам от принадлежит.\n",
    "\n",
    "Постарайтесь оптимизировать код и не забудьте протестировать, что ваш LSH работает так, как надо. Проще всего это сделать, построив базу данных с точками на двумерной плоскости. Также сравните скорость LSH поиска с полным перебором. Если вы все сделали правильно, то для 1000 точек вы должны получить ускорение поиска примерно в 4 раза."
   ]
  },
  {
   "cell_type": "code",
   "execution_count": null,
   "id": "d00913d4-aaf6-42e7-84d1-373612e7ddb9",
   "metadata": {
    "execution": {
     "iopub.execute_input": "2024-12-15T06:53:37.785500Z",
     "iopub.status.busy": "2024-12-15T06:53:37.784795Z",
     "iopub.status.idle": "2024-12-15T06:53:37.799075Z",
     "shell.execute_reply": "2024-12-15T06:53:37.798280Z",
     "shell.execute_reply.started": "2024-12-15T06:53:37.785461Z"
    },
    "id": "d00913d4-aaf6-42e7-84d1-373612e7ddb9",
    "trusted": true
   },
   "outputs": [],
   "source": [
    "import numpy as np\n",
    "from collections import defaultdict\n",
    "\n",
    "class LSHDatabase:\n",
    "    def __init__(self, num_tables, num_hashes, vector_dim):\n",
    "        self.num_tables = num_tables\n",
    "        self.num_hashes = num_hashes\n",
    "        self.vector_dim = vector_dim\n",
    "        self.hash_tables = [defaultdict(list) for _ in range(num_tables)]\n",
    "        self.random_vectors = [np.random.randn(num_hashes, vector_dim) for _ in range(num_tables)]\n",
    "        self.data = []\n",
    "\n",
    "    def _hash(self, vector, random_vectors):\n",
    "        projections = np.dot(random_vectors, vector)\n",
    "        return ''.join(['1' if p > 0 else '0' for p in projections])\n",
    "\n",
    "    def add(self, vector):\n",
    "        self.data.append(vector)\n",
    "        for i in range(self.num_tables):\n",
    "            hash_value = self._hash(vector, self.random_vectors[i])\n",
    "            self.hash_tables[i][hash_value].append(len(self.data) - 1)\n",
    "\n",
    "    def query(self, query_vector, max_dist=1, num_neighbors=5):\n",
    "        candidates = set()\n",
    "        for i in range(self.num_tables):\n",
    "            hash_value = self._hash(query_vector, self.random_vectors[i])\n",
    "            candidates.update(self.hash_tables[i].get(hash_value, []))\n",
    "\n",
    "        candidates = list(candidates)\n",
    "        distances = [np.linalg.norm(self.data[idx] - query_vector) for idx in candidates]\n",
    "        sorted_neighbors = sorted(zip(candidates, distances), key=lambda x: x[1])\n",
    "        return [idx for idx, dist in sorted_neighbors[:num_neighbors] if dist < max_dist]\n"
   ]
  },
  {
   "cell_type": "code",
   "execution_count": 11,
   "id": "9nV40WceELWq",
   "metadata": {
    "execution": {
     "iopub.execute_input": "2024-12-15T06:53:37.801665Z",
     "iopub.status.busy": "2024-12-15T06:53:37.801418Z",
     "iopub.status.idle": "2024-12-15T06:53:37.878325Z",
     "shell.execute_reply": "2024-12-15T06:53:37.877515Z",
     "shell.execute_reply.started": "2024-12-15T06:53:37.801642Z"
    },
    "id": "9nV40WceELWq",
    "trusted": true
   },
   "outputs": [
    {
     "name": "stdout",
     "output_type": "stream",
     "text": [
      "Ближайшие соседи (полный перебор): [  1 587 148 688  65]\n",
      "Ближайшие соседи (LSH): [1, 587, 148, 688, 65]\n",
      "Время полного перебора: 0.0045 с\n",
      "Время поиска LSH: 0.0013 с\n"
     ]
    }
   ],
   "source": [
    "import time\n",
    "\n",
    "vector_dim = 2\n",
    "data = np.random.rand(1000, vector_dim)\n",
    "lsh = LSHDatabase(num_tables=5, num_hashes=50, vector_dim=vector_dim)\n",
    "\n",
    "for vector in data:\n",
    "    lsh.add(vector)\n",
    "\n",
    "query_vector = np.random.rand(vector_dim)\n",
    "\n",
    "\n",
    "start_full = time.time()\n",
    "distances = [np.linalg.norm(vector - query_vector) for vector in data]\n",
    "nearest_neighbors_full = np.argsort(distances)[:5]\n",
    "end_full = time.time()\n",
    "\n",
    "\n",
    "start_lsh = time.time()\n",
    "nearest_neighbors_lsh = lsh.query(query_vector, num_neighbors=5)\n",
    "end_lsh = time.time()\n",
    "\n",
    "print(\"Ближайшие соседи (полный перебор):\", nearest_neighbors_full)\n",
    "print(\"Ближайшие соседи (LSH):\", nearest_neighbors_lsh)\n",
    "print(\"Время полного перебора: {:.4f} с\".format(end_full - start_full))\n",
    "print(\"Время поиска LSH: {:.4f} с\".format(end_lsh - start_lsh))\n"
   ]
  },
  {
   "cell_type": "markdown",
   "id": "3f1432ba",
   "metadata": {},
   "source": [
    "Как раз видим выигрышь в скорости примерно в 4 раза."
   ]
  },
  {
   "cell_type": "markdown",
   "id": "1cacde53",
   "metadata": {
    "id": "1cacde53"
   },
   "source": [
    "### Разбиение текста на куски\n",
    "\n",
    "Так как некоторые тексты довольно длинные, если мы будем кодировать их целиком одним вектором, то часть информации потеряется. Вектор все таки имеет ограниченный размер. Чтобы не терять информацию, мы поделим текст на куски и будем кодировать каждый кусок отдельно.\n",
    "\n",
    "__Задание 2 (2 балла).__ Реализуйте [рекурсивное разбиение](https://dev.to/eteimz/understanding-langchains-recursivecharactertextsplitter-2846) текста с уровнями `[\"\\n\\n\", \"\\n\", \" \", \"\"]`. Добавьте пересечение между кусками для уровней `[\" \", \"\"]`. То есть если целый абзац помещается в один кусок, то пересекать его ни с чем не надо (в нем содержится законченная мысль), а если абзац не влезает и его приходится делить по словам (или символам), то нужно добавить пересечение со словами из соседних кусков того же абзаца.\n",
    "\n",
    "Значения для максимального размера каждого куска и длины пересечения выберите самостоятельно. Надежнее всего брать размер пересечения равным половине длины куска."
   ]
  },
  {
   "cell_type": "code",
   "execution_count": 12,
   "id": "79e5619a-ab25-40bd-b6bd-0bb80eca88fc",
   "metadata": {
    "execution": {
     "iopub.execute_input": "2024-12-15T06:53:37.879600Z",
     "iopub.status.busy": "2024-12-15T06:53:37.879351Z",
     "iopub.status.idle": "2024-12-15T06:53:37.886142Z",
     "shell.execute_reply": "2024-12-15T06:53:37.885373Z",
     "shell.execute_reply.started": "2024-12-15T06:53:37.879577Z"
    },
    "id": "79e5619a-ab25-40bd-b6bd-0bb80eca88fc",
    "trusted": true
   },
   "outputs": [],
   "source": [
    "def recursive_split(text, max_chunk_size, levels=[\"\\n\\n\", \"\\n\", \" \", \"\"]):\n",
    "    if len(text) <= max_chunk_size:\n",
    "        return [text]\n",
    "\n",
    "    delimiter = levels[0]\n",
    "\n",
    "    if delimiter:\n",
    "        chunks = text.split(delimiter)\n",
    "    else:\n",
    "        chunks = list(text)\n",
    "\n",
    "    result = []\n",
    "    current_chunk = \"\"\n",
    "\n",
    "    for i, chunk in enumerate(chunks):\n",
    "        if len(current_chunk) + len(chunk) + len(delimiter) <= max_chunk_size:\n",
    "            current_chunk += (delimiter if current_chunk else \"\") + chunk\n",
    "        else:\n",
    "            if current_chunk:\n",
    "                result.append(current_chunk)\n",
    "            current_chunk = chunk\n",
    "\n",
    "    if current_chunk:\n",
    "        result.append(current_chunk)\n",
    "\n",
    "    overlap_size = max_chunk_size // 2\n",
    "    if levels[0] in [\" \", \"\"]:\n",
    "        for i in range(1, len(result)):\n",
    "            overlap = result[i - 1][-overlap_size:] + delimiter + result[i][:overlap_size - 1]\n",
    "            result.append(overlap)\n",
    "\n",
    "    final_result = []\n",
    "    for chunk in result:\n",
    "        final_result.extend(recursive_split(chunk, max_chunk_size, levels[1:]))\n",
    "    return final_result"
   ]
  },
  {
   "cell_type": "code",
   "execution_count": 13,
   "id": "NglxRtlSEPuI",
   "metadata": {
    "execution": {
     "iopub.execute_input": "2024-12-15T06:53:37.887424Z",
     "iopub.status.busy": "2024-12-15T06:53:37.887171Z",
     "iopub.status.idle": "2024-12-15T06:53:37.898381Z",
     "shell.execute_reply": "2024-12-15T06:53:37.897526Z",
     "shell.execute_reply.started": "2024-12-15T06:53:37.887401Z"
    },
    "id": "NglxRtlSEPuI",
    "trusted": true
   },
   "outputs": [
    {
     "name": "stdout",
     "output_type": "stream",
     "text": [
      "Количество кусков: 6\n",
      "Кусок 1:\n",
      "12345 12345\n",
      "\n",
      "Кусок 2:\n",
      "1234512345\n",
      "\n",
      "Кусок 3:\n",
      " 12345 12345\n",
      "\n",
      "Кусок 4:\n",
      "6789 6798\n",
      "\n",
      "Кусок 5:\n",
      "6789\n",
      "\n",
      "Кусок 6:\n",
      "9 6798 6789\n",
      "\n"
     ]
    }
   ],
   "source": [
    "text = \"\"\"12345 12345 1234512345\n",
    "6789 6798 6789\"\"\"\n",
    "\n",
    "chunks = recursive_split(text, 12)\n",
    "print(\"Количество кусков:\", len(chunks))\n",
    "for i, chunk in enumerate(chunks):\n",
    "    print(f\"Кусок {i + 1}:\\n{chunk}\\n\")\n"
   ]
  },
  {
   "cell_type": "markdown",
   "id": "5ca5441c",
   "metadata": {
    "id": "5ca5441c"
   },
   "source": [
    "## RAG\n",
    "\n",
    "Наконец мы можем начать собирать систему RAG. Для начала соберем векторую базу данных из кусков рецептов. Для получения эмбеддингов текстов возьмите модель [`intfloat/multilingual-e5-large`](https://huggingface.co/intfloat/multilingual-e5-large), она создана специально для этой задачи и хорошо работает с русским языком.\n",
    "\n",
    "__Задание 3 (1 балл).__ Соберите векторую базу данных с помощью написанных вами функций. Процесс не должен занимать много времени с GPU, но мы рекомендуем сохранить результат на диск, чтобы не векторизовать весь датасет заново при перезапуске ядра. Проверьте, что по запросу возвращаются релевантные тексты."
   ]
  },
  {
   "cell_type": "code",
   "execution_count": 11,
   "id": "1ff4bff1-ab1c-4dba-9abe-3145a34e97c0",
   "metadata": {
    "execution": {
     "iopub.execute_input": "2024-12-15T06:53:37.899765Z",
     "iopub.status.busy": "2024-12-15T06:53:37.899434Z",
     "iopub.status.idle": "2024-12-15T06:53:46.714791Z",
     "shell.execute_reply": "2024-12-15T06:53:46.713681Z",
     "shell.execute_reply.started": "2024-12-15T06:53:37.899727Z"
    },
    "trusted": true
   },
   "outputs": [],
   "source": [
    "# %pip install sentence_transformers"
   ]
  },
  {
   "cell_type": "code",
   "execution_count": null,
   "id": "d854e894",
   "metadata": {
    "execution": {
     "iopub.execute_input": "2024-12-15T06:53:46.716518Z",
     "iopub.status.busy": "2024-12-15T06:53:46.716193Z",
     "iopub.status.idle": "2024-12-15T06:54:11.789848Z",
     "shell.execute_reply": "2024-12-15T06:54:11.788855Z",
     "shell.execute_reply.started": "2024-12-15T06:53:46.716488Z"
    },
    "id": "d854e894",
    "trusted": true
   },
   "outputs": [],
   "source": [
    "from sentence_transformers import SentenceTransformer\n",
    "embed_model = SentenceTransformer('intfloat/multilingual-e5-large')"
   ]
  },
  {
   "cell_type": "code",
   "execution_count": null,
   "id": "SIRt6erPEUdx",
   "metadata": {
    "execution": {
     "iopub.execute_input": "2024-12-15T06:54:11.792388Z",
     "iopub.status.busy": "2024-12-15T06:54:11.791206Z",
     "iopub.status.idle": "2024-12-15T06:54:11.796509Z",
     "shell.execute_reply": "2024-12-15T06:54:11.795651Z",
     "shell.execute_reply.started": "2024-12-15T06:54:11.792339Z"
    },
    "id": "SIRt6erPEUdx",
    "trusted": true
   },
   "outputs": [],
   "source": [
    "input_texts = []\n",
    "chunked_texts2 = []\n",
    "for sample in dataset:\n",
    "  pre_chunks = recursive_split(sample[\"text\"], 512)\n",
    "  chunks = [chunk for chunk in pre_chunks if len(chunk) > 50 and 'forum.povarenok.ru' not in chunk]\n",
    "\n",
    "  for chunk in chunks:\n",
    "    input_texts.append(\n",
    "        f'passage: {chunk}'\n",
    "    )\n",
    "\n",
    "  for_prompting = [{\n",
    "      'name': sample['name'],\n",
    "      'ingredients': sample['ingredients'],\n",
    "      'text': chunk\n",
    "  } for chunk in chunks]\n",
    "  chunked_texts2.extend(for_prompting)\n",
    "\n",
    "embeddings2 = embed_model.encode(input_texts, normalize_embeddings=True)\n",
    "import torch\n",
    "torch.save(embeddings2, 'embeds2.pt')\n",
    "torch.save(chunked_texts2, 'texts2.pt')"
   ]
  },
  {
   "cell_type": "code",
   "execution_count": null,
   "id": "050c51cb-f5e7-4895-b7a9-1b499724d1f6",
   "metadata": {
    "execution": {
     "iopub.execute_input": "2024-12-15T06:54:11.797844Z",
     "iopub.status.busy": "2024-12-15T06:54:11.797577Z",
     "iopub.status.idle": "2024-12-15T06:54:40.853245Z",
     "shell.execute_reply": "2024-12-15T06:54:40.852319Z",
     "shell.execute_reply.started": "2024-12-15T06:54:11.797819Z"
    },
    "trusted": true
   },
   "outputs": [],
   "source": [
    "import gdown\n",
    "\n",
    "# v1\n",
    "gdown.download(id='1RGvG0eRdUdOyDgSYyWtU8hZ-ioKCMOpT')\n",
    "gdown.download(id='1aUKz8uPlPGuuZQuwIGHfXIoVLsnYpmqc')\n",
    "\n",
    "# v2\n",
    "gdown.download(id='1Bj1CpR58KqMH9lgCldhRT1olpoH-cZaT')\n",
    "gdown.download(id='10HMFb0ebz-uNRAzDa8Z_F0A0jqqLAF1g')"
   ]
  },
  {
   "cell_type": "code",
   "execution_count": null,
   "id": "6b72d94e-799f-4a8e-9df2-65d07e1ebde1",
   "metadata": {
    "execution": {
     "iopub.execute_input": "2024-12-15T06:54:40.855541Z",
     "iopub.status.busy": "2024-12-15T06:54:40.855207Z",
     "iopub.status.idle": "2024-12-15T06:54:42.797015Z",
     "shell.execute_reply": "2024-12-15T06:54:42.796118Z",
     "shell.execute_reply.started": "2024-12-15T06:54:40.855514Z"
    },
    "trusted": true
   },
   "outputs": [],
   "source": [
    "import torch \n",
    "\n",
    "embeddings = torch.load('embeds2.pt')\n",
    "chunked_texts = torch.load('texts2.pt')"
   ]
  },
  {
   "cell_type": "code",
   "execution_count": 19,
   "id": "f89ba369-2cc9-4852-8e62-4d176ea3b978",
   "metadata": {
    "execution": {
     "iopub.execute_input": "2024-12-15T06:54:42.798446Z",
     "iopub.status.busy": "2024-12-15T06:54:42.798144Z",
     "iopub.status.idle": "2024-12-15T06:54:57.232911Z",
     "shell.execute_reply": "2024-12-15T06:54:57.229983Z",
     "shell.execute_reply.started": "2024-12-15T06:54:42.798419Z"
    },
    "trusted": true
   },
   "outputs": [
    {
     "name": "stderr",
     "output_type": "stream",
     "text": [
      "100%|██████████| 35683/35683 [00:14<00:00, 2475.86it/s]\n"
     ]
    }
   ],
   "source": [
    "from tqdm import tqdm\n",
    "db = LSHDatabase(\n",
    "    num_hashes=30,\n",
    "    num_tables=10,\n",
    "    vector_dim=1024\n",
    ")\n",
    "\n",
    "for emb in tqdm(embeddings, total=len(embeddings)):\n",
    "  db.add(emb)"
   ]
  },
  {
   "cell_type": "markdown",
   "id": "32be1847-e8c6-426f-823e-361e17fb5c3b",
   "metadata": {},
   "source": [
    "Проверим, что по запросу возвращаются релевантные тексты:"
   ]
  },
  {
   "cell_type": "code",
   "execution_count": 50,
   "id": "81a8570f-0fff-4791-bc2b-4ffd64499a5c",
   "metadata": {
    "execution": {
     "iopub.execute_input": "2024-12-14T09:58:25.541744Z",
     "iopub.status.busy": "2024-12-14T09:58:25.541377Z",
     "iopub.status.idle": "2024-12-14T09:58:25.600890Z",
     "shell.execute_reply": "2024-12-14T09:58:25.599169Z",
     "shell.execute_reply.started": "2024-12-14T09:58:25.541713Z"
    },
    "trusted": true
   },
   "outputs": [
    {
     "data": {
      "application/vnd.jupyter.widget-view+json": {
       "model_id": "bdf7dd15eddb45f1b6b77f3be828b54b",
       "version_major": 2,
       "version_minor": 0
      },
      "text/plain": [
       "Batches:   0%|          | 0/1 [00:00<?, ?it/s]"
      ]
     },
     "metadata": {},
     "output_type": "display_data"
    },
    {
     "name": "stdout",
     "output_type": "stream",
     "text": [
      "Блюдо 0:\n",
      "\tНазвание блюда: Запеканка под майонезно-сырной заливкой\n",
      "\tТребующиеся ингридиенты: ['Картофель', 'Колбаса', 'Сыр полутвердый', 'Яйцо куриное', 'Молоко', 'Зелень', 'Майонез', 'Кетчуп', 'Соль', 'Перец черный']\n",
      "\tРелевантная часть рецепта: равномерно распределяя её по верхнему слою картофеля. Еще немного майонеза (сеточкой) и сверху посыпаем оставшимся тертым сыром. Форму с запеканкой ставим в разогретую духовку минут на 20 - 30, до расплавления и запекания сыра. Температура 180-190 градусов. Готовую запеканку сразу подаем, можно посыпать сверху рубленой свежей зеленью. Очень вкусно и просто. Приятного аппетита!\n",
      "\n",
      "Блюдо 1:\n",
      "\tНазвание блюда: Картофельная лазанья\n",
      "\tТребующиеся ингридиенты: ['Картофель', 'Фарш мясной', 'Лук репчатый', 'Помидор', 'Сыр твердый', 'Кетчуп', 'Соль', 'Перец черный']\n",
      "\tРелевантная часть рецепта: 5-7. На смазанную бумагу для выпечки выкладываем слой картофеля Потом фарша половину Третью часть тертого сыра, потом опять картошка, фарш, сыр Сверху выкладываем шахматкой кольца помидора и картофеля (идею когда-то давно подсмотрела в крекерной лазанье из журнала \"Единственная\"), немножко соли, перца и остатки сыра. В разогретую духовку 175 С на 20-25 минут, до зарумянивания сыра. Приятного аппетита!!!\n",
      "\n",
      "Блюдо 2:\n",
      "\tНазвание блюда: Картофель по-донецки с соусом\n",
      "\tТребующиеся ингридиенты: ['Картофель', 'Майонез', 'Сыр твердый', 'Помидор', 'Специи', 'Лук репчатый', 'Перец болгарский', 'Морковь']\n",
      "\tРелевантная часть рецепта: ть сыр. Ставим в духовку 200, желательно накрыть фольгой в начале, минут на 20, затем снять, пусть подрумянится. Пока готовится картофель, делаем соус. Шинкуем лук, помидоры, перец, морковь режем по желанию. Теперь начинаем пассировать: сначала выкладываем морковь, минут через 5 -7, добавляем лук, опять-же, через 5 минут, еще минут через 5 добавляем перец, все вместе жарим минут 10, затем добавляем помидорки, тушим все вместе. В конце готовки добавляем специи, мой вариант: сушенный укроп, прованская зелень,\n",
      "\n",
      "\n"
     ]
    }
   ],
   "source": [
    "query = [\n",
    "    f'query: Запеканка с плавленым сыром и картофелем'\n",
    "]\n",
    "embeddings = embed_model.encode(query, normalize_embeddings=True)\n",
    "neighbours = db.query(embeddings[0], num_neighbors=3)\n",
    "raged_samples = ''\n",
    "for i, neigh in enumerate(neighbours):\n",
    "    raged_samples += f'Блюдо {i}:\\n'\n",
    "    raged_samples += f'\\tНазвание блюда: {chunked_texts[neigh][\"name\"]}\\n'\n",
    "    raged_samples += f'\\tТребующиеся ингридиенты: {chunked_texts[neigh][\"ingredients\"]}\\n'\n",
    "    raged_samples += f'\\tРелевантная часть рецепта: {chunked_texts[neigh][\"text\"]}\\n\\n'\n",
    "\n",
    "print(raged_samples)"
   ]
  },
  {
   "cell_type": "code",
   "execution_count": 53,
   "id": "b6576952-c52b-4116-ae98-b05fd9b66f89",
   "metadata": {
    "execution": {
     "iopub.execute_input": "2024-12-14T09:59:41.361022Z",
     "iopub.status.busy": "2024-12-14T09:59:41.360296Z",
     "iopub.status.idle": "2024-12-14T09:59:41.473539Z",
     "shell.execute_reply": "2024-12-14T09:59:41.472458Z",
     "shell.execute_reply.started": "2024-12-14T09:59:41.360985Z"
    },
    "trusted": true
   },
   "outputs": [
    {
     "data": {
      "application/vnd.jupyter.widget-view+json": {
       "model_id": "3bf48da9037f43279b3a3fafc49d033c",
       "version_major": 2,
       "version_minor": 0
      },
      "text/plain": [
       "Batches:   0%|          | 0/1 [00:00<?, ?it/s]"
      ]
     },
     "metadata": {},
     "output_type": "display_data"
    },
    {
     "name": "stdout",
     "output_type": "stream",
     "text": [
      "Блюдо 0:\n",
      "\tНазвание блюда: Салат «Оливье с майонезом»\n",
      "\tТребующиеся ингридиенты: ['Индейка', 'Картофель', 'Морковь', 'Яйцо куриное', 'Огурец', 'Лук красный', 'Горошек зеленый', 'Сыр твердый', 'Лук зеленый', 'Укроп', 'Молоко', 'Масло оливковое', 'Соль', 'Сахар', 'Горчица', 'Уксус']\n",
      "\tРелевантная часть рецепта: банку с горошком и перемешиваем все ингредиенты, получился большой «тазик» Оливье. Обратите внимание, что при помощи одного бытового предмета - мультиварки мы за 40 минут отварили мясо, картофель и морковь. И никакой лишней посуды, которую опять придется мыть, у Вас не будет на кухне. Переходим к майонезу, все компоненты (молоко, масло, соль, горчицу, уксус, соль, сахар) поместить в высокую чашу погружного блендера и на больших оборотах взбить до консистенции майонеза. У меня ушла 1 минута, майонез\n",
      "\n",
      "Блюдо 1:\n",
      "\tНазвание блюда: Французский омлет\n",
      "\tТребующиеся ингридиенты: ['Яйцо куриное', 'Соль', 'Масло сливочное']\n",
      "\tРелевантная часть рецепта:  наследие. Это французский омлет. В него влюбляешься не только с первой вилки, но и с первого взгляда. Яйца, сливочное масло, и немного сноровки. Уверен, всё перечисленное у вас есть. Попробуйте приготовить это, очень простое, блюдо, с которого так приятно начинать новый день.\n",
      "\n",
      "Блюдо 2:\n",
      "\tНазвание блюда: Картофель \"Морская фантазия\"\n",
      "\tТребующиеся ингридиенты: ['Картофель', 'Семга', 'Готовое блюдо', 'Масло оливковое']\n",
      "\tРелевантная часть рецепта: ого оливкового масла. Я являюсь поклонником Дженифера Оливера, позаимствовал его рецепт перечного масла. Теперь этот продут, у нас главный на столе! Наш картофель готов! Берем самую красивую тарелку и выкладываем наш картофель. Даем возможность разыграться нашей фантазии по украшению БЛЮДА и ВПЕРЕД, К ЛЮБИМОЙ!!! Приятного аппетита! Вкус превзошел ожидания!!!\n",
      "\n",
      "\n"
     ]
    }
   ],
   "source": [
    "query = [\n",
    "    f'query: Оливье'\n",
    "]\n",
    "embeddings = embed_model.encode(query, normalize_embeddings=True)\n",
    "neighbours = db.query(embeddings[0], num_neighbors=3)\n",
    "raged_samples = ''\n",
    "for i, neigh in enumerate(neighbours):\n",
    "    raged_samples += f'Блюдо {i}:\\n'\n",
    "    raged_samples += f'\\tНазвание блюда: {chunked_texts[neigh][\"name\"]}\\n'\n",
    "    raged_samples += f'\\tТребующиеся ингридиенты: {chunked_texts[neigh][\"ingredients\"]}\\n'\n",
    "    raged_samples += f'\\tРелевантная часть рецепта: {chunked_texts[neigh][\"text\"]}\\n\\n'\n",
    "\n",
    "print(raged_samples)"
   ]
  },
  {
   "cell_type": "markdown",
   "id": "0dd4eb08-b601-42d2-9a4b-e6e42c10e75f",
   "metadata": {},
   "source": [
    "Ну вроде ничего, похожие рецепты ищутся."
   ]
  },
  {
   "cell_type": "markdown",
   "id": "ba99f278-6158-46ca-99b7-2b58a2af62ad",
   "metadata": {
    "id": "ba99f278-6158-46ca-99b7-2b58a2af62ad"
   },
   "source": [
    "### Формирование контекста для модели и генерация ответа\n",
    "\n",
    "Из всех компонент RAG эта самая творческая. Надо придумать промпт, который будет лучше всего помогать модели генерировать ответ.\n",
    "\n",
    "__Задание 4 (1 балл).__ Напишите функцию для генерации ответа по текстовому запросу в парадигме RAG. Найдите релевантные документы и соберите из них промпт, объяснив дополнительно модели, что от нее требуется. Количество текстов в промпте ограничивайте отбирая топ самых релевантных. Заметьте, что в нашем датасете помимо рецепта есть список ингредиентов и название блюда. Подумайте о том, как можно их использовать. Предайте промпт в модель для получения ответа. Подберите гиперпараметры генерации, чтобы контролировать разнообразие. Помните, что модель должна строго соответствовать инструкциям, не придумывать факты и не генерировать то, что от нее не требуется. Продемонстрируйте ваши результаты на 3-5 примерах."
   ]
  },
  {
   "cell_type": "code",
   "execution_count": null,
   "id": "1715f28d-8d4c-4948-832b-93a3251966bc",
   "metadata": {
    "execution": {
     "iopub.execute_input": "2024-12-15T06:54:57.235517Z",
     "iopub.status.busy": "2024-12-15T06:54:57.235046Z",
     "iopub.status.idle": "2024-12-15T06:54:57.254827Z",
     "shell.execute_reply": "2024-12-15T06:54:57.253794Z",
     "shell.execute_reply.started": "2024-12-15T06:54:57.235463Z"
    },
    "trusted": true
   },
   "outputs": [],
   "source": [
    "def raged_prompt_generator(prompt):\n",
    "    query = [\n",
    "        f'query: {prompt}'\n",
    "    ]\n",
    "    embeddings = embed_model.encode(query, normalize_embeddings=True)\n",
    "    neighbours = db.query(embeddings[0], num_neighbors=3)\n",
    "    new_prompt = \"Покажи рецепт для следующего блюда:\\n\"\n",
    "    new_prompt += prompt + '\\n\\n'\n",
    "    new_prompt += 'Ниже представлена информация о некоторых блюдах, можешь опираться на нее при ответе на мой вопрос. Информация содержит в себе название блюда, ингридиенты требующиеся для его приготовления, а так же наиболее релевантная запросу часть рецепта.\\n'\n",
    "    for i, neigh in enumerate(neighbours):\n",
    "        new_prompt += f'Блюдо {i}:\\n'\n",
    "        new_prompt += f'\\tНазвание блюда: {chunked_texts[neigh][\"name\"]}\\n'\n",
    "        new_prompt += f'\\tТребующиеся ингридиенты: {chunked_texts[neigh][\"ingredients\"]}\\n'\n",
    "        new_prompt += f'\\tРелевантная часть рецепта: {chunked_texts[neigh][\"text\"]}\\n\\n'\n",
    "\n",
    "    return new_prompt.strip()\n",
    "\n",
    "def infer_model_with_rag(prompt):\n",
    "    new_prompt = raged_prompt_generator(prompt)\n",
    "    return infer_model(new_prompt)"
   ]
  },
  {
   "cell_type": "code",
   "execution_count": 66,
   "id": "c6c759f7-b564-4a5e-b285-4a9c02b9876a",
   "metadata": {
    "execution": {
     "iopub.execute_input": "2024-12-14T17:46:51.605522Z",
     "iopub.status.busy": "2024-12-14T17:46:51.605187Z",
     "iopub.status.idle": "2024-12-14T17:47:18.418283Z",
     "shell.execute_reply": "2024-12-14T17:47:18.417427Z",
     "shell.execute_reply.started": "2024-12-14T17:46:51.605491Z"
    },
    "trusted": true
   },
   "outputs": [
    {
     "name": "stdout",
     "output_type": "stream",
     "text": [
      "Запеченные утки (или гусь) - это классический рецепт для праздничного стола. Вот как вы можете его приготовить:\n",
      "\n",
      "**Состав:** \n",
      "\n",
      "- Утка (1 штука)\n",
      "- Соль\n",
      "- Сахар\n",
      "- Оливковое масло\n",
      "\n",
      "**Ингредиенты для запекания:**\n",
      "\n",
      "- Масло для жарки (можно использовать жир из печени)\n",
      "- Соль\n",
      "- Сахар\n",
      "- Глазурь или сахарный сироп\n",
      "- Зерна льняной муки\n",
      "\n",
      "**Приготовление:**\n",
      "\n",
      "1. **Сушите утку:** Утку следует обработать так, чтобы удалить кожу и шкурку. Это можно сделать, поджарив ее в масле до золотистой корочки. Затем отрезайте кожу и шкурку.\n",
      "\n",
      "2. **Подготовьте заправку:** смешайте соль и сахар. \n",
      "\n",
      "3. **Нанесите на утку:** накройте утку марлей и положите в глубокую миску. Налейте заправку, чтобы она полностью покрыла утку.\n",
      "\n",
      "4. **Убедитесь в том, что утка не испачкается:** используйте марлю или салфетки для этого.\n",
      "\n",
      "5. **Протрите утку:** после того как заправка высохнет, протрите утку салфеткой.\n",
      "\n",
      "6. **Запекайте:** на среднем огне нагрейте масло в сковороде. Добавьте немного воды и добавьте утку. Проверьте, чтобы мясо было достаточно жидким. Если нет, добавьте больше воды.\n",
      "\n",
      "7. **Запекайте:** поставьте сковороду в духовку и приложите утку туда же. Запекайте около 1 час и 30 минут.\n",
      "\n",
      "8. **Разогрейте сахар:** разогрейте сахар в микроволновой печи или на огне.\n",
      "\n",
      "9. **Выпекайте:** когда мясо станет готовым, выньте утку из духовки и дайте ей остыть. Затем разделийте мясо на части и высыпьте\n"
     ]
    }
   ],
   "source": [
    "print(infer_model_with_rag(\"Запеченая утка\"))"
   ]
  },
  {
   "cell_type": "code",
   "execution_count": 24,
   "id": "db38498b-693a-4fba-b003-4444258c9ef4",
   "metadata": {
    "execution": {
     "iopub.execute_input": "2024-12-14T17:18:33.578062Z",
     "iopub.status.busy": "2024-12-14T17:18:33.577677Z",
     "iopub.status.idle": "2024-12-14T17:18:56.858790Z",
     "shell.execute_reply": "2024-12-14T17:18:56.857782Z",
     "shell.execute_reply.started": "2024-12-14T17:18:33.578026Z"
    },
    "trusted": true
   },
   "outputs": [
    {
     "data": {
      "application/vnd.jupyter.widget-view+json": {
       "model_id": "313381e3e84d45f694bfec45ad19aac2",
       "version_major": 2,
       "version_minor": 0
      },
      "text/plain": [
       "Batches:   0%|          | 0/1 [00:00<?, ?it/s]"
      ]
     },
     "metadata": {},
     "output_type": "display_data"
    },
    {
     "name": "stdout",
     "output_type": "stream",
     "text": [
      "Селедка под шубой - это классический рецепт для домашней кухни. Вот шаг за шагом, как приготовить этот блюдо:\n",
      "\n",
      "**Ингредиенты:**\n",
      "- Селедка (400 грамм)\n",
      "- Морковь (1 средняя)\n",
      "- Помидоры (3 средних)\n",
      "- Лук (2 зубчика)\n",
      "- Соль, перец\n",
      "- Оливковое масло\n",
      "\n",
      "**Примечание:**\n",
      "Пожалуйста, проверьте все ингредиенты перед началом процесса приготовления, чтобы убедиться в их сохранности.\n",
      "\n",
      "**Рецепт:**\n",
      "\n",
      "1. **Начнем с подготовки продуктов:** \n",
      "   - Отварите морковь и помидоры до готовности.\n",
      "   - Нарежьте лук на мелкие кусочки.\n",
      "   - Поджарьте селедку в жарке до золотистого цвета.\n",
      "\n",
      "2. **На следующий этап:** \n",
      "   - В сковороде добавьте оливковое масло.\n",
      "   - Когда масло нагреется, добавьте лук и селедку.\n",
      "   - Обжаривайте до образования золотистого цвета.\n",
      "   - Добавьте морковь и помидоры.\n",
      "   - Перемешайте, добавьте соль и перец по вкусу.\n",
      "   - Готовьте, пока продукты не станут мягкими, но еще немного жесткими.\n",
      "\n",
      "3. **В конце:** \n",
      "   - При необходимости, добавьте больше масла или воды, чтобы обеспечить нужную консистенцию.\n",
      "   - Крупным колесом выньте селедку из сковороды и положите ее в форму для запекания.\n",
      "\n",
      "4. **Запекание:** \n",
      "   - Установите форму в духовку и приложите уплотнительный круг.\n",
      "   - Выключите духовку, дайте селедке немного остудеть.\n",
      "   - Затем можно подавать на стол.\n",
      "\n",
      "Приятного аппетита!\n"
     ]
    }
   ],
   "source": [
    "print(infer_model_with_rag(\"Селедка под шубой\"))"
   ]
  },
  {
   "cell_type": "code",
   "execution_count": 78,
   "id": "bf92fb00-bf8b-4282-8467-e4ce97ae2db4",
   "metadata": {
    "execution": {
     "iopub.execute_input": "2024-12-14T18:03:52.619768Z",
     "iopub.status.busy": "2024-12-14T18:03:52.619132Z",
     "iopub.status.idle": "2024-12-14T18:04:12.978737Z",
     "shell.execute_reply": "2024-12-14T18:04:12.977861Z",
     "shell.execute_reply.started": "2024-12-14T18:03:52.619738Z"
    },
    "trusted": true
   },
   "outputs": [
    {
     "name": "stdout",
     "output_type": "stream",
     "text": [
      "С удовольствием помогу вам приготовить вкусное говядину с брокколи! Вот простой рецепт:\n",
      "\n",
      "**Ингредиенты:**\n",
      "- Говядина (без кожи) - 200 гр.\n",
      "- Брокколи - 500 гр.\n",
      "- Масло для жарки - 1 стакан.\n",
      "- Соль и перец - по вкусу.\n",
      "- Лук - 1 шт., нарезанный.\n",
      "- Зелень - 1 шт. (например, петрушка или укроп).\n",
      "- Чеснок - 1 зубчик.\n",
      "\n",
      "**Положите все ингредиенты в кастрюлю и добавьте масло.**\n",
      "\n",
      "**Жарьте на среднем огне до тех пор, пока лук не станет золотистым цветом. Добавьте брокколи и обжаривайте еще 5 минут. Затем добавьте говядину, тушите еще 10 минут. Добавьте соль и перец по вкусу.**\n",
      "\n",
      "**В конце добавьте чеснок и зелень.**\n",
      "\n",
      "**После этого готовое блюдо можно подавать горячим или холодным.**\n",
      "\n",
      "Обратите внимание, что при приготовлении говядины важно следовать инструкциям в мануале приобретения мяса, чтобы избежать сердечного заболевания. Также помните, что говядина содержит много белка, который необходимо потреблять регулярно для здорового образа жизни.\n"
     ]
    }
   ],
   "source": [
    "print(infer_model_with_rag(\"Говядина с брокколи\"))"
   ]
  },
  {
   "cell_type": "markdown",
   "id": "FPYS2xw7Q-Kx",
   "metadata": {
    "id": "FPYS2xw7Q-Kx"
   },
   "source": [
    "### Поиск в интернете\n",
    "\n",
    "Как вы должны были заметить, языковая модель с RAG работает куда лучше, чем без него. Несмотря на это, она все равно регулярно галлюционирует. Качество RAG подхода помимо самих компонент RAG во многом зависит от датасета и модели. Например, датасет с рецептами может не содержать каких-то фактов о самих блюдах, а некоторых блюд вообще может не быть. В таком случае модель не сможет правильно ответить на вопрос. Давайте улучшим качество формирования контекста, добавив возможность сестеме искать информацию в интернете.\n",
    "\n",
    "__Задание 5 (2 балла).__ Модифицируйте процесс извлечения релевантных текстов следующим образом. Если в топе оказались тексты с недостаточно высокой (по порогу) похожестью на запрос, то замените их текстами, найденными по запросу в интернете, у которых похожесть достаточно высокая. Таким образом, модель всегда будет получать фиксированное число максимально релевантных текстов на вход.\n",
    "\n",
    "При поиске в интернете мы будем пользоваться тем, что все поисковики сортируют выдачу по соответствию запросу. Значит мы можем взять наш запрос, вставить его в поисковик и пройти по выданным ссылкам, анализируя текст на каждой странице до тех пор, пока не наберем достаточное число релевантных текстов. Для хождения в интернет вам потребуется библиотека [`requests`](https://requests.readthedocs.io/en/latest/), а для извлечения текста со страницы проще всего использовать [`BeautifulSoup`](https://www.crummy.com/software/BeautifulSoup/bs4/doc/).\n",
    "\n",
    "Получилось ли у вас улучшить качество ответов?"
   ]
  },
  {
   "cell_type": "code",
   "execution_count": null,
   "id": "bf93c5d7-01a9-4bb5-969a-8026428c93ee",
   "metadata": {
    "execution": {
     "iopub.execute_input": "2024-12-15T06:54:57.261723Z",
     "iopub.status.busy": "2024-12-15T06:54:57.259578Z",
     "iopub.status.idle": "2024-12-15T06:54:57.284172Z",
     "shell.execute_reply": "2024-12-15T06:54:57.282908Z",
     "shell.execute_reply.started": "2024-12-15T06:54:57.261667Z"
    },
    "trusted": true
   },
   "outputs": [],
   "source": [
    "import requests\n",
    "from bs4 import BeautifulSoup\n",
    "import urllib.parse\n",
    "import numpy as np\n",
    "from IPython.display import clear_output\n",
    "\n",
    "def fetch_relevant_texts_from_internet(query, threshold=0.55, max_results=3):\n",
    "    search_url = f\"https://www.google.com/search?q={urllib.parse.quote(query)}\"\n",
    "    headers = {\n",
    "        \"User-Agent\": \"Mozilla/5.0 (Windows NT 10.0; Win64; x64) AppleWebKit/537.36 (KHTML, like Gecko) Chrome/91.0.4472.124 Safari/537.36\"\n",
    "    }\n",
    "    \n",
    "    response = requests.get(search_url, headers=headers)\n",
    "    soup = BeautifulSoup(response.text, 'html.parser')\n",
    "    \n",
    "    links = set()\n",
    "    for link in soup.find_all('a', href=True):\n",
    "        if link and 'https' in link['href'] and 'google' not in link['href'] and link['href'] not in links:\n",
    "            links.add(link['href'])\n",
    "            \n",
    "    relevant_texts = []\n",
    "    links = list(links)[:3]\n",
    "    \n",
    "    for link in links:\n",
    "        page_response = requests.get(link, headers=headers)\n",
    "        \n",
    "        page_soup = BeautifulSoup(page_response.text, 'html.parser')\n",
    "    \n",
    "        page_text = page_soup.get_text('', strip=True)\n",
    "        splitted_text = recursive_split(page_text, 100)\n",
    "        \n",
    "        for i, text_part in enumerate(splitted_text):\n",
    "            if 'www' in text_part or 'YouTube' in text_part:\n",
    "                continue\n",
    "            page_embed = embed_model.encode([f'passage: {text_part}'], normalize_embeddings=True)\n",
    "            query_embed = embed_model.encode([f'query: {query}'], normalize_embeddings=True)\n",
    "            clear_output()\n",
    "            \n",
    "            \n",
    "            dist = np.linalg.norm(page_embed - query_embed)\n",
    "            if dist <= threshold:\n",
    "                res = ''\n",
    "                for t in (splitted_text[i-1:i] + [text_part] + splitted_text[i + 1: i + 20]):\n",
    "                    res += t\n",
    "                relevant_texts.append(res)\n",
    "            \n",
    "            if len(relevant_texts) >= max_results:\n",
    "                return relevant_texts\n",
    "\n",
    "    return relevant_texts"
   ]
  },
  {
   "cell_type": "code",
   "execution_count": null,
   "id": "ff86a445-c206-4779-9572-bfb2387837c8",
   "metadata": {
    "execution": {
     "iopub.execute_input": "2024-12-15T06:54:57.290019Z",
     "iopub.status.busy": "2024-12-15T06:54:57.289544Z",
     "iopub.status.idle": "2024-12-15T06:54:57.304035Z",
     "shell.execute_reply": "2024-12-15T06:54:57.303025Z",
     "shell.execute_reply.started": "2024-12-15T06:54:57.289971Z"
    },
    "trusted": true
   },
   "outputs": [],
   "source": [
    "def raged_internet_prompt_generator(prompt, n_rag_samples, thresh1, thresh2, task):\n",
    "    query = [\n",
    "        f'query: {prompt}'\n",
    "    ]\n",
    "    embeddings = embed_model.encode(query, normalize_embeddings=True)\n",
    "    dataset_neighbours = db.query(embeddings[0], max_dist=thresh1, num_neighbors=n_rag_samples)\n",
    "    print(len(dataset_neighbours))\n",
    "    \n",
    "    fetched = fetch_relevant_texts_from_internet('Рецепт' + prompt, thresh2, max_results=n_rag_samples-len(dataset_neighbours))\n",
    "    new_prompt = task\n",
    "    new_prompt += prompt\n",
    "    \n",
    "    if len(fetched) > 0:\n",
    "        new_prompt += \"\\n\\nНесколько релевантных примеров рецептов из интернета:\\n\"\n",
    "        for i, text in enumerate(fetched):\n",
    "            new_prompt += f'Пример {i}:\\n'\n",
    "            new_prompt += text + '\\n\\n'\n",
    "\n",
    "    for i, neigh in enumerate(dataset_neighbours):\n",
    "        new_prompt += f'Пример {len(fetched) + i}:\\n'\n",
    "        new_prompt += f'\\tНазвание блюда: {chunked_texts[neigh][\"name\"]}\\n'\n",
    "        new_prompt += f'\\tТребующиеся ингридиенты: {chunked_texts[neigh][\"ingredients\"]}\\n'\n",
    "        new_prompt += f'\\tРелевантная часть рецепта: {chunked_texts[neigh][\"text\"]}\\n\\n'\n",
    "\n",
    "    return new_prompt.strip()"
   ]
  },
  {
   "cell_type": "code",
   "execution_count": 64,
   "id": "05f3766f-e993-4b1c-a19f-1e8fff87f97c",
   "metadata": {
    "execution": {
     "iopub.execute_input": "2024-12-14T17:46:24.998410Z",
     "iopub.status.busy": "2024-12-14T17:46:24.998062Z",
     "iopub.status.idle": "2024-12-14T17:46:26.450288Z",
     "shell.execute_reply": "2024-12-14T17:46:26.449439Z",
     "shell.execute_reply.started": "2024-12-14T17:46:24.998381Z"
    },
    "trusted": true
   },
   "outputs": [
    {
     "name": "stdout",
     "output_type": "stream",
     "text": [
      "Покажи рецепт для следующего блюда:\n",
      "Запеченая утка\n",
      "\n",
      "Несколько релевантных примеров рецептов из интернета:\n",
      "Пример 0:\n",
      "Рецепт: Утка, запечённая с яблоками (в рукаве) на RussianFood.comДобавить визбранноеРецептыСтатьиНаша КухняСупер ПоискРассылкиГлавнаястраница›РецептыДобавитьрецептРецептыНаша КухняСупер ПоискЮморРассылкиДобавить рецептКто там?логинили email:пароль:запомнить меняЗабыли пароль?ЗарегистрироватьсяРецептыНаша КухняСупер ПоискКтотам?ВойтиЛогин или email:Пароль:запомнить меняЗабылипароль?ЗарегистрироватьсяЧтоИзЧемКакВидеоФотоСоветыПечатьМемоЕщеОтзывывидео рецепт с фотопошаговыйУтка, запечённая с яблоками (в рукаве)neslojno29.12.20В данном рецепте я покажу, как запечьутку в духовке. Буду готовить утку с яблоками в рукаве. Рецепт очень простой, однако блюдополучается потрясающе вкусным! Запечённая утка, приготовленная по этому рецепту, легко можетукрасить новогодний стол! Приятного аппетита!ПродуктыУтка (целая тушка) – 2,5 кгЯблоки (кислые) – 1кгЧеснок – 1 головкаКориандр молотый – 2 ч. ложкаМожжевельник (ягоды) – 2 ч. ложкиБазилик сушеный –3 ч. ложкиМёд – 4 ст. ложкиМасло растительноеПерец свежемолотыйСольВидео рецептУтка, запечённая сяблоками (в рукаве)Пошаговый фото рецептУтка, запечённая с яблоками (в рукаве)Подготавливаемпродукты.Проверяем, хорошо ли зачищена утка, при необходимости удаляем остатки перьев.Приготовлениеначинаем с ароматной обмазки для утки. Измельчаем можжевельник и помещаем его в глубокую миску.Добавляем к нему кориандр, базилик, соль, свежемолотый перец. Добавляем мед. Головку чеснокаразделяем на дольки, очищаем. Пропускаем чеснок через пресс в миску с мёдом и специями. Добавляемрастительное масло, чтобы специи лучше раскрылись. Всё перемешиваем. Должна получиться густаяпаста.Покрываем тушку утки приготовленной ароматной смесью и равномерно распределяем её по всейповерхности утки. Не забываем поместить специи внутрь утки и распределить их внутри тушки.Помещаем\n",
      "\n",
      "Пример 1:\n",
      "\tНазвание блюда: Утка по-пекински\n",
      "\tТребующиеся ингридиенты: ['Утка', 'Вода', 'Вино красное сухое', 'Соль', 'Мед', 'Перец черный', 'Имбирь', 'Масло оливковое', 'Соевый соус', 'Яйцо куриное', 'Молоко', 'Мука пшеничная', 'Лук зеленый', 'Огурец', 'Масло растительное']\n",
      "\tРелевантная часть рецепта: всех сторон снаружи и внутри вином. и натираем морской солью После этого отправляем утку на 12 часов в холодильник. Ничем не накрываем. Удобно насадить ее на стакан или банку. Под утку поставить тарелку или кастрюлю(как у меня) Через 12 часов достаем утку, обмазываем со всех сторон и внутри 2ст.л. меда и снова отправляем в холодильник на 12 часов в таком-же вертикальном положении. По-прошествии вторых 12 часов, вынимаем утку из холодильника. Разогреваем духовку до 190-200 градусов. Укладываем нашу утку на р\n",
      "\n",
      "Пример 2:\n",
      "\tНазвание блюда: Томатные блинчики с уткой и соусом\n",
      "\tТребующиеся ингридиенты: ['Мука пшеничная', 'Яйцо куриное', 'Молоко', 'Томаты в собственном соку', 'Соль', 'Масло растительное', 'Утка', 'Смесь перцев', 'Крыжовник', 'Чеснок', 'Бальзамик', 'Сахар', 'Вода', 'Смесь специй']\n",
      "\tРелевантная часть рецепта: чтобы остался только жмых от ягод. Соус снова ставим на небольшой огонь, можно добавить еще пару ст. л. воды. Томим на маленьком огне пока соус не станет густым. Солим и перчим в процессе готовки по вкусу. В конце варки добавляем бальзамический уксус и растительное масло. Утиные грудки обжариваем на растительном масле до румяной корочки, затем доводим до готовности в духовке или на небольшом огне. В процессе приготовления солим и перчим по вкусу. Утке обязательно нужно дать отдохнуть, прежде чем нарезать.\n",
      "\n",
      "\n"
     ]
    }
   ],
   "source": [
    "new_prompt = raged_internet_prompt_generator('Запеченая утка', 3)\n",
    "print(new_prompt)"
   ]
  },
  {
   "cell_type": "code",
   "execution_count": 23,
   "id": "8b45404d-a37f-44e0-9541-2579e59a33f4",
   "metadata": {
    "execution": {
     "iopub.execute_input": "2024-12-15T06:54:57.306869Z",
     "iopub.status.busy": "2024-12-15T06:54:57.306022Z",
     "iopub.status.idle": "2024-12-15T06:54:57.320095Z",
     "shell.execute_reply": "2024-12-15T06:54:57.318915Z",
     "shell.execute_reply.started": "2024-12-15T06:54:57.306815Z"
    },
    "trusted": true
   },
   "outputs": [],
   "source": [
    "def infer_model_with_internet_rag(prompt, n_rag_samples=0, thresh1=0.6, thresh2=0.6, task='Покажи рецепт для следующего блюда:\\n', print_prompt=False):\n",
    "    new_prompt = raged_internet_prompt_generator(prompt, n_rag_samples, thresh1, thresh2, task)\n",
    "    if print_prompt:\n",
    "        print(new_prompt)\n",
    "    return infer_model(new_prompt)"
   ]
  },
  {
   "cell_type": "code",
   "execution_count": 49,
   "id": "3e45b024-0828-408b-83e2-7cb481e32f44",
   "metadata": {
    "execution": {
     "iopub.execute_input": "2024-12-14T16:05:34.523580Z",
     "iopub.status.busy": "2024-12-14T16:05:34.523264Z",
     "iopub.status.idle": "2024-12-14T16:05:55.726558Z",
     "shell.execute_reply": "2024-12-14T16:05:55.725649Z",
     "shell.execute_reply.started": "2024-12-14T16:05:34.523548Z"
    },
    "trusted": true
   },
   "outputs": [
    {
     "data": {
      "application/vnd.jupyter.widget-view+json": {
       "model_id": "b6ba7d39f1f745e69d049c6a8adf8e60",
       "version_major": 2,
       "version_minor": 0
      },
      "text/plain": [
       "Batches:   0%|          | 0/1 [00:00<?, ?it/s]"
      ]
     },
     "metadata": {},
     "output_type": "display_data"
    },
    {
     "name": "stdout",
     "output_type": "stream",
     "text": [
      "Запеченные утки - это вкусное и здоровое блюдо, которое подойдет для любого праздничного стола. Вот несколько шагов, которые помогут вам сделать идеальную запеченную утку:\n",
      "\n",
      "**Ингредиенты:**\n",
      "1. Утка (желательно молодого возраста)\n",
      "2. Соль\n",
      "3. Масло для жарки\n",
      "4. Вода или другой жидкость для замачивания\n",
      "5. Грецкие орехи (по желанию)\n",
      "\n",
      "**Приготовление:**\n",
      "\n",
      "1. **Замачивание:** Утку следует поместить в воду или другую жидкость, чтобы она могла рассеять жир. Это может занять около часа.\n",
      "\n",
      "2. **Отваривание:** Затем утку можно отваривать в воде или винном соленом. Она должна остаться нежной и сочной.\n",
      "\n",
      "3. **Порезать:** Наконец, утку порезать на ломтики, а затем запечь в духовке.\n",
      "\n",
      "4. **Салат:** Можно добавить к запеченной утке сверху салат из капусты, томата или других сезонных овощей.\n",
      "\n",
      "5. **Соление:** После того как утка готовится, она должна быть хорошо споласкнута солеными оливками или соленым перцем.\n",
      "\n",
      "6. **Подача:** Подавайте утку горячей, с соусами или гарнирами.\n",
      "\n",
      "Это основная процедура, но вы можете добавить различные специи, такие как кориандр, базилик, петрушка или перец, чтобы улучшить вкус.\n",
      "\n",
      "Обратите внимание, что приготовление утки требует времени и терпения, так что будьте готовы к этому. Удачи в приготовлении!\n"
     ]
    }
   ],
   "source": [
    "print(infer_model_with_internet_rag('Запеченая утка', 3))"
   ]
  },
  {
   "cell_type": "code",
   "execution_count": 76,
   "id": "1a295831-fdc0-4b5b-8796-0a6557b43b48",
   "metadata": {
    "execution": {
     "iopub.execute_input": "2024-12-14T18:01:35.457423Z",
     "iopub.status.busy": "2024-12-14T18:01:35.457072Z",
     "iopub.status.idle": "2024-12-14T18:02:02.936337Z",
     "shell.execute_reply": "2024-12-14T18:02:02.935502Z",
     "shell.execute_reply.started": "2024-12-14T18:01:35.457392Z"
    },
    "trusted": true
   },
   "outputs": [
    {
     "name": "stdout",
     "output_type": "stream",
     "text": [
      "\"Селедка под шубой\" - это классический рецепт из России, который включает в себя следующие ингредиенты:\n",
      "\n",
      "1. Селедка (для мяса) - 300-400 грамм\n",
      "2. Шпинат (для соуса) - 500 грамм\n",
      "3. Масло для жарки - 2 столовые ложки\n",
      "4. Горошек - 2 столовые ложки\n",
      "5. Чеснок - 2 зубчика\n",
      "6. Лук - 1 головка\n",
      "7. Соль и перец по вкусу\n",
      "8. Вода или бульон - 2 литра\n",
      "\n",
      "Рецепт приготовления \"Селедка под шубой\":\n",
      "1. Селедку очистите от глазков, вычистите желудок и разрежьте на кусочки.\n",
      "2. Нагрейте масло на сковороде и добавьте чеснок и лук. Обжаривайте до золотистого цвета.\n",
      "3. Добавьте шпинат и горошек и обжаривайте еще немного.\n",
      "4. Добавьте селедку и посолите. Жарьте на среднем огне около 10 минут, пока не станет мягким.\n",
      "5. Закройте крышкой и продолжайте готовить еще 5-7 минут, пока не закипит вода.\n",
      "6. Уменьшите огонь и держите на медленном огне, чтобы селедка остывала.\n",
      "7. Приготовьте соус: смешайте воду или бульон, горячую селедку, чеснок и лук, и доведите до кипения.\n",
      "8. Подавайте селедку под шубой со свежими овощами и домашним соусом.\n",
      "\n",
      "Помните, что при приготовлении селедки важно использовать только свежую селедку без глазков, иначе она может быть опасна для здоровья. Используйте тщательно подготовленные инструменты для готовки, чтобы предотвратить возможное загрязнение.\n"
     ]
    }
   ],
   "source": [
    "print(infer_model_with_internet_rag('Селедка под шубой', 3))"
   ]
  },
  {
   "cell_type": "code",
   "execution_count": 26,
   "id": "b6b20806-cc0f-4e57-993e-69e258fbafd4",
   "metadata": {
    "execution": {
     "iopub.execute_input": "2024-12-14T17:29:32.624061Z",
     "iopub.status.busy": "2024-12-14T17:29:32.623692Z",
     "iopub.status.idle": "2024-12-14T17:29:57.218403Z",
     "shell.execute_reply": "2024-12-14T17:29:57.217570Z",
     "shell.execute_reply.started": "2024-12-14T17:29:32.624028Z"
    },
    "trusted": true
   },
   "outputs": [
    {
     "data": {
      "application/vnd.jupyter.widget-view+json": {
       "model_id": "2ae1d16fa2264602b777ad1e3ff927cc",
       "version_major": 2,
       "version_minor": 0
      },
      "text/plain": [
       "Batches:   0%|          | 0/1 [00:00<?, ?it/s]"
      ]
     },
     "metadata": {},
     "output_type": "display_data"
    },
    {
     "name": "stdout",
     "output_type": "stream",
     "text": [
      "Выпекать говядину с брокколи может быть вкусным и здоровым меню для вечеринки или семейного вече. Вот как это сделать:\n",
      "\n",
      "Ингредиенты:\n",
      "- Говядина (обычно используют мясо короткошерого или домашнего птицы)\n",
      "- Брокколи\n",
      "- Соль\n",
      "- Помидоры\n",
      "- Лук\n",
      "- Чеснок\n",
      "- Масло\n",
      "\n",
      "Шаги:\n",
      "\n",
      "1. Приготовьте брокколи: обрежьте листья брокколи на тонкие полосочки. Варите в большом количестве воды до готовности, добавляйте немного соли.\n",
      "\n",
      "2. Залейте брокколи кипятком, затем выньте из воды и дайте ему остыть. \n",
      "\n",
      "3. Выделите мясо из говядины, промойте под холодной водой и обсушите.\n",
      "\n",
      "4. Очистите лук, нарежьте на маленькие кусочки, а чеснок - на мелкие кубики.\n",
      "\n",
      "5. Добавьте масло в сковороду, когда оно нагревается, добавьте лук и чеснок. Обжаривайте на медленном огне около 5 минут, пока они не станут золотистыми.\n",
      "\n",
      "6. Добавьте обсушенное мясо в сковороду и обжаривайте, пока оно не станет румяным и мягким.\n",
      "\n",
      "7. Добавьте варенную брокколи, помидоры и соль. Перемешайте все ингредиенты вместе.\n",
      "\n",
      "8. Установите духовку на средний огонь и разогрейте ее до 180 градусов. Положите подготовленную говядину на противень.\n",
      "\n",
      "9. Выложите брокколи и помидоры сверху говядины. Накрой духовку крышкой и уменьшите огонь до минимума.\n",
      "\n",
      "10. Подавайте говядину с брокколи горячей, со специями, если хотите.\n"
     ]
    }
   ],
   "source": [
    "print(infer_model_with_internet_rag('Говядина с брокколи', 3))"
   ]
  },
  {
   "cell_type": "markdown",
   "id": "c4fa82b2-f50e-45e6-b899-d569998be4b3",
   "metadata": {},
   "source": [
    "Да, генерации стали получше, модель теперь не использует несуществующие слова, да и предложения стали читаемыми, то есть пропали грамматические ошибки. Рецепты стали более фактически правильными, например, в примере с уткой модель теперь не предлагает добавлять льняные зерна, а пишет, что опционально можно добавить грецкий орех. В рецепте селедки под шубой теперь советует поджаривать до золотистой корочки лук, а не саму селедку, что тоже радует."
   ]
  },
  {
   "cell_type": "markdown",
   "id": "f41114f3-c204-49b0-aa2c-bc51006e4638",
   "metadata": {
    "id": "f41114f3-c204-49b0-aa2c-bc51006e4638"
   },
   "source": [
    "__Бонус [история] (1 балл)__. Важный недостаток текущего подхода заключается в том, что ассистенту нельзя задавать уточняющие вопросы по его же ответам. Приходится переписывать весь запрос целиком, добавляя больше деталей. Это, в целом, решение, но будет лучше, если в системе будет сохраняться история общения, а затем использоваться при генерации нового ответа. В этом задании вам предлагается добавить этот функционал.\n",
    "\n",
    "Существует много способов встраивания истории в модель. Например, можно просто сохранить все вопросы и ответы и подавать их в контекст. Однако такой способ значительно увеличит размер промпта, из-за чего увеличатся затраты по времени и памяти на каждый ответ. Конечно, можно попробовать фильтровывать историю, оставляя только те запросы и ответы, которые касаются текущего запроса. Тем не менее, это все еще будет перегружать промпт. Поэтому есть подход куда лучше.   \n",
    "Перед поиском релевантных текстов попросим модель переформулировать полученный запрос так, чтобы он стал более полным и включал в себя контекст предыдущего общения. Например, `\"Какая у него каллорийность?\" -> \"Какая каллорийность у салата Цезарь?\"`. С таким новым запросом мы сможем искать релевантные тексты с учетом истории, не увеличивая итоговый размер промпта.\n",
    "\n",
    "Реализуйте описанную схему. Для переформулирования запроса используйте ту же модель, что и для генерации, и убедитесь, что она хорошо справляется со своей задачей. С какими сложностями вы столкнулись?"
   ]
  },
  {
   "cell_type": "code",
   "execution_count": null,
   "id": "4471c5ba-0b12-4d47-8104-0d11e3f848e1",
   "metadata": {
    "id": "4471c5ba-0b12-4d47-8104-0d11e3f848e1"
   },
   "outputs": [],
   "source": [
    "# your code here"
   ]
  },
  {
   "cell_type": "markdown",
   "id": "fb4d755f-38bc-4788-abf4-8a4fb41c2dd1",
   "metadata": {
    "id": "fb4d755f-38bc-4788-abf4-8a4fb41c2dd1"
   },
   "source": [
    "__Задание 6 (1 балл).__ Продемонстрируйте работу вашего финального ассистента в различных сценариях (разные темы вопросов, разная сложность). Приведите примеры как удачных, так и неудачных ответов. Почему ваша система не всегда работает как надо? Какие у нее есть ограничения и какие преимущества? Как вы думаете, что можно сделать, чтобы ее улучшить?"
   ]
  },
  {
   "cell_type": "markdown",
   "id": "72e1ec04-1af9-4a16-a9b7-a938e3f51fe8",
   "metadata": {},
   "source": [
    "Рассмотрим еще несколько примеров, чтобы найти сильные и слабые стороны модели."
   ]
  },
  {
   "cell_type": "code",
   "execution_count": 106,
   "id": "a2be0f51-16b6-4a68-8e88-9d030e197591",
   "metadata": {
    "execution": {
     "iopub.execute_input": "2024-12-14T19:06:48.622370Z",
     "iopub.status.busy": "2024-12-14T19:06:48.621561Z",
     "iopub.status.idle": "2024-12-14T19:07:08.229393Z",
     "shell.execute_reply": "2024-12-14T19:07:08.228487Z",
     "shell.execute_reply.started": "2024-12-14T19:06:48.622336Z"
    },
    "trusted": true
   },
   "outputs": [
    {
     "name": "stdout",
     "output_type": "stream",
     "text": [
      "Пельмени - это классический продукт русской кухни, который можно готовить несколькими способами: варить или жарить.\n",
      "\n",
      "1. **Варка**\n",
      "   Варите пельмени в воде. Прежде всего, нужно промыть их под холодной водой для удаления шелухи. Затем положите их в большую кастрюлю и добавьте достаточное количество воды. Накройте крышкой и доведите до кипения. Затем снизьте огонь и дайте пельмени приготовиться на слабом огне около 5-7 минут, пока они не станут мягкими внутри. Снимите с огня и дайте пельмени остыть перед употреблением.\n",
      "\n",
      "2. **Жарка**\n",
      "   Жарьте пельмени на сковороде с небольшим количеством масла. Если используете масло, то его нужно будет выключить после того как пельмени будут готовыми. Пельмени можно обжаривать на среднем огне, чтобы они не стали слишком мягкими.\n",
      "\n",
      "Оба этих метода приготовления пельмени имеют свои преимущества и недостатки. Варка может потребовать больше времени, но она обеспечивает более мягкий вкус пельмени. Жарка требует меньше времени, но может дать более сухой консистенцию. Выбирая между этими двумя вариантами, лучше всего определить, что именно вам больше нравится в вкусе ваших пельмени.\n"
     ]
    }
   ],
   "source": [
    "print(infer_model_with_internet_rag('Пельмени', task='Нужно варить или жарить '))"
   ]
  },
  {
   "cell_type": "code",
   "execution_count": 118,
   "id": "6df504a2-985a-4b45-91a4-bfb96462c647",
   "metadata": {
    "execution": {
     "iopub.execute_input": "2024-12-14T19:14:04.001961Z",
     "iopub.status.busy": "2024-12-14T19:14:04.001610Z",
     "iopub.status.idle": "2024-12-14T19:14:22.798071Z",
     "shell.execute_reply": "2024-12-14T19:14:22.797300Z",
     "shell.execute_reply.started": "2024-12-14T19:14:04.001915Z"
    },
    "trusted": true
   },
   "outputs": [
    {
     "name": "stdout",
     "output_type": "stream",
     "text": [
      "Пельмени лучше всего варятся. Они получают идеальное соединение со вкусами начинки благодаря этому процессу. Однако если вы предпочитаете жарить, то это может быть отличным вариантом для праздничного ужина или как альтернативу варке.\n",
      "\n",
      "Важно помнить, что время варки и жарки зависит от типа теста и начинки, поэтому важно внимательно следовать указаниям производителя. В общем случае, для обычного пельмени требуется около 15 минут варки, а для более сложных рецептов, например, из мяса или говядины, могут потребоваться до 30 минут. \n",
      "\n",
      "Важно также помнить об определенных моментах при варке пельмени: всегда нужно использовать достаточно воды, чтобы пельмени не подгорели; вода должна быть горячей, но не слишком горячей, так как она может испортить вкус теста; после варки следует подавать пельмени горячими.\n",
      "\n",
      "Если вы решите готовить пельмени жареными, то очень важно следовать этим правилам: вода должна быть достаточной, чтобы пельмени не подгорели; пельмени должны быть готовы до конца, чтобы они были полностью прожарены и нежными внутри; пельмени должны быть подаваемыми горячими.\n"
     ]
    }
   ],
   "source": [
    "print(infer_model_with_internet_rag('Пельмени', 3, task='Нужно варить или жарить '))"
   ]
  },
  {
   "cell_type": "code",
   "execution_count": 108,
   "id": "ea1853ec-787f-4a2b-80ed-1c44ebe99201",
   "metadata": {
    "execution": {
     "iopub.execute_input": "2024-12-14T19:07:22.603725Z",
     "iopub.status.busy": "2024-12-14T19:07:22.603482Z",
     "iopub.status.idle": "2024-12-14T19:07:29.932841Z",
     "shell.execute_reply": "2024-12-14T19:07:29.931966Z",
     "shell.execute_reply.started": "2024-12-14T19:07:22.603702Z"
    },
    "trusted": true
   },
   "outputs": [
    {
     "name": "stdout",
     "output_type": "stream",
     "text": [
      "Время варки пельмени может варьироваться в зависимости от размера и толщины их теста. Для большинства пельменей среднего размера и толщины варка обычно занимает около 10-15 минут. Однако, если вы используете более тонкий или крупный тест, время может потребовать больше времени. Важно помнить, что пельмени должны остывать до полного созревания перед подачей.\n"
     ]
    }
   ],
   "source": [
    "print(infer_model_with_internet_rag('пельмени', task='Сколько минут варить '))"
   ]
  },
  {
   "cell_type": "markdown",
   "id": "951be9a5-4ecb-4440-8b57-3353f6292206",
   "metadata": {},
   "source": [
    "Пока все ок, попробуем спросить что-нибудь посложнее. Напрмер разные рецепты от простых к сложным по моему мнению."
   ]
  },
  {
   "cell_type": "code",
   "execution_count": 123,
   "id": "492a69f0-16cb-4714-b5b5-ae2019ecb380",
   "metadata": {
    "execution": {
     "iopub.execute_input": "2024-12-14T19:17:30.254864Z",
     "iopub.status.busy": "2024-12-14T19:17:30.254528Z",
     "iopub.status.idle": "2024-12-14T19:17:56.928830Z",
     "shell.execute_reply": "2024-12-14T19:17:56.927913Z",
     "shell.execute_reply.started": "2024-12-14T19:17:30.254832Z"
    },
    "trusted": true
   },
   "outputs": [
    {
     "name": "stdout",
     "output_type": "stream",
     "text": [
      "Пицца Маргарита - это классическое итальянское блюдо, которое обычно делают с помидорами, базиликом и моцареллой. Вот простой рецепт:\n",
      "\n",
      "**Состав:**\n",
      "- 300 г моцареллы\n",
      "- 200 г томатной пасты\n",
      "- 1 зубчика красного чеснока\n",
      "- 1/2 листа базилика\n",
      "- 1 столовая ложка соли\n",
      "- 1 столовая ложка перца\n",
      "- 1 столовая ложка масла оливкового\n",
      "\n",
      "**Приготовление:**\n",
      "\n",
      "1. В большую миску положите муку и смешайте ее с пшеничной мукою.\n",
      "2. Добавьте масло и перемешайте до образования однородной массы.\n",
      "3. Добавьте моцареллу, томатную пасту, чеснок и базилик. Затем добавьте соль и перец. Обратите внимание, что базилик должен быть очень мелко нарезан.\n",
      "4. Сформируйте тесто в форме пиццы. Разделите его на две части и прессуйте их друг против друга.\n",
      "5. Остальное масло разогрейте на сковороде.\n",
      "6. Выложите тесто на сковороду и покройте его слоем соуса. Закройте крышкой и готовьте до золотистой корочки.\n",
      "7. Переключите огонь на средний и дайте ему остудеть.\n",
      "8. Подавайте пиццу Маргарита горячей.\n",
      "\n",
      "Помните, что вкус пиццы может сильно зависеть от того, насколько хорошо вы сделали начинку. Если вам сложно выбрать идеальный комплект ингредиентов, можете использовать обычные ингредиенты или приобрести специализированный набор для приготовления пиццы.\n",
      "\n",
      "Если вам нужно помощь в выборе ингредиентов или процессе приготовления, всегда обращайтесь ко мне за советом.\n"
     ]
    }
   ],
   "source": [
    "print(infer_model_with_internet_rag('Пицца маргарита'))"
   ]
  },
  {
   "cell_type": "code",
   "execution_count": 24,
   "id": "f2dd4811-0ded-4ce4-98d4-b2206e255e06",
   "metadata": {
    "execution": {
     "iopub.execute_input": "2024-12-15T06:57:13.994616Z",
     "iopub.status.busy": "2024-12-15T06:57:13.994220Z",
     "iopub.status.idle": "2024-12-15T06:57:44.492510Z",
     "shell.execute_reply": "2024-12-15T06:57:44.491507Z",
     "shell.execute_reply.started": "2024-12-15T06:57:13.994584Z"
    },
    "trusted": true
   },
   "outputs": [
    {
     "name": "stderr",
     "output_type": "stream",
     "text": [
      "The attention mask is not set and cannot be inferred from input because pad token is same as eos token. As a consequence, you may observe unexpected behavior. Please pass your input's `attention_mask` to obtain reliable results.\n"
     ]
    },
    {
     "name": "stdout",
     "output_type": "stream",
     "text": [
      "Вот простой рецепт пиццы Маргарита:\n",
      "\n",
      "**Состав:** \n",
      "- 150 грамм муки\n",
      "- 50 грамм сахара\n",
      "- 20 грамм соли\n",
      "- 300 мл воды\n",
      "- 2 столовые ложки растительного масла\n",
      "- 1 столовая ложка сливочного масла\n",
      "- 2 чайные ложки сухих дрожжей\n",
      "- 1/2 чайной ложки молотого картофеля\n",
      "- 2 зубчика чеснока\n",
      "- 200 грамм свежих помидоров\n",
      "- 200 грамм свежего сырка Моцарелла или Пекорино\n",
      "\n",
      "**Инструкции:**\n",
      "\n",
      "1. Взбейте яйцо и добавьте в него сахар, затем мед. \n",
      "\n",
      "2. Разведите 2 столовые ложки сухих дрожжей в 150 мл теплой воды.\n",
      "\n",
      "3. Смешайте муку, сахар, соль и картофель. \n",
      "\n",
      "4. Добавьте сливочный масль и растительное масло. \n",
      "\n",
      "5. Влейте воду и дрожжи, перемешайте до однородности.\n",
      "\n",
      "6. Поставьте смесь в теплое место и дайте ей подняться в течение часа.\n",
      "\n",
      "7. Когда тесто поднимется, добавьте в него помидоры, морковь, чеснок, соль и перец по вкусу. \n",
      "\n",
      "8. Затем выложите тесто на форму для выпечки и покройте начинкой.\n",
      "\n",
      "9. Положите второй корж на начинку и залейте сверху яйцом или белком.\n",
      "\n",
      "10. Поставьте пиццу в горячую духовку и выпекайте в течение 15-20 минут.\n",
      "\n",
      "11. Как только тесто станет мягким и начнет подыматься, можно снять с формы и разделить на порционные кусочки.\n",
      "\n",
      "12. Оставьте их остыть перед подачей.\n",
      "\n",
      "Помимо этого, вы можете использовать любые другие ингредиенты\n"
     ]
    }
   ],
   "source": [
    "print(infer_model_with_internet_rag('Пицца маргарита', 3))"
   ]
  },
  {
   "cell_type": "markdown",
   "id": "bced3fbb-d4ab-463f-bf14-eb9ee7d3a72b",
   "metadata": {},
   "source": [
    "Мне кажется, что тут построенный раг сильно улучшил ответ, потому что в оригинальном ответе модели встречались несовсем русские предложения, например, \"Переключите огонь на средний и дайте ему остудеть.\", теперь же нам удается избежать этого, хотя шаги приготовления еще не идеальны. Так же рецепт стал более подробным."
   ]
  },
  {
   "cell_type": "markdown",
   "id": "45a58a78-d84f-4d5d-a0dc-d439727d172d",
   "metadata": {},
   "source": [
    "Попробуем узнать рецепт какого-нибудь малоизвестного блюда"
   ]
  },
  {
   "cell_type": "code",
   "execution_count": 25,
   "id": "40cd2df5-9990-493f-9b5d-c6a0b6f2db8a",
   "metadata": {
    "execution": {
     "iopub.execute_input": "2024-12-15T07:00:59.796495Z",
     "iopub.status.busy": "2024-12-15T07:00:59.795838Z",
     "iopub.status.idle": "2024-12-15T07:01:26.872633Z",
     "shell.execute_reply": "2024-12-15T07:01:26.871681Z",
     "shell.execute_reply.started": "2024-12-15T07:00:59.796459Z"
    },
    "trusted": true
   },
   "outputs": [
    {
     "name": "stdout",
     "output_type": "stream",
     "text": [
      "Конечно, вот простой рецепт хачапури по-мегрельски:\n",
      "\n",
      "Ингредиенты:\n",
      "1. 3 стакана муки\n",
      "2. 50 грамм тертого масла (например, лимона или апельсина)\n",
      "3. 3 столовые ложки воды\n",
      "4. 2 чайные ложки соли\n",
      "5. 1 столовая ложка соли\n",
      "6. 1/4 чайной ложки перец черного\n",
      "7. Соль по вкусу\n",
      "8. 3 яйца\n",
      "9. 1 стакан молока\n",
      "10. Сухие дрожжи\n",
      "11. 1 стакан томатная паста\n",
      "12. 1 стакан куриной пасты\n",
      "13. 1 стакан сливочного масла\n",
      "\n",
      "Способ приготовления:\n",
      "1. Разогрейте духовку до 180 градусов.\n",
      "2. В глубокую форму для выпечки добавьте немного масла, смажьте ее и поставьте в горячую духовку на 20 минут.\n",
      "3. Затем разогрейте масло в кастрюле и включите средний огонь.\n",
      "4. Добавьте муку, медленно перемешивайте, пока не получится однородная масса.\n",
      "5. Взбейте яйца, добавьте в смесь и перемешайте.\n",
      "6. Влейте воду и соль, затем добавьте дрожжи. Перемешайте.\n",
      "7. Поставьте на средний огонь и варите до тех пор, пока тесто не станет легкой, но не слишком жидкой.\n",
      "8. Вылейте тертый масляный соус и поместите форму в духовку на 20 минут.\n",
      "9. После этого добавьте томатную пасту и куриную пасту и снова поставьте в духовку на 20 минут.\n",
      "10. После этого добавьте сливочный масляный соус и еще раз поставьте в духовку на 20 минут.\n",
      "11. Посмотрите, чтобы тесто было достаточно мягкое и пушистое.\n",
      "\n",
      "Об\n"
     ]
    }
   ],
   "source": [
    "print(infer_model_with_internet_rag('Хачапури по-мегрельски'))"
   ]
  },
  {
   "cell_type": "code",
   "execution_count": 26,
   "id": "f807e213-70fe-4609-8653-43021e850b33",
   "metadata": {
    "execution": {
     "iopub.execute_input": "2024-12-15T07:02:09.938887Z",
     "iopub.status.busy": "2024-12-15T07:02:09.938514Z",
     "iopub.status.idle": "2024-12-15T07:02:45.672257Z",
     "shell.execute_reply": "2024-12-15T07:02:45.671206Z",
     "shell.execute_reply.started": "2024-12-15T07:02:09.938858Z"
    },
    "trusted": true
   },
   "outputs": [
    {
     "name": "stdout",
     "output_type": "stream",
     "text": [
      "Хачапури по-мегрельски - это传统式的 Georgian 吃食，通常用于节日或庆祝活动。以下是一个简单的制作步骤：\n",
      "\n",
      "**所需材料：**\n",
      "\n",
      "- 糯米面粉 1 kg\n",
      "- 糖 1.5 tea spoons\n",
      "- 盐 2 tea spoons\n",
      "- 干酵母 1 g\n",
      "- 植物油 40 ml\n",
      "- 豆腐奶酪 50 g\n",
      "- 奶油奶酪 100 g\n",
      "- 酸奶油 1茶匙（15毫升）\n",
      "- 鸡蛋 1个\n",
      "- 温水 350 ml\n",
      "\n",
      "**制作方法：**\n",
      "\n",
      "1. **准备材料：**\n",
      "   - 将糯米粉、糖和盐混合在一个大碗中。\n",
      "   - 在另一个碗中，将干酵母与植物油混合，并加入温水，搅拌均匀直到形成一个球状体。\n",
      "   - 把酵母液倒入第一个碗中，用勺子或刮刀轻轻拌匀，使所有成分混合在一起。\n",
      "\n",
      "2. **揉面：**\n",
      "   - 将面团放在面板上，用手揉成光滑的球形。\n",
      "   - 加入豆腐奶酪、奶油奶酪和酸奶油，继续揉至面团变得柔软且有弹性。\n",
      "\n",
      "3. **发酵：**\n",
      "   - 将面团放置在温暖的地方，让它自然发酵约1小时，直到它体积增大两倍。\n",
      "\n",
      "4. **分割和擀面：**\n",
      "   - 分割面团成四份，每个面团平均分成四个小圆饼。\n",
      "   - 使用擀面杖将每个小圆饼擀平成圆形薄片。\n",
      "\n",
      "5. **填充和包裹：**\n",
      "   - 在每个小圆饼的一边放一块软化好的馅料，然后沿着边缘折叠并包起来。\n",
      "   - 将所有的饺子依次放入烤盘中，确保它们之间有足够的空间。\n",
      "\n",
      "6. **烘焙：**\n",
      "   - 将烤箱预热到180°C（350°F）。\n",
      "   - 将饺子放入烤箱中层，烤大约20分钟，或者直到表面呈金黄色。\n",
      "\n",
      "7. **完成：**\n",
      "   - 取出饺子，让其稍微冷却一下，然后可以享用美味的马赛克布丁了。\n",
      "\n",
      "记得在制作过程中保持温度适宜，以确保面团发酵得恰到好处。\n"
     ]
    }
   ],
   "source": [
    "print(infer_model_with_internet_rag('Хачапури по-мегрельски', 3))"
   ]
  },
  {
   "cell_type": "code",
   "execution_count": 27,
   "id": "1ed67095-3f66-441b-848f-2a348dd4c44a",
   "metadata": {
    "execution": {
     "iopub.execute_input": "2024-12-15T07:03:16.876608Z",
     "iopub.status.busy": "2024-12-15T07:03:16.875816Z",
     "iopub.status.idle": "2024-12-15T07:03:47.249020Z",
     "shell.execute_reply": "2024-12-15T07:03:47.248074Z",
     "shell.execute_reply.started": "2024-12-15T07:03:16.876574Z"
    },
    "trusted": true
   },
   "outputs": [
    {
     "name": "stdout",
     "output_type": "stream",
     "text": [
      "Хачапури по-мегрельски - это традиционное грузинское печенье, которое готовится из пшеничной муки, сахара, соли, дрожжей, масла и молока. Вот шаг за шагом рецепт:\n",
      "\n",
      "**Ингредиенты:**\n",
      "- 1 кг пшеничной муки\n",
      "- 1½ чайные ложки сахара\n",
      "- 2 чайные ложки соли\n",
      "- 1 г сухих дрожжей\n",
      "- 40 мл подсолнечного масла\n",
      "- 50 г куриного жира или обезжиренного молока\n",
      "- 50 г имертинского сыра\n",
      "- 100 г сыра сулугуни\n",
      "- 1 чайная ложка сметаны\n",
      "- 1 штуку куриных яиц\n",
      "- 350 мл теплой воды\n",
      "- Подсолнечное масло для выпечки\n",
      "\n",
      "**Инструкция приготовления:**\n",
      "\n",
      "1. Разведите дрожжи в 100 мл жидкости.\n",
      "2. В 100 мл жидкости влейте сахар, соль и дрожжи, оставьте на час.\n",
      "3. Разделите тесто на 4 части и раскатайте каждую в цилиндрический форм. \n",
      "4. Натерьте каждый круг сыром, выложите в центр формы.\n",
      "5. Защипнете края, переверните швы вниз и пройдете скалкой.\n",
      "6. Заворачиваете тесто в цилиндрический форм, натереть его и посыпать сыром.\n",
      "7. Раскатываете тесто до необходимого размера, затем накладывайте его на форму.\n",
      "8. Запекаете тесто в духовке при 220 градусах примерно 15-20 минут.\n",
      "\n",
      "После приготовления хачапури по-мегрельски вы можете украсить их свежими фруктами или медом перед подачей. Это вкусное и легкое десертное блюдо идеально подходит\n"
     ]
    }
   ],
   "source": [
    "print(infer_model_with_internet_rag('Хачапури по-мегрельски', 3))"
   ]
  },
  {
   "cell_type": "markdown",
   "id": "ecfaa7b0-9316-4983-8143-955f7121497b",
   "metadata": {},
   "source": [
    "Забавно. Оригинальный рецепт пистрил несовсем складными предложениями, например, \"пока тесто не станет легкой\", \"тесто было достаточно мягкое и пушистое\". Когда я в первый раз попробовал добавить раг все сломалось - модель ответила на китайском, а вот во второй раз справилась получше. Но тоже видны недочеты: например вот тут, \"Заворачиваете тесто в цилиндрический форм, натереть его и посыпать сыром.\" грамотнее было бы сказать \"в цилиндрическую форму\". Кроме того, местоимение его употреблено неправильно - оно должно быть употреблено в отношении сыра, а не теста."
   ]
  },
  {
   "cell_type": "code",
   "execution_count": 29,
   "id": "5fb4019a-db24-420e-b3e4-9aa3705b9a4b",
   "metadata": {
    "execution": {
     "iopub.execute_input": "2024-12-15T07:14:41.452260Z",
     "iopub.status.busy": "2024-12-15T07:14:41.451887Z",
     "iopub.status.idle": "2024-12-15T07:15:02.756757Z",
     "shell.execute_reply": "2024-12-15T07:15:02.755868Z",
     "shell.execute_reply.started": "2024-12-15T07:14:41.452230Z"
    },
    "trusted": true
   },
   "outputs": [
    {
     "name": "stdout",
     "output_type": "stream",
     "text": [
      "С удовольствием предоставлю вам рецепт для приготовления стейка \"Рибай\". \n",
      "\n",
      "**Состав:** \n",
      "\n",
      "- 300 г мяса (можно использовать свиную грудку)\n",
      "- 2 ч. л. соли\n",
      "- 2 ч. л. молотого перца\n",
      "- 2 ч. л. молотого черного перец\n",
      "- 2 ч. л. сухого красного перца\n",
      "- 2 ч. л. тертого горчицы\n",
      "- 2 ч. л. сока лимона\n",
      "- 2 ч. л. розмарина\n",
      "- 2 ч. л. оливкового масла\n",
      "\n",
      "**Приготовление:**\n",
      "\n",
      "1. Вскипятите воду в кастрюле, добавьте соль, молотый перец, сухой красный перец и тертый горчицу.\n",
      "2. Когда вода закипит, добавьте мясо и поставьте кастрюлю на средний огонь.\n",
      "3. Поварите мясо около 8-10 минут или до полной готовности. Если мясо слишком жирное, вы можете добавить немного воды или копченого соуса.\n",
      "4. Снимите стейк с огня и дайте ему остыть немного перед подачей.\n",
      "5. Затем нарезайте стейк на небольшие кусочки и подавайте с салатом или другими вкусностями.\n",
      "\n",
      "Это классическое и простое приготовление стейка, которое будет радовать всех, кто его попробует. Приятного аппетита!\n"
     ]
    }
   ],
   "source": [
    "print(infer_model_with_internet_rag('Стейк рибай'))"
   ]
  },
  {
   "cell_type": "code",
   "execution_count": 30,
   "id": "d8ed1520-c706-4889-a621-c0736f6fdc74",
   "metadata": {
    "execution": {
     "iopub.execute_input": "2024-12-15T07:15:02.758400Z",
     "iopub.status.busy": "2024-12-15T07:15:02.758092Z",
     "iopub.status.idle": "2024-12-15T07:15:34.231091Z",
     "shell.execute_reply": "2024-12-15T07:15:34.230169Z",
     "shell.execute_reply.started": "2024-12-15T07:15:02.758373Z"
    },
    "trusted": true
   },
   "outputs": [
    {
     "name": "stdout",
     "output_type": "stream",
     "text": [
      "Спасибо за интерес! Вот рецепт стейка Рибай:\n",
      "\n",
      "Название: Стейк Рибай\n",
      "\n",
      "Ингредиенты:\n",
      "- 300 гр. свежего куриного филе\n",
      "- 2 ч. л. специй (паприка, корица, черный перец)\n",
      "- 2 зубчика чеснока\n",
      "- 2-3 луковицы\n",
      "- 1 столовая ложка томато-бутербродной пасты\n",
      "- 2 ч. л. молотого перца\n",
      "- 2 ч. л. оливкового масла\n",
      "- Соль по вкусу\n",
      "\n",
      "Описание: Этот рецепт будет вам понравиться за его простотой и универсальностью. Вы можете использовать любое мясо для этого стейка, главное — не забудьте добавить специи и паприку. Также вы можете добавить кусочки помидора и огурцов для дополнительного вкуса.\n",
      "\n",
      "Шаги приготовления:\n",
      "1. Нагрейте масло на сковородке до средней热度.\n",
      "2. Добавьте лук и обжаривайте, пока он не станет золотистым.\n",
      "3. Затем добавьте чеснок и обжаривайте еще немного.\n",
      "4. Затем добавьте филе и обжаривайте на среднем огне, пока мясо не начнет дробиться.\n",
      "5. После этого добавьте специи, томато-бутербродную пасту и оливковое масло. Обжаривайте это вместе с филе на среднем огне.\n",
      "6. Проверьте, чтобы мясо было достаточно жирным, добавьте больше масла, если нужно.\n",
      "7. Добавьте перец и снова обжаривайте на среднем огне.\n",
      "8. Посыпьте соль по вкусу.\n",
      "9. При необходимости можно добавить больше масла, чтобы сделать его более гладким.\n",
      "\n",
      "Обратите внимание, что процесс приготовления может занять некоторое время, особенно если у вас нет специальной сковороды для стейка, которая позволяет быстро переворачивать мясо. Однако, с этим рецептом, вы точно сможете приготовить вкус\n"
     ]
    }
   ],
   "source": [
    "print(infer_model_with_internet_rag('Стейк рибай', 3))"
   ]
  },
  {
   "cell_type": "markdown",
   "id": "7c2688ec-3e9e-4ea9-818d-cf5f0d3fea0f",
   "metadata": {},
   "source": [
    "Тут мне очень нравиться как помог раг, потому что без него модель вообще предлагала мясо варить, хотя очевидно стейки жарят. Хотя видны и не идеальные моменты, например проскачили китайские иероглифы в ответе."
   ]
  },
  {
   "cell_type": "markdown",
   "id": "6f12d6f2-c381-4631-9230-4cdb7e3af451",
   "metadata": {},
   "source": [
    "Выводы:\n",
    "\n",
    "1. Раг реально помогает, модель начинает генерировать лучше сформулированные рецепты с меньшим количеством галюцинаций.\n",
    "2. С другой стороны это точно не продакшн решение, потому что все еще видно много недочетов в работе модели. Это либо неточности в рецептах, либо проскакивающие иероглифы.\n",
    "3. Еще плюсом является то, что модель может не только генерировать рецепты, но и отвечать на различные вопросы по типу \"сколько минут варить этот продукт\""
   ]
  },
  {
   "cell_type": "code",
   "execution_count": null,
   "id": "42af7ce5-fe90-45f5-9860-cd9f40f42002",
   "metadata": {
    "trusted": true
   },
   "outputs": [],
   "source": []
  }
 ],
 "metadata": {
  "accelerator": "GPU",
  "colab": {
   "gpuType": "T4",
   "provenance": []
  },
  "kaggle": {
   "accelerator": "nvidiaTeslaT4",
   "dataSources": [],
   "dockerImageVersionId": 30805,
   "isGpuEnabled": true,
   "isInternetEnabled": true,
   "language": "python",
   "sourceType": "notebook"
  },
  "kernelspec": {
   "display_name": "Python 3",
   "language": "python",
   "name": "python3"
  },
  "language_info": {
   "codemirror_mode": {
    "name": "ipython",
    "version": 3
   },
   "file_extension": ".py",
   "mimetype": "text/x-python",
   "name": "python",
   "nbconvert_exporter": "python",
   "pygments_lexer": "ipython3",
   "version": "3.11.5"
  },
  "widgets": {
   "application/vnd.jupyter.widget-state+json": {
    "06a5969a64fa4acc8b45c53f73f94ff4": {
     "model_module": "@jupyter-widgets/controls",
     "model_module_version": "1.5.0",
     "model_name": "HTMLModel",
     "state": {
      "_dom_classes": [],
      "_model_module": "@jupyter-widgets/controls",
      "_model_module_version": "1.5.0",
      "_model_name": "HTMLModel",
      "_view_count": null,
      "_view_module": "@jupyter-widgets/controls",
      "_view_module_version": "1.5.0",
      "_view_name": "HTMLView",
      "description": "",
      "description_tooltip": null,
      "layout": "IPY_MODEL_7c15dfe36b924a03abe0efd4011b644d",
      "placeholder": "​",
      "style": "IPY_MODEL_1340afa607af4ec298d4d695942cd775",
      "value": " 660/660 [00:00&lt;00:00, 9.26kB/s]"
     }
    },
    "0e217d41d35840609f92ea307c2380e3": {
     "model_module": "@jupyter-widgets/controls",
     "model_module_version": "1.5.0",
     "model_name": "ProgressStyleModel",
     "state": {
      "_model_module": "@jupyter-widgets/controls",
      "_model_module_version": "1.5.0",
      "_model_name": "ProgressStyleModel",
      "_view_count": null,
      "_view_module": "@jupyter-widgets/base",
      "_view_module_version": "1.2.0",
      "_view_name": "StyleView",
      "bar_color": null,
      "description_width": ""
     }
    },
    "1210297f738a4fbbb5fa09b1d2474f2d": {
     "model_module": "@jupyter-widgets/base",
     "model_module_version": "1.2.0",
     "model_name": "LayoutModel",
     "state": {
      "_model_module": "@jupyter-widgets/base",
      "_model_module_version": "1.2.0",
      "_model_name": "LayoutModel",
      "_view_count": null,
      "_view_module": "@jupyter-widgets/base",
      "_view_module_version": "1.2.0",
      "_view_name": "LayoutView",
      "align_content": null,
      "align_items": null,
      "align_self": null,
      "border": null,
      "bottom": null,
      "display": null,
      "flex": null,
      "flex_flow": null,
      "grid_area": null,
      "grid_auto_columns": null,
      "grid_auto_flow": null,
      "grid_auto_rows": null,
      "grid_column": null,
      "grid_gap": null,
      "grid_row": null,
      "grid_template_areas": null,
      "grid_template_columns": null,
      "grid_template_rows": null,
      "height": null,
      "justify_content": null,
      "justify_items": null,
      "left": null,
      "margin": null,
      "max_height": null,
      "max_width": null,
      "min_height": null,
      "min_width": null,
      "object_fit": null,
      "object_position": null,
      "order": null,
      "overflow": null,
      "overflow_x": null,
      "overflow_y": null,
      "padding": null,
      "right": null,
      "top": null,
      "visibility": null,
      "width": null
     }
    },
    "1340afa607af4ec298d4d695942cd775": {
     "model_module": "@jupyter-widgets/controls",
     "model_module_version": "1.5.0",
     "model_name": "DescriptionStyleModel",
     "state": {
      "_model_module": "@jupyter-widgets/controls",
      "_model_module_version": "1.5.0",
      "_model_name": "DescriptionStyleModel",
      "_view_count": null,
      "_view_module": "@jupyter-widgets/base",
      "_view_module_version": "1.2.0",
      "_view_name": "StyleView",
      "description_width": ""
     }
    },
    "296c343ce42d4be89520db010f70a270": {
     "model_module": "@jupyter-widgets/controls",
     "model_module_version": "1.5.0",
     "model_name": "HTMLModel",
     "state": {
      "_dom_classes": [],
      "_model_module": "@jupyter-widgets/controls",
      "_model_module_version": "1.5.0",
      "_model_name": "HTMLModel",
      "_view_count": null,
      "_view_module": "@jupyter-widgets/controls",
      "_view_module_version": "1.5.0",
      "_view_name": "HTMLView",
      "description": "",
      "description_tooltip": null,
      "layout": "IPY_MODEL_d3d918d1e69440ad9a0f49ae74ff4791",
      "placeholder": "​",
      "style": "IPY_MODEL_9f6af8bb88dd46e498b92618b064fb07",
      "value": "config.json: 100%"
     }
    },
    "376e9b99f8b843d0a621a468b605770a": {
     "model_module": "@jupyter-widgets/base",
     "model_module_version": "1.2.0",
     "model_name": "LayoutModel",
     "state": {
      "_model_module": "@jupyter-widgets/base",
      "_model_module_version": "1.2.0",
      "_model_name": "LayoutModel",
      "_view_count": null,
      "_view_module": "@jupyter-widgets/base",
      "_view_module_version": "1.2.0",
      "_view_name": "LayoutView",
      "align_content": null,
      "align_items": null,
      "align_self": null,
      "border": null,
      "bottom": null,
      "display": null,
      "flex": null,
      "flex_flow": null,
      "grid_area": null,
      "grid_auto_columns": null,
      "grid_auto_flow": null,
      "grid_auto_rows": null,
      "grid_column": null,
      "grid_gap": null,
      "grid_row": null,
      "grid_template_areas": null,
      "grid_template_columns": null,
      "grid_template_rows": null,
      "height": null,
      "justify_content": null,
      "justify_items": null,
      "left": null,
      "margin": null,
      "max_height": null,
      "max_width": null,
      "min_height": null,
      "min_width": null,
      "object_fit": null,
      "object_position": null,
      "order": null,
      "overflow": null,
      "overflow_x": null,
      "overflow_y": null,
      "padding": null,
      "right": null,
      "top": null,
      "visibility": null,
      "width": null
     }
    },
    "4aad8741f70047fdb8cf0752f2bb238b": {
     "model_module": "@jupyter-widgets/base",
     "model_module_version": "1.2.0",
     "model_name": "LayoutModel",
     "state": {
      "_model_module": "@jupyter-widgets/base",
      "_model_module_version": "1.2.0",
      "_model_name": "LayoutModel",
      "_view_count": null,
      "_view_module": "@jupyter-widgets/base",
      "_view_module_version": "1.2.0",
      "_view_name": "LayoutView",
      "align_content": null,
      "align_items": null,
      "align_self": null,
      "border": null,
      "bottom": null,
      "display": null,
      "flex": null,
      "flex_flow": null,
      "grid_area": null,
      "grid_auto_columns": null,
      "grid_auto_flow": null,
      "grid_auto_rows": null,
      "grid_column": null,
      "grid_gap": null,
      "grid_row": null,
      "grid_template_areas": null,
      "grid_template_columns": null,
      "grid_template_rows": null,
      "height": null,
      "justify_content": null,
      "justify_items": null,
      "left": null,
      "margin": null,
      "max_height": null,
      "max_width": null,
      "min_height": null,
      "min_width": null,
      "object_fit": null,
      "object_position": null,
      "order": null,
      "overflow": null,
      "overflow_x": null,
      "overflow_y": null,
      "padding": null,
      "right": null,
      "top": null,
      "visibility": null,
      "width": null
     }
    },
    "4d43af00251d41b49b88cd685af6c7c7": {
     "model_module": "@jupyter-widgets/controls",
     "model_module_version": "1.5.0",
     "model_name": "DescriptionStyleModel",
     "state": {
      "_model_module": "@jupyter-widgets/controls",
      "_model_module_version": "1.5.0",
      "_model_name": "DescriptionStyleModel",
      "_view_count": null,
      "_view_module": "@jupyter-widgets/base",
      "_view_module_version": "1.2.0",
      "_view_name": "StyleView",
      "description_width": ""
     }
    },
    "5128742b41fe4b9284ac7d7a4d142ba8": {
     "model_module": "@jupyter-widgets/controls",
     "model_module_version": "1.5.0",
     "model_name": "HBoxModel",
     "state": {
      "_dom_classes": [],
      "_model_module": "@jupyter-widgets/controls",
      "_model_module_version": "1.5.0",
      "_model_name": "HBoxModel",
      "_view_count": null,
      "_view_module": "@jupyter-widgets/controls",
      "_view_module_version": "1.5.0",
      "_view_name": "HBoxView",
      "box_style": "",
      "children": [
       "IPY_MODEL_296c343ce42d4be89520db010f70a270",
       "IPY_MODEL_c12af7b01ca04922932a99b750cd44c2",
       "IPY_MODEL_06a5969a64fa4acc8b45c53f73f94ff4"
      ],
      "layout": "IPY_MODEL_376e9b99f8b843d0a621a468b605770a"
     }
    },
    "5816e3c890f244959e407ddf07ec153f": {
     "model_module": "@jupyter-widgets/controls",
     "model_module_version": "1.5.0",
     "model_name": "HTMLModel",
     "state": {
      "_dom_classes": [],
      "_model_module": "@jupyter-widgets/controls",
      "_model_module_version": "1.5.0",
      "_model_name": "HTMLModel",
      "_view_count": null,
      "_view_module": "@jupyter-widgets/controls",
      "_view_module_version": "1.5.0",
      "_view_name": "HTMLView",
      "description": "",
      "description_tooltip": null,
      "layout": "IPY_MODEL_ac8cd1e51a1944fdbee3ce4da0766e47",
      "placeholder": "​",
      "style": "IPY_MODEL_95a6961cd63545d4a9afcf60fd171431",
      "value": "model.safetensors:  26%"
     }
    },
    "59f5176be5d444b5ad842690478c7725": {
     "model_module": "@jupyter-widgets/base",
     "model_module_version": "1.2.0",
     "model_name": "LayoutModel",
     "state": {
      "_model_module": "@jupyter-widgets/base",
      "_model_module_version": "1.2.0",
      "_model_name": "LayoutModel",
      "_view_count": null,
      "_view_module": "@jupyter-widgets/base",
      "_view_module_version": "1.2.0",
      "_view_name": "LayoutView",
      "align_content": null,
      "align_items": null,
      "align_self": null,
      "border": null,
      "bottom": null,
      "display": null,
      "flex": null,
      "flex_flow": null,
      "grid_area": null,
      "grid_auto_columns": null,
      "grid_auto_flow": null,
      "grid_auto_rows": null,
      "grid_column": null,
      "grid_gap": null,
      "grid_row": null,
      "grid_template_areas": null,
      "grid_template_columns": null,
      "grid_template_rows": null,
      "height": null,
      "justify_content": null,
      "justify_items": null,
      "left": null,
      "margin": null,
      "max_height": null,
      "max_width": null,
      "min_height": null,
      "min_width": null,
      "object_fit": null,
      "object_position": null,
      "order": null,
      "overflow": null,
      "overflow_x": null,
      "overflow_y": null,
      "padding": null,
      "right": null,
      "top": null,
      "visibility": null,
      "width": null
     }
    },
    "6315988c1bd940768fe2cf9d9977a766": {
     "model_module": "@jupyter-widgets/base",
     "model_module_version": "1.2.0",
     "model_name": "LayoutModel",
     "state": {
      "_model_module": "@jupyter-widgets/base",
      "_model_module_version": "1.2.0",
      "_model_name": "LayoutModel",
      "_view_count": null,
      "_view_module": "@jupyter-widgets/base",
      "_view_module_version": "1.2.0",
      "_view_name": "LayoutView",
      "align_content": null,
      "align_items": null,
      "align_self": null,
      "border": null,
      "bottom": null,
      "display": null,
      "flex": null,
      "flex_flow": null,
      "grid_area": null,
      "grid_auto_columns": null,
      "grid_auto_flow": null,
      "grid_auto_rows": null,
      "grid_column": null,
      "grid_gap": null,
      "grid_row": null,
      "grid_template_areas": null,
      "grid_template_columns": null,
      "grid_template_rows": null,
      "height": null,
      "justify_content": null,
      "justify_items": null,
      "left": null,
      "margin": null,
      "max_height": null,
      "max_width": null,
      "min_height": null,
      "min_width": null,
      "object_fit": null,
      "object_position": null,
      "order": null,
      "overflow": null,
      "overflow_x": null,
      "overflow_y": null,
      "padding": null,
      "right": null,
      "top": null,
      "visibility": null,
      "width": null
     }
    },
    "70b489bf2be640c7a63679bc3b41aa8d": {
     "model_module": "@jupyter-widgets/controls",
     "model_module_version": "1.5.0",
     "model_name": "HTMLModel",
     "state": {
      "_dom_classes": [],
      "_model_module": "@jupyter-widgets/controls",
      "_model_module_version": "1.5.0",
      "_model_name": "HTMLModel",
      "_view_count": null,
      "_view_module": "@jupyter-widgets/controls",
      "_view_module_version": "1.5.0",
      "_view_name": "HTMLView",
      "description": "",
      "description_tooltip": null,
      "layout": "IPY_MODEL_6315988c1bd940768fe2cf9d9977a766",
      "placeholder": "​",
      "style": "IPY_MODEL_4d43af00251d41b49b88cd685af6c7c7",
      "value": "Generating train split: "
     }
    },
    "7be07cdab5474c2896d5fa3d9b14b463": {
     "model_module": "@jupyter-widgets/controls",
     "model_module_version": "1.5.0",
     "model_name": "HTMLModel",
     "state": {
      "_dom_classes": [],
      "_model_module": "@jupyter-widgets/controls",
      "_model_module_version": "1.5.0",
      "_model_name": "HTMLModel",
      "_view_count": null,
      "_view_module": "@jupyter-widgets/controls",
      "_view_module_version": "1.5.0",
      "_view_name": "HTMLView",
      "description": "",
      "description_tooltip": null,
      "layout": "IPY_MODEL_1210297f738a4fbbb5fa09b1d2474f2d",
      "placeholder": "​",
      "style": "IPY_MODEL_adbc297b841848b28ca27136928e36ed",
      "value": " 40000/0 [00:04&lt;00:00, 10205.56 examples/s]"
     }
    },
    "7c15dfe36b924a03abe0efd4011b644d": {
     "model_module": "@jupyter-widgets/base",
     "model_module_version": "1.2.0",
     "model_name": "LayoutModel",
     "state": {
      "_model_module": "@jupyter-widgets/base",
      "_model_module_version": "1.2.0",
      "_model_name": "LayoutModel",
      "_view_count": null,
      "_view_module": "@jupyter-widgets/base",
      "_view_module_version": "1.2.0",
      "_view_name": "LayoutView",
      "align_content": null,
      "align_items": null,
      "align_self": null,
      "border": null,
      "bottom": null,
      "display": null,
      "flex": null,
      "flex_flow": null,
      "grid_area": null,
      "grid_auto_columns": null,
      "grid_auto_flow": null,
      "grid_auto_rows": null,
      "grid_column": null,
      "grid_gap": null,
      "grid_row": null,
      "grid_template_areas": null,
      "grid_template_columns": null,
      "grid_template_rows": null,
      "height": null,
      "justify_content": null,
      "justify_items": null,
      "left": null,
      "margin": null,
      "max_height": null,
      "max_width": null,
      "min_height": null,
      "min_width": null,
      "object_fit": null,
      "object_position": null,
      "order": null,
      "overflow": null,
      "overflow_x": null,
      "overflow_y": null,
      "padding": null,
      "right": null,
      "top": null,
      "visibility": null,
      "width": null
     }
    },
    "86900754e5044cb79d2a8d62e838c7cf": {
     "model_module": "@jupyter-widgets/base",
     "model_module_version": "1.2.0",
     "model_name": "LayoutModel",
     "state": {
      "_model_module": "@jupyter-widgets/base",
      "_model_module_version": "1.2.0",
      "_model_name": "LayoutModel",
      "_view_count": null,
      "_view_module": "@jupyter-widgets/base",
      "_view_module_version": "1.2.0",
      "_view_name": "LayoutView",
      "align_content": null,
      "align_items": null,
      "align_self": null,
      "border": null,
      "bottom": null,
      "display": null,
      "flex": null,
      "flex_flow": null,
      "grid_area": null,
      "grid_auto_columns": null,
      "grid_auto_flow": null,
      "grid_auto_rows": null,
      "grid_column": null,
      "grid_gap": null,
      "grid_row": null,
      "grid_template_areas": null,
      "grid_template_columns": null,
      "grid_template_rows": null,
      "height": null,
      "justify_content": null,
      "justify_items": null,
      "left": null,
      "margin": null,
      "max_height": null,
      "max_width": null,
      "min_height": null,
      "min_width": null,
      "object_fit": null,
      "object_position": null,
      "order": null,
      "overflow": null,
      "overflow_x": null,
      "overflow_y": null,
      "padding": null,
      "right": null,
      "top": null,
      "visibility": null,
      "width": null
     }
    },
    "8d56fa1a69644216957ff9c874f174e1": {
     "model_module": "@jupyter-widgets/controls",
     "model_module_version": "1.5.0",
     "model_name": "FloatProgressModel",
     "state": {
      "_dom_classes": [],
      "_model_module": "@jupyter-widgets/controls",
      "_model_module_version": "1.5.0",
      "_model_name": "FloatProgressModel",
      "_view_count": null,
      "_view_module": "@jupyter-widgets/controls",
      "_view_module_version": "1.5.0",
      "_view_name": "ProgressView",
      "bar_style": "",
      "description": "",
      "description_tooltip": null,
      "layout": "IPY_MODEL_86900754e5044cb79d2a8d62e838c7cf",
      "max": 3087467144,
      "min": 0,
      "orientation": "horizontal",
      "style": "IPY_MODEL_ffc4cd73f2a74402b353ac6d86b068d2",
      "value": 817889280
     }
    },
    "95a6961cd63545d4a9afcf60fd171431": {
     "model_module": "@jupyter-widgets/controls",
     "model_module_version": "1.5.0",
     "model_name": "DescriptionStyleModel",
     "state": {
      "_model_module": "@jupyter-widgets/controls",
      "_model_module_version": "1.5.0",
      "_model_name": "DescriptionStyleModel",
      "_view_count": null,
      "_view_module": "@jupyter-widgets/base",
      "_view_module_version": "1.2.0",
      "_view_name": "StyleView",
      "description_width": ""
     }
    },
    "9f6af8bb88dd46e498b92618b064fb07": {
     "model_module": "@jupyter-widgets/controls",
     "model_module_version": "1.5.0",
     "model_name": "DescriptionStyleModel",
     "state": {
      "_model_module": "@jupyter-widgets/controls",
      "_model_module_version": "1.5.0",
      "_model_name": "DescriptionStyleModel",
      "_view_count": null,
      "_view_module": "@jupyter-widgets/base",
      "_view_module_version": "1.2.0",
      "_view_name": "StyleView",
      "description_width": ""
     }
    },
    "a64c78132ffe481f951c6eb21442ae56": {
     "model_module": "@jupyter-widgets/controls",
     "model_module_version": "1.5.0",
     "model_name": "FloatProgressModel",
     "state": {
      "_dom_classes": [],
      "_model_module": "@jupyter-widgets/controls",
      "_model_module_version": "1.5.0",
      "_model_name": "FloatProgressModel",
      "_view_count": null,
      "_view_module": "@jupyter-widgets/controls",
      "_view_module_version": "1.5.0",
      "_view_name": "ProgressView",
      "bar_style": "success",
      "description": "",
      "description_tooltip": null,
      "layout": "IPY_MODEL_a6d5517c7de6408e9e90c83ad715c5a9",
      "max": 1,
      "min": 0,
      "orientation": "horizontal",
      "style": "IPY_MODEL_ecada820c714407ba912cfeaac2ef7b1",
      "value": 1
     }
    },
    "a6d5517c7de6408e9e90c83ad715c5a9": {
     "model_module": "@jupyter-widgets/base",
     "model_module_version": "1.2.0",
     "model_name": "LayoutModel",
     "state": {
      "_model_module": "@jupyter-widgets/base",
      "_model_module_version": "1.2.0",
      "_model_name": "LayoutModel",
      "_view_count": null,
      "_view_module": "@jupyter-widgets/base",
      "_view_module_version": "1.2.0",
      "_view_name": "LayoutView",
      "align_content": null,
      "align_items": null,
      "align_self": null,
      "border": null,
      "bottom": null,
      "display": null,
      "flex": null,
      "flex_flow": null,
      "grid_area": null,
      "grid_auto_columns": null,
      "grid_auto_flow": null,
      "grid_auto_rows": null,
      "grid_column": null,
      "grid_gap": null,
      "grid_row": null,
      "grid_template_areas": null,
      "grid_template_columns": null,
      "grid_template_rows": null,
      "height": null,
      "justify_content": null,
      "justify_items": null,
      "left": null,
      "margin": null,
      "max_height": null,
      "max_width": null,
      "min_height": null,
      "min_width": null,
      "object_fit": null,
      "object_position": null,
      "order": null,
      "overflow": null,
      "overflow_x": null,
      "overflow_y": null,
      "padding": null,
      "right": null,
      "top": null,
      "visibility": null,
      "width": "20px"
     }
    },
    "ac8cd1e51a1944fdbee3ce4da0766e47": {
     "model_module": "@jupyter-widgets/base",
     "model_module_version": "1.2.0",
     "model_name": "LayoutModel",
     "state": {
      "_model_module": "@jupyter-widgets/base",
      "_model_module_version": "1.2.0",
      "_model_name": "LayoutModel",
      "_view_count": null,
      "_view_module": "@jupyter-widgets/base",
      "_view_module_version": "1.2.0",
      "_view_name": "LayoutView",
      "align_content": null,
      "align_items": null,
      "align_self": null,
      "border": null,
      "bottom": null,
      "display": null,
      "flex": null,
      "flex_flow": null,
      "grid_area": null,
      "grid_auto_columns": null,
      "grid_auto_flow": null,
      "grid_auto_rows": null,
      "grid_column": null,
      "grid_gap": null,
      "grid_row": null,
      "grid_template_areas": null,
      "grid_template_columns": null,
      "grid_template_rows": null,
      "height": null,
      "justify_content": null,
      "justify_items": null,
      "left": null,
      "margin": null,
      "max_height": null,
      "max_width": null,
      "min_height": null,
      "min_width": null,
      "object_fit": null,
      "object_position": null,
      "order": null,
      "overflow": null,
      "overflow_x": null,
      "overflow_y": null,
      "padding": null,
      "right": null,
      "top": null,
      "visibility": null,
      "width": null
     }
    },
    "adbc297b841848b28ca27136928e36ed": {
     "model_module": "@jupyter-widgets/controls",
     "model_module_version": "1.5.0",
     "model_name": "DescriptionStyleModel",
     "state": {
      "_model_module": "@jupyter-widgets/controls",
      "_model_module_version": "1.5.0",
      "_model_name": "DescriptionStyleModel",
      "_view_count": null,
      "_view_module": "@jupyter-widgets/base",
      "_view_module_version": "1.2.0",
      "_view_name": "StyleView",
      "description_width": ""
     }
    },
    "c12af7b01ca04922932a99b750cd44c2": {
     "model_module": "@jupyter-widgets/controls",
     "model_module_version": "1.5.0",
     "model_name": "FloatProgressModel",
     "state": {
      "_dom_classes": [],
      "_model_module": "@jupyter-widgets/controls",
      "_model_module_version": "1.5.0",
      "_model_name": "FloatProgressModel",
      "_view_count": null,
      "_view_module": "@jupyter-widgets/controls",
      "_view_module_version": "1.5.0",
      "_view_name": "ProgressView",
      "bar_style": "success",
      "description": "",
      "description_tooltip": null,
      "layout": "IPY_MODEL_d6415c8ca8854d4882ea1c97da5985f0",
      "max": 660,
      "min": 0,
      "orientation": "horizontal",
      "style": "IPY_MODEL_0e217d41d35840609f92ea307c2380e3",
      "value": 660
     }
    },
    "cdededc97663416493b4156064fd96b1": {
     "model_module": "@jupyter-widgets/controls",
     "model_module_version": "1.5.0",
     "model_name": "DescriptionStyleModel",
     "state": {
      "_model_module": "@jupyter-widgets/controls",
      "_model_module_version": "1.5.0",
      "_model_name": "DescriptionStyleModel",
      "_view_count": null,
      "_view_module": "@jupyter-widgets/base",
      "_view_module_version": "1.2.0",
      "_view_name": "StyleView",
      "description_width": ""
     }
    },
    "d3d918d1e69440ad9a0f49ae74ff4791": {
     "model_module": "@jupyter-widgets/base",
     "model_module_version": "1.2.0",
     "model_name": "LayoutModel",
     "state": {
      "_model_module": "@jupyter-widgets/base",
      "_model_module_version": "1.2.0",
      "_model_name": "LayoutModel",
      "_view_count": null,
      "_view_module": "@jupyter-widgets/base",
      "_view_module_version": "1.2.0",
      "_view_name": "LayoutView",
      "align_content": null,
      "align_items": null,
      "align_self": null,
      "border": null,
      "bottom": null,
      "display": null,
      "flex": null,
      "flex_flow": null,
      "grid_area": null,
      "grid_auto_columns": null,
      "grid_auto_flow": null,
      "grid_auto_rows": null,
      "grid_column": null,
      "grid_gap": null,
      "grid_row": null,
      "grid_template_areas": null,
      "grid_template_columns": null,
      "grid_template_rows": null,
      "height": null,
      "justify_content": null,
      "justify_items": null,
      "left": null,
      "margin": null,
      "max_height": null,
      "max_width": null,
      "min_height": null,
      "min_width": null,
      "object_fit": null,
      "object_position": null,
      "order": null,
      "overflow": null,
      "overflow_x": null,
      "overflow_y": null,
      "padding": null,
      "right": null,
      "top": null,
      "visibility": null,
      "width": null
     }
    },
    "d6415c8ca8854d4882ea1c97da5985f0": {
     "model_module": "@jupyter-widgets/base",
     "model_module_version": "1.2.0",
     "model_name": "LayoutModel",
     "state": {
      "_model_module": "@jupyter-widgets/base",
      "_model_module_version": "1.2.0",
      "_model_name": "LayoutModel",
      "_view_count": null,
      "_view_module": "@jupyter-widgets/base",
      "_view_module_version": "1.2.0",
      "_view_name": "LayoutView",
      "align_content": null,
      "align_items": null,
      "align_self": null,
      "border": null,
      "bottom": null,
      "display": null,
      "flex": null,
      "flex_flow": null,
      "grid_area": null,
      "grid_auto_columns": null,
      "grid_auto_flow": null,
      "grid_auto_rows": null,
      "grid_column": null,
      "grid_gap": null,
      "grid_row": null,
      "grid_template_areas": null,
      "grid_template_columns": null,
      "grid_template_rows": null,
      "height": null,
      "justify_content": null,
      "justify_items": null,
      "left": null,
      "margin": null,
      "max_height": null,
      "max_width": null,
      "min_height": null,
      "min_width": null,
      "object_fit": null,
      "object_position": null,
      "order": null,
      "overflow": null,
      "overflow_x": null,
      "overflow_y": null,
      "padding": null,
      "right": null,
      "top": null,
      "visibility": null,
      "width": null
     }
    },
    "dbb8f534bdd841198f6cd71da9cd7c76": {
     "model_module": "@jupyter-widgets/controls",
     "model_module_version": "1.5.0",
     "model_name": "HBoxModel",
     "state": {
      "_dom_classes": [],
      "_model_module": "@jupyter-widgets/controls",
      "_model_module_version": "1.5.0",
      "_model_name": "HBoxModel",
      "_view_count": null,
      "_view_module": "@jupyter-widgets/controls",
      "_view_module_version": "1.5.0",
      "_view_name": "HBoxView",
      "box_style": "",
      "children": [
       "IPY_MODEL_5816e3c890f244959e407ddf07ec153f",
       "IPY_MODEL_8d56fa1a69644216957ff9c874f174e1",
       "IPY_MODEL_f8264a7b88c144a2b69a2db3cfa6af2e"
      ],
      "layout": "IPY_MODEL_4aad8741f70047fdb8cf0752f2bb238b"
     }
    },
    "e27be415f2da4207910d5d463610d5fd": {
     "model_module": "@jupyter-widgets/base",
     "model_module_version": "1.2.0",
     "model_name": "LayoutModel",
     "state": {
      "_model_module": "@jupyter-widgets/base",
      "_model_module_version": "1.2.0",
      "_model_name": "LayoutModel",
      "_view_count": null,
      "_view_module": "@jupyter-widgets/base",
      "_view_module_version": "1.2.0",
      "_view_name": "LayoutView",
      "align_content": null,
      "align_items": null,
      "align_self": null,
      "border": null,
      "bottom": null,
      "display": null,
      "flex": null,
      "flex_flow": null,
      "grid_area": null,
      "grid_auto_columns": null,
      "grid_auto_flow": null,
      "grid_auto_rows": null,
      "grid_column": null,
      "grid_gap": null,
      "grid_row": null,
      "grid_template_areas": null,
      "grid_template_columns": null,
      "grid_template_rows": null,
      "height": null,
      "justify_content": null,
      "justify_items": null,
      "left": null,
      "margin": null,
      "max_height": null,
      "max_width": null,
      "min_height": null,
      "min_width": null,
      "object_fit": null,
      "object_position": null,
      "order": null,
      "overflow": null,
      "overflow_x": null,
      "overflow_y": null,
      "padding": null,
      "right": null,
      "top": null,
      "visibility": null,
      "width": null
     }
    },
    "ecada820c714407ba912cfeaac2ef7b1": {
     "model_module": "@jupyter-widgets/controls",
     "model_module_version": "1.5.0",
     "model_name": "ProgressStyleModel",
     "state": {
      "_model_module": "@jupyter-widgets/controls",
      "_model_module_version": "1.5.0",
      "_model_name": "ProgressStyleModel",
      "_view_count": null,
      "_view_module": "@jupyter-widgets/base",
      "_view_module_version": "1.2.0",
      "_view_name": "StyleView",
      "bar_color": null,
      "description_width": ""
     }
    },
    "f8264a7b88c144a2b69a2db3cfa6af2e": {
     "model_module": "@jupyter-widgets/controls",
     "model_module_version": "1.5.0",
     "model_name": "HTMLModel",
     "state": {
      "_dom_classes": [],
      "_model_module": "@jupyter-widgets/controls",
      "_model_module_version": "1.5.0",
      "_model_name": "HTMLModel",
      "_view_count": null,
      "_view_module": "@jupyter-widgets/controls",
      "_view_module_version": "1.5.0",
      "_view_name": "HTMLView",
      "description": "",
      "description_tooltip": null,
      "layout": "IPY_MODEL_e27be415f2da4207910d5d463610d5fd",
      "placeholder": "​",
      "style": "IPY_MODEL_cdededc97663416493b4156064fd96b1",
      "value": " 818M/3.09G [00:19&lt;00:52, 43.2MB/s]"
     }
    },
    "ff724884d5ac40a48b77cd3f568f8339": {
     "model_module": "@jupyter-widgets/controls",
     "model_module_version": "1.5.0",
     "model_name": "HBoxModel",
     "state": {
      "_dom_classes": [],
      "_model_module": "@jupyter-widgets/controls",
      "_model_module_version": "1.5.0",
      "_model_name": "HBoxModel",
      "_view_count": null,
      "_view_module": "@jupyter-widgets/controls",
      "_view_module_version": "1.5.0",
      "_view_name": "HBoxView",
      "box_style": "",
      "children": [
       "IPY_MODEL_70b489bf2be640c7a63679bc3b41aa8d",
       "IPY_MODEL_a64c78132ffe481f951c6eb21442ae56",
       "IPY_MODEL_7be07cdab5474c2896d5fa3d9b14b463"
      ],
      "layout": "IPY_MODEL_59f5176be5d444b5ad842690478c7725"
     }
    },
    "ffc4cd73f2a74402b353ac6d86b068d2": {
     "model_module": "@jupyter-widgets/controls",
     "model_module_version": "1.5.0",
     "model_name": "ProgressStyleModel",
     "state": {
      "_model_module": "@jupyter-widgets/controls",
      "_model_module_version": "1.5.0",
      "_model_name": "ProgressStyleModel",
      "_view_count": null,
      "_view_module": "@jupyter-widgets/base",
      "_view_module_version": "1.2.0",
      "_view_name": "StyleView",
      "bar_color": null,
      "description_width": ""
     }
    }
   }
  }
 },
 "nbformat": 4,
 "nbformat_minor": 5
}
