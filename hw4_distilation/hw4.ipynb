{
 "cells": [
  {
   "cell_type": "markdown",
   "id": "aa6c9d7e-8f48-41e9-94ab-5c3b1b717694",
   "metadata": {},
   "source": [
    "# Глубинное обучение для текстовых данных, ФКН ВШЭ\n",
    "## Домашнее задание 4: Уменьшение размеров модели\n",
    "### Оценивание и штрафы\n",
    "\n",
    "Максимально допустимая оценка за работу — __10 баллов__.\n",
    "\n",
    "Задание выполняется самостоятельно. «Похожие» решения считаются плагиатом и все задействованные студенты (в том числе те, у кого списали) не могут получить за него больше 0 баллов. Весь код должен быть написан самостоятельно. Чужим кодом для пользоваться запрещается даже с указанием ссылки на источник. В разумных рамках, конечно. Взять пару очевидных строчек кода для реализации какого-то небольшого функционала можно.\n",
    "\n",
    "Неэффективная реализация кода может негативно отразиться на оценке. Также оценка может быть снижена за плохо читаемый код и плохо оформленные графики. Все ответы должны сопровождаться кодом или комментариями о том, как они были получены.\n",
    "\n",
    "__Мягкий дедлайн 29.11.24 23:59__ \\\n",
    "__Жесткий дедлайн 2.12.24 23:59__\n",
    "\n",
    "### О задании\n",
    "\n",
    "В этом задании вам предстоит научиться решать задачу Named Entity Recognition (NER) на самом популярном датасете – [CoNLL-2003](https://paperswithcode.com/dataset/conll-2003). В вашем распоряжении будет предобученный BERT, который вам необходимо уменьшить с минимальными потерями в качестве до размера 20М параметров. Для этого вы самостоятельно реализуете факторизацию эмбеддингов, дистилляцию, шеринг параметров и так далее.\n",
    "\n",
    "В этом задании вам придется проводить довольно много экспериментов, поэтому мы рекомендуем не писать весь код в тетрадке, а завести разные файлы для отдельных логических блоков и скомпоновать все в виде проекта. Это позволит вашему ноутбуку не разрастаться и сильно облегчит задачу и вам, и проверяющим. Так же постарайтесь логгировать все ваши эксперименты в wandb, чтобы ничего не потерялось.\n",
    "\n",
    "### Оценивание\n",
    "Оценка за это домашнее задание будет формироваться из оценки за __задания__ и за __отчет__, в котором, как и раньше, от вас требуется написать о проделанной работе. За отчет можно получить до 2-х баллов, однако в случае отсутствия отчета можно потерять баллы за сами задания. Задания делятся на две части: _номерные_ и _на выбор_. За _номерные_ можно получить в сумме 6 баллов, за задания _на выбор_ можно получить до 16. То есть за все дз можно получить 24 балла. Все, что вы наберете свыше 10, будет считаться бонусами.\n",
    "\n",
    "\n",
    "### О датасете\n",
    "\n",
    "Named Entity Recognition – это задача классификации токенов по классам сущностей. В CoNLL-2003 для именования сущностей используется маркировка **BIO** (Beggining, Inside, Outside), в которой метки означают следующее:\n",
    "\n",
    "- *B-{метка}* – начало сущности *{метка}*\n",
    "- *I-{метка}* – продолжнение сущности *{метка}*\n",
    "- *O* – не сущность\n",
    "\n",
    "Существуют так же и другие способы маркировки, например, BILUO. Почитать о них можно [тут](https://en.wikipedia.org/wiki/Inside–outside–beginning_(tagging)) и [тут](https://www.youtube.com/watch?v=dQw4w9WgXcQ).\n",
    "\n",
    "Всего в датасете есть 9 разных меток.\n",
    "- O – слову не соответствует ни одна сущность.\n",
    "- B-PER/I-PER – слово или набор слов соответстует определенному _человеку_.\n",
    "- B-ORG/I-ORG – слово или набор слов соответстует определенной _организации_.\n",
    "- B-LOC/I-LOC – слово или набор слов соответстует определенной _локации_.\n",
    "- B-MISC/I-MISC – слово или набор слов соответстует сущности, которая не относится ни к одной из предыдущих. Например, национальность, произведение искусства, мероприятие и т.д.\n",
    "\n",
    "Приступим!"
   ]
  },
  {
   "cell_type": "markdown",
   "id": "6fe56a70-a72d-40a0-9ae3-395ec6460657",
   "metadata": {},
   "source": [
    "Начнем с загрузки и предобработки датасета."
   ]
  },
  {
   "cell_type": "code",
   "execution_count": 1,
   "id": "3b0d5f2f",
   "metadata": {},
   "outputs": [
    {
     "name": "stdout",
     "output_type": "stream",
     "text": [
      "Requirement already satisfied: gdown in /home/boris/micromamba/envs/nlp_hw4/lib/python3.11/site-packages (5.2.0)\n",
      "Requirement already satisfied: beautifulsoup4 in /home/boris/micromamba/envs/nlp_hw4/lib/python3.11/site-packages (from gdown) (4.12.3)\n",
      "Requirement already satisfied: filelock in /home/boris/micromamba/envs/nlp_hw4/lib/python3.11/site-packages (from gdown) (3.16.1)\n",
      "Requirement already satisfied: requests[socks] in /home/boris/micromamba/envs/nlp_hw4/lib/python3.11/site-packages (from gdown) (2.32.3)\n",
      "Requirement already satisfied: tqdm in /home/boris/micromamba/envs/nlp_hw4/lib/python3.11/site-packages (from gdown) (4.67.0)\n",
      "Requirement already satisfied: soupsieve>1.2 in /home/boris/micromamba/envs/nlp_hw4/lib/python3.11/site-packages (from beautifulsoup4->gdown) (2.6)\n",
      "Requirement already satisfied: charset-normalizer<4,>=2 in /home/boris/micromamba/envs/nlp_hw4/lib/python3.11/site-packages (from requests[socks]->gdown) (3.4.0)\n",
      "Requirement already satisfied: idna<4,>=2.5 in /home/boris/micromamba/envs/nlp_hw4/lib/python3.11/site-packages (from requests[socks]->gdown) (3.10)\n",
      "Requirement already satisfied: urllib3<3,>=1.21.1 in /home/boris/micromamba/envs/nlp_hw4/lib/python3.11/site-packages (from requests[socks]->gdown) (2.2.3)\n",
      "Requirement already satisfied: certifi>=2017.4.17 in /home/boris/micromamba/envs/nlp_hw4/lib/python3.11/site-packages (from requests[socks]->gdown) (2024.8.30)\n",
      "Requirement already satisfied: PySocks!=1.5.7,>=1.5.6 in /home/boris/micromamba/envs/nlp_hw4/lib/python3.11/site-packages (from requests[socks]->gdown) (1.7.1)\n",
      "Note: you may need to restart the kernel to use updated packages.\n",
      "Requirement already satisfied: seqeval in /home/boris/micromamba/envs/nlp_hw4/lib/python3.11/site-packages (1.2.2)\n",
      "Requirement already satisfied: numpy>=1.14.0 in /home/boris/micromamba/envs/nlp_hw4/lib/python3.11/site-packages (from seqeval) (1.26.4)\n",
      "Requirement already satisfied: scikit-learn>=0.21.3 in /home/boris/micromamba/envs/nlp_hw4/lib/python3.11/site-packages (from seqeval) (1.5.2)\n",
      "Requirement already satisfied: scipy>=1.6.0 in /home/boris/micromamba/envs/nlp_hw4/lib/python3.11/site-packages (from scikit-learn>=0.21.3->seqeval) (1.14.1)\n",
      "Requirement already satisfied: joblib>=1.2.0 in /home/boris/micromamba/envs/nlp_hw4/lib/python3.11/site-packages (from scikit-learn>=0.21.3->seqeval) (1.4.2)\n",
      "Requirement already satisfied: threadpoolctl>=3.1.0 in /home/boris/micromamba/envs/nlp_hw4/lib/python3.11/site-packages (from scikit-learn>=0.21.3->seqeval) (3.5.0)\n",
      "Note: you may need to restart the kernel to use updated packages.\n"
     ]
    }
   ],
   "source": [
    "%pip install gdown\n",
    "%pip install seqeval\n"
   ]
  },
  {
   "cell_type": "code",
   "execution_count": 2,
   "id": "3ef87648-86ab-4f81-9db3-5cb7f54c575d",
   "metadata": {
    "execution": {
     "iopub.execute_input": "2024-11-25T11:50:02.058424Z",
     "iopub.status.busy": "2024-11-25T11:50:02.058002Z",
     "iopub.status.idle": "2024-11-25T11:50:11.803633Z",
     "shell.execute_reply": "2024-11-25T11:50:11.802674Z",
     "shell.execute_reply.started": "2024-11-25T11:50:02.058387Z"
    },
    "trusted": true
   },
   "outputs": [
    {
     "name": "stderr",
     "output_type": "stream",
     "text": [
      "/home/boris/micromamba/envs/nlp_hw4/lib/python3.11/site-packages/tqdm/auto.py:21: TqdmWarning: IProgress not found. Please update jupyter and ipywidgets. See https://ipywidgets.readthedocs.io/en/stable/user_install.html\n",
      "  from .autonotebook import tqdm as notebook_tqdm\n",
      "\u001b[34m\u001b[1mwandb\u001b[0m: Using wandb-core as the SDK backend.  Please refer to https://wandb.me/wandb-core for more information.\n",
      "\u001b[34m\u001b[1mwandb\u001b[0m: Currently logged in as: \u001b[33mbspanfilov\u001b[0m. Use \u001b[1m`wandb login --relogin`\u001b[0m to force relogin\n",
      "\u001b[34m\u001b[1mwandb\u001b[0m: \u001b[33mWARNING\u001b[0m If you're specifying your api key in code, ensure this code is not shared publicly.\n",
      "\u001b[34m\u001b[1mwandb\u001b[0m: \u001b[33mWARNING\u001b[0m Consider setting the WANDB_API_KEY environment variable, or running `wandb login` from the command line.\n",
      "\u001b[34m\u001b[1mwandb\u001b[0m: Appending key for api.wandb.ai to your netrc file: /home/boris/.netrc\n"
     ]
    }
   ],
   "source": [
    "import warnings\n",
    "import wandb\n",
    "import torch\n",
    "import math\n",
    "import numpy as np\n",
    "\n",
    "from torch import nn\n",
    "from tqdm import tqdm\n",
    "from torch.utils.data import DataLoader\n",
    "from datasets import load_dataset\n",
    "from transformers import get_scheduler, AdamW, get_scheduler, default_data_collator\n",
    "\n",
    "warnings.filterwarnings(\"ignore\")\n",
    "\n",
    "wandb.login(key='46c3b8e339b3fb22dc286204510c8af5b2c3e2e5')\n",
    "\n",
    "dataset = load_dataset(\"eriktks/conll2003\",trust_remote_code=True)\n",
    "\n",
    "dataset = dataset.remove_columns([\"id\", \"pos_tags\", \"chunk_tags\"])"
   ]
  },
  {
   "cell_type": "code",
   "execution_count": 3,
   "id": "a7c1a5b0-6ca1-4159-9ce6-cff88aca6b96",
   "metadata": {
    "execution": {
     "iopub.execute_input": "2024-11-25T11:50:11.805201Z",
     "iopub.status.busy": "2024-11-25T11:50:11.804923Z",
     "iopub.status.idle": "2024-11-25T11:50:11.812145Z",
     "shell.execute_reply": "2024-11-25T11:50:11.811313Z",
     "shell.execute_reply.started": "2024-11-25T11:50:11.805174Z"
    },
    "trusted": true
   },
   "outputs": [
    {
     "data": {
      "text/plain": [
       "{'tokens': ['EU',\n",
       "  'rejects',\n",
       "  'German',\n",
       "  'call',\n",
       "  'to',\n",
       "  'boycott',\n",
       "  'British',\n",
       "  'lamb',\n",
       "  '.'],\n",
       " 'ner_tags': [3, 0, 7, 0, 0, 0, 7, 0, 0]}"
      ]
     },
     "execution_count": 3,
     "metadata": {},
     "output_type": "execute_result"
    }
   ],
   "source": [
    "dataset['train'][0]"
   ]
  },
  {
   "cell_type": "code",
   "execution_count": 4,
   "id": "04b0e34d-edca-40bc-83ac-cff0c2872f87",
   "metadata": {
    "execution": {
     "iopub.execute_input": "2024-11-25T11:50:11.813700Z",
     "iopub.status.busy": "2024-11-25T11:50:11.813307Z",
     "iopub.status.idle": "2024-11-25T11:50:11.823642Z",
     "shell.execute_reply": "2024-11-25T11:50:11.822911Z",
     "shell.execute_reply.started": "2024-11-25T11:50:11.813662Z"
    },
    "trusted": true
   },
   "outputs": [],
   "source": [
    "label_names = ['O', 'B-PER', 'I-PER', 'B-ORG', 'I-ORG', 'B-LOC', 'I-LOC', 'B-MISC', 'I-MISC']"
   ]
  },
  {
   "cell_type": "code",
   "execution_count": 5,
   "id": "958cdff9-6ea1-4f7f-808b-dbe5620c27e7",
   "metadata": {
    "execution": {
     "iopub.execute_input": "2024-11-25T11:50:11.825442Z",
     "iopub.status.busy": "2024-11-25T11:50:11.825196Z",
     "iopub.status.idle": "2024-11-25T11:50:11.836821Z",
     "shell.execute_reply": "2024-11-25T11:50:11.835995Z",
     "shell.execute_reply.started": "2024-11-25T11:50:11.825418Z"
    },
    "trusted": true
   },
   "outputs": [
    {
     "name": "stdout",
     "output_type": "stream",
     "text": [
      "EU\tB-ORG\n",
      "rejects\tO\n",
      "German\tB-MISC\n",
      "call\tO\n",
      "to\tO\n",
      "boycott\tO\n",
      "British\tB-MISC\n",
      "lamb\tO\n",
      ".\tO\n"
     ]
    }
   ],
   "source": [
    "words = dataset[\"train\"][0][\"tokens\"]\n",
    "label_ids = dataset[\"train\"][0][\"ner_tags\"]\n",
    "\n",
    "for i in range(len(words)):\n",
    "    print(f'{words[i]}\\t{label_names[label_ids[i]]}')"
   ]
  },
  {
   "cell_type": "markdown",
   "id": "9ef2312e-1335-4afa-a6e6-3cdde8515fe5",
   "metadata": {},
   "source": [
    "### Предобработка\n",
    "\n",
    "На протяжении всего домашнего задания мы будем использовать _cased_ версию BERT, то есть токенизатор будет учитывать регистр слов. Для задачи NER регистр важен, так как имена и названия организаций или предметов искусства часто пишутся с большой буквы, и будет глупо прятать от модели такую информацию."
   ]
  },
  {
   "cell_type": "code",
   "execution_count": 6,
   "id": "05edcd4e-5360-41a8-b403-a9084d6a3a4a",
   "metadata": {
    "execution": {
     "iopub.execute_input": "2024-11-25T11:50:11.838002Z",
     "iopub.status.busy": "2024-11-25T11:50:11.837703Z",
     "iopub.status.idle": "2024-11-25T11:50:18.097984Z",
     "shell.execute_reply": "2024-11-25T11:50:18.097126Z",
     "shell.execute_reply.started": "2024-11-25T11:50:11.837977Z"
    },
    "trusted": true
   },
   "outputs": [],
   "source": [
    "from transformers import AutoTokenizer\n",
    "\n",
    "tokenizer = AutoTokenizer.from_pretrained(\"bert-base-cased\")"
   ]
  },
  {
   "cell_type": "markdown",
   "id": "09f64076-829a-49f1-af58-6fe60c66f965",
   "metadata": {},
   "source": [
    "При токенизации слова могут разделиться на несколько токенов (как слово `Fischler` из примера ниже), из-за чего появится несоответствие между числом токенов и меток. Это несоответствие нам придется устранить вручную."
   ]
  },
  {
   "cell_type": "code",
   "execution_count": 7,
   "id": "3ebc8789-0bba-4c96-aa1a-84403c93260e",
   "metadata": {
    "execution": {
     "iopub.execute_input": "2024-11-25T11:50:18.099628Z",
     "iopub.status.busy": "2024-11-25T11:50:18.099179Z",
     "iopub.status.idle": "2024-11-25T11:50:18.105904Z",
     "shell.execute_reply": "2024-11-25T11:50:18.105062Z",
     "shell.execute_reply.started": "2024-11-25T11:50:18.099598Z"
    },
    "trusted": true
   },
   "outputs": [
    {
     "name": "stdout",
     "output_type": "stream",
     "text": [
      "Слова:  ['Only', 'France', 'and', 'Britain', 'backed', 'Fischler', \"'s\", 'proposal', '.']\n",
      "Токены: ['[CLS]', 'Only', 'France', 'and', 'Britain', 'backed', 'Fi', '##sch', '##ler', \"'\", 's', 'proposal', '.', '[SEP]']\n",
      "Метки: ['O', 'B-LOC', 'O', 'B-LOC', 'O', 'B-PER', 'O', 'O', 'O']\n"
     ]
    }
   ],
   "source": [
    "example = dataset[\"train\"][12]\n",
    "words = example[\"tokens\"]\n",
    "tags = [label_names[t] for t in example[\"ner_tags\"]]\n",
    "tokenized_text = tokenizer(example[\"tokens\"], is_split_into_words=True)\n",
    "\n",
    "\n",
    "print('Слова: ', words)\n",
    "print('Токены:', tokenized_text.tokens())\n",
    "print('Метки:', tags)"
   ]
  },
  {
   "cell_type": "markdown",
   "id": "34949bff-d7e9-47b3-aea7-82f1332a899c",
   "metadata": {},
   "source": [
    "__Задание 1 (1 балл).__ Токенизируйте весь датасет и для каждого текста выравните токены с метками так, чтобы каждому токену соответствовала одна метка. При этом важно сохранить нотацию BIO. И не забудьте про специальные токены! Должно получиться что-то такое:"
   ]
  },
  {
   "cell_type": "code",
   "execution_count": 8,
   "id": "2d897198",
   "metadata": {
    "execution": {
     "iopub.execute_input": "2024-11-25T11:50:18.120880Z",
     "iopub.status.busy": "2024-11-25T11:50:18.120553Z",
     "iopub.status.idle": "2024-11-25T11:50:18.133329Z",
     "shell.execute_reply": "2024-11-25T11:50:18.132579Z",
     "shell.execute_reply.started": "2024-11-25T11:50:18.120844Z"
    },
    "trusted": true
   },
   "outputs": [],
   "source": [
    "def align_labels_with_tokens(sample):\n",
    "    ner_tags = sample['ner_tags']\n",
    "    tokenized_text = tokenizer(sample[\"tokens\"], truncation=True, is_split_into_words=True, padding='max_length', max_length=128) # чтобы по батчам учиться можно было\n",
    "    tokens = tokenized_text.tokens()\n",
    "    word_ids = tokenized_text.word_ids()\n",
    "    aligned_labels = []\n",
    "    prev_id = -1\n",
    "    for id, token in zip(word_ids, tokens):\n",
    "        if id is None:\n",
    "            aligned_labels.append(-100)\n",
    "        elif id != prev_id or ner_tags[id] == 0 or ner_tags[id] % 2 == 0:\n",
    "            aligned_labels.append(ner_tags[id])\n",
    "        else:\n",
    "            aligned_labels.append(ner_tags[id] + 1) # B -> I         \n",
    "\n",
    "        prev_id = id\n",
    "    tokenized_text['labels'] = aligned_labels\n",
    "    return tokenized_text"
   ]
  },
  {
   "cell_type": "code",
   "execution_count": 9,
   "id": "b8352b8f-f60a-4844-b428-9e866678dc64",
   "metadata": {
    "execution": {
     "iopub.execute_input": "2024-11-25T11:50:18.134600Z",
     "iopub.status.busy": "2024-11-25T11:50:18.134262Z",
     "iopub.status.idle": "2024-11-25T11:50:18.148031Z",
     "shell.execute_reply": "2024-11-25T11:50:18.147225Z",
     "shell.execute_reply.started": "2024-11-25T11:50:18.134561Z"
    },
    "trusted": true
   },
   "outputs": [
    {
     "name": "stdout",
     "output_type": "stream",
     "text": [
      "Выровненные метки: [-100, 0, 5, 0, 5, 0, 1, 2, 2, 0, 0, 0, 0, -100, -100, -100, -100, -100, -100, -100, -100, -100, -100, -100, -100, -100, -100, -100, -100, -100, -100, -100, -100, -100, -100, -100, -100, -100, -100, -100, -100, -100, -100, -100, -100, -100, -100, -100, -100, -100, -100, -100, -100, -100, -100, -100, -100, -100, -100, -100, -100, -100, -100, -100, -100, -100, -100, -100, -100, -100, -100, -100, -100, -100, -100, -100, -100, -100, -100, -100, -100, -100, -100, -100, -100, -100, -100, -100, -100, -100, -100, -100, -100, -100, -100, -100, -100, -100, -100, -100, -100, -100, -100, -100, -100, -100, -100, -100, -100, -100, -100, -100, -100, -100, -100, -100, -100, -100, -100, -100, -100, -100, -100, -100, -100, -100, -100, -100]\n",
      "Выровненные названия меток: [-100, 'O', 'B-LOC', 'O', 'B-LOC', 'O', 'B-PER', 'I-PER', 'I-PER', 'O', 'O', 'O', 'O', -100, -100, -100, -100, -100, -100, -100, -100, -100, -100, -100, -100, -100, -100, -100, -100, -100, -100, -100, -100, -100, -100, -100, -100, -100, -100, -100, -100, -100, -100, -100, -100, -100, -100, -100, -100, -100, -100, -100, -100, -100, -100, -100, -100, -100, -100, -100, -100, -100, -100, -100, -100, -100, -100, -100, -100, -100, -100, -100, -100, -100, -100, -100, -100, -100, -100, -100, -100, -100, -100, -100, -100, -100, -100, -100, -100, -100, -100, -100, -100, -100, -100, -100, -100, -100, -100, -100, -100, -100, -100, -100, -100, -100, -100, -100, -100, -100, -100, -100, -100, -100, -100, -100, -100, -100, -100, -100, -100, -100, -100, -100, -100, -100, -100, -100]\n"
     ]
    }
   ],
   "source": [
    "tok_example = align_labels_with_tokens(example)\n",
    "tags = [label_names[t] if t > -1 else t for t in tok_example['labels']]\n",
    "print(\"Выровненные метки:\", tok_example['labels'])\n",
    "print(\"Выровненные названия меток:\", tags)"
   ]
  },
  {
   "cell_type": "code",
   "execution_count": 10,
   "id": "888dd33b",
   "metadata": {
    "execution": {
     "iopub.execute_input": "2024-11-25T11:50:18.151022Z",
     "iopub.status.busy": "2024-11-25T11:50:18.150764Z",
     "iopub.status.idle": "2024-11-25T11:50:25.980962Z",
     "shell.execute_reply": "2024-11-25T11:50:25.979982Z",
     "shell.execute_reply.started": "2024-11-25T11:50:18.150998Z"
    },
    "trusted": true
   },
   "outputs": [],
   "source": [
    "# проделаем это со всем датасетом и сохраним\n",
    "tokenized_datasets = dataset.map(align_labels_with_tokens, remove_columns=[\"tokens\", \"ner_tags\"])"
   ]
  },
  {
   "cell_type": "markdown",
   "id": "354e9399-8393-4312-88aa-53b727d9df7d",
   "metadata": {},
   "source": [
    "### Метрика\n",
    "\n",
    "Для оценки качества NER обычно используют F1 меру с микро-усреднением. Мы загрузим ее из библиотеки `seqeval`. Функция `f1_score` принимает два 2d списка с правильными и предсказанными метками, записаными текстом, и возвращает для них значение F1. Вы можете использовать ее с параметрами по умолчанию."
   ]
  },
  {
   "cell_type": "code",
   "execution_count": 11,
   "id": "380833ce-1b8e-4b00-90ee-9126df16c19e",
   "metadata": {
    "execution": {
     "iopub.execute_input": "2024-11-25T11:50:37.889173Z",
     "iopub.status.busy": "2024-11-25T11:50:37.888764Z",
     "iopub.status.idle": "2024-11-25T11:50:38.200919Z",
     "shell.execute_reply": "2024-11-25T11:50:38.200251Z",
     "shell.execute_reply.started": "2024-11-25T11:50:37.889127Z"
    },
    "trusted": true
   },
   "outputs": [],
   "source": [
    "from seqeval.metrics import f1_score"
   ]
  },
  {
   "cell_type": "markdown",
   "id": "bc901ecf-2de9-4c3f-862c-cf78871d8d9f",
   "metadata": {},
   "source": [
    "Особенность подсчета F1 для NER заключается в том, что в некоторых ситуациях неправильные ответы могут засчитываться как правильные. Например, если модель предсказала `['I-PER', 'I-PER']`, то мы можем догадаться, что на самом деле должно быть `['B-PER', 'I-PER']`, так как сущность не может начинаться с `I-`. Функция `f1_score` учитывает это и поэтому работает только с текстовыми представлениями меток."
   ]
  },
  {
   "cell_type": "markdown",
   "id": "a61400bf-712a-4dfb-a08f-326c5db10eb2",
   "metadata": {},
   "source": [
    "### Модель\n",
    "\n",
    "В качестве базовой модели мы возьмем `bert-base-cased`. Как вы понимаете, он не обучался на задачу NER. Поэтому прежде чем приступать к уменьшению размера BERT, его необходимо дообучить.\n",
    "\n",
    "__Задание 2 (1 балл)__ Дообучите `bert-base-cased` на нашем датасете с помощью обычного fine-tuning. У вас должно получиться хотя бы 0.9 F1 на тестовой выборке. Заметьте, что чем выше качество большой модели, тем лучше будет работать дистиллированный ученик. Для обучения можно использовать `Trainer` из Hugging Face."
   ]
  },
  {
   "cell_type": "code",
   "execution_count": 12,
   "id": "14235f7c-d7a3-4407-98fe-be35bec84008",
   "metadata": {
    "execution": {
     "iopub.execute_input": "2024-11-25T09:07:29.266089Z",
     "iopub.status.busy": "2024-11-25T09:07:29.265342Z",
     "iopub.status.idle": "2024-11-25T09:07:32.296640Z",
     "shell.execute_reply": "2024-11-25T09:07:32.295879Z",
     "shell.execute_reply.started": "2024-11-25T09:07:29.266060Z"
    },
    "trusted": true
   },
   "outputs": [
    {
     "name": "stderr",
     "output_type": "stream",
     "text": [
      "Some weights of BertForTokenClassification were not initialized from the model checkpoint at bert-base-cased and are newly initialized: ['classifier.bias', 'classifier.weight']\n",
      "You should probably TRAIN this model on a down-stream task to be able to use it for predictions and inference.\n"
     ]
    },
    {
     "name": "stdout",
     "output_type": "stream",
     "text": [
      "Число параметров: 107726601\n"
     ]
    }
   ],
   "source": [
    "from transformers import AutoModelForTokenClassification\n",
    "\n",
    "model = AutoModelForTokenClassification.from_pretrained('bert-base-cased', num_labels=len(label_names))\n",
    "\n",
    "print('Число параметров:', sum(p.numel() for p in model.parameters()))"
   ]
  },
  {
   "cell_type": "code",
   "execution_count": 13,
   "id": "8807691f",
   "metadata": {
    "execution": {
     "iopub.execute_input": "2024-11-25T08:54:34.703373Z",
     "iopub.status.busy": "2024-11-25T08:54:34.703083Z",
     "iopub.status.idle": "2024-11-25T08:54:34.713924Z",
     "shell.execute_reply": "2024-11-25T08:54:34.713279Z",
     "shell.execute_reply.started": "2024-11-25T08:54:34.703346Z"
    },
    "trusted": true
   },
   "outputs": [],
   "source": [
    "def compute_metrics(p):\n",
    "    predictions, label_ids = p\n",
    "    predictions = np.argmax(predictions, axis=2)\n",
    "\n",
    "    true_predictions = [\n",
    "        [label_names[p] for (p, l) in zip(prediction, label) if l != -100]\n",
    "        for prediction, label in zip(predictions, label_ids)\n",
    "    ]\n",
    "    true_labels = [\n",
    "        [label_names[l] for (p, l) in zip(prediction, label) if l != -100]\n",
    "        for prediction, label in zip(predictions, label_ids)\n",
    "    ]\n",
    "\n",
    "    return {'f1': f1_score(y_pred=true_predictions, y_true=true_labels)}"
   ]
  },
  {
   "cell_type": "code",
   "execution_count": null,
   "id": "9ae197eb-041a-4cdb-864d-69b9cf099be9",
   "metadata": {
    "execution": {
     "iopub.execute_input": "2024-11-25T08:54:34.728911Z",
     "iopub.status.busy": "2024-11-25T08:54:34.728282Z",
     "iopub.status.idle": "2024-11-25T08:54:36.612744Z",
     "shell.execute_reply": "2024-11-25T08:54:36.611939Z",
     "shell.execute_reply.started": "2024-11-25T08:54:34.728874Z"
    },
    "trusted": true
   },
   "outputs": [],
   "source": [
    "from transformers import TrainingArguments, Trainer\n",
    "\n",
    "training_args = TrainingArguments(\n",
    "    output_dir=\"./results\",\n",
    "    eval_strategy=\"epoch\",\n",
    "    learning_rate=2e-5,\n",
    "    per_device_train_batch_size=128,\n",
    "    per_device_eval_batch_size=128,\n",
    "    num_train_epochs=5,\n",
    "    logging_dir=\"./logs\",\n",
    "    report_to=\"wandb\",\n",
    "    save_strategy=\"epoch\",\n",
    "    load_best_model_at_end=True,\n",
    "    metric_for_best_model=\"f1\",\n",
    "    logging_steps=50,\n",
    ")\n",
    "\n",
    "trainer = Trainer(\n",
    "    model=model,\n",
    "    args=training_args,\n",
    "    train_dataset=tokenized_datasets[\"train\"],\n",
    "    eval_dataset=tokenized_datasets[\"validation\"],\n",
    "    tokenizer=tokenizer,\n",
    "    compute_metrics=compute_metrics,\n",
    ")"
   ]
  },
  {
   "cell_type": "code",
   "execution_count": null,
   "id": "ec242c5c",
   "metadata": {
    "execution": {
     "iopub.execute_input": "2024-11-24T16:32:41.834462Z",
     "iopub.status.busy": "2024-11-24T16:32:41.834070Z",
     "iopub.status.idle": "2024-11-24T16:44:11.195349Z",
     "shell.execute_reply": "2024-11-24T16:44:11.194382Z",
     "shell.execute_reply.started": "2024-11-24T16:32:41.834430Z"
    },
    "trusted": true
   },
   "outputs": [],
   "source": [
    "wandb.init(\n",
    "    project=\"nlp_hw4_size_reduction\",\n",
    "    name='simple_ft'\n",
    ")\n",
    "\n",
    "trainer.train()\n",
    "wandb.finish()"
   ]
  },
  {
   "cell_type": "code",
   "execution_count": null,
   "id": "b232e195",
   "metadata": {
    "execution": {
     "iopub.execute_input": "2024-11-24T16:44:11.237268Z",
     "iopub.status.busy": "2024-11-24T16:44:11.236938Z",
     "iopub.status.idle": "2024-11-24T16:44:29.884803Z",
     "shell.execute_reply": "2024-11-24T16:44:29.883850Z",
     "shell.execute_reply.started": "2024-11-24T16:44:11.237229Z"
    },
    "trusted": true
   },
   "outputs": [],
   "source": [
    "test_results = trainer.evaluate(tokenized_datasets[\"test\"])\n",
    "print(test_results)"
   ]
  },
  {
   "cell_type": "markdown",
   "id": "c3cda5a7-7fb9-43bc-84e3-e66ec6a48d91",
   "metadata": {},
   "source": [
    "### Факторизация матрицы эмбеддингов\n",
    "\n",
    "Можно заметить, что на данный момент матрица эмбеддингов занимает $V \\cdot H = 28996 \\cdot 768 = 22.268.928$ параметров. Это aж пятая часть от всей модели! Давайте попробуем что-то с этим сделать. В модели [ALBERT](https://arxiv.org/pdf/1909.11942.pdf) предлагается факторизовать матрицу эмбеддингов в произведение двух небольших матриц. Таким образом, параметры эмбеддингов будут содержать $V \\cdot E + E \\cdot H$ элементов, что гораздо меньше $V \\cdot H$, если $H \\gg E$. Авторы выбирают $E = 128$, однако ничего не мешает нам взять любое другое значение. Например, выбрав $H = 64$, мы уменьшим число параметров примерно на 20М.\n",
    "\n",
    "__Задание 3 (1 балл).__ Напишите класс-обертку над слоем эмбеддингов, который реализует факторизацию на две матрицы, и дообучите факторизованную модель. Заметьте, обе матрицы можно инициализировать с помощью SVD разложения, чтобы начальное приближение было хорошим. Это сэкономит очень много времени на дообучении. С рангом разложения $H = 64$ у вас должно получиться F1 больше 0.87."
   ]
  },
  {
   "cell_type": "code",
   "execution_count": 17,
   "id": "c1639dac-cf3c-4312-8330-d4f357f38c0b",
   "metadata": {
    "execution": {
     "iopub.execute_input": "2024-11-24T17:29:24.161795Z",
     "iopub.status.busy": "2024-11-24T17:29:24.161438Z",
     "iopub.status.idle": "2024-11-24T17:29:24.171468Z",
     "shell.execute_reply": "2024-11-24T17:29:24.170270Z",
     "shell.execute_reply.started": "2024-11-24T17:29:24.161762Z"
    },
    "trusted": true
   },
   "outputs": [],
   "source": [
    "class FactorizedEmbedding(nn.Module):\n",
    "    def __init__(self, original_embeddings, factor_dim):\n",
    "        super().__init__()\n",
    "        self.vocab_size, self.hidden_dim = original_embeddings.weight.size()\n",
    "        self.factor_dim = factor_dim\n",
    "\n",
    "        original_weight = original_embeddings.weight.detach().cpu().numpy()\n",
    "\n",
    "        U, S, Vt = np.linalg.svd(original_weight, full_matrices=False)\n",
    "        U = U[:, :factor_dim]\n",
    "        S = np.diag(S[:factor_dim])\n",
    "        V = np.dot(S, Vt[:factor_dim, :])\n",
    "\n",
    "        self.embedding1 = nn.Embedding(self.vocab_size, factor_dim)\n",
    "        self.embedding2 = nn.Linear(factor_dim, self.hidden_dim, bias=False)\n",
    "\n",
    "        self.embedding1.weight.data = torch.tensor(U, dtype=torch.float32)\n",
    "        self.embedding2.weight.data = torch.tensor(V.T, dtype=torch.float32)\n",
    "\n",
    "    def forward(self, input_ids):\n",
    "        x = self.embedding1(input_ids)  # [batch_size, seq_len, factor_dim]\n",
    "        x = self.embedding2(x)  # [batch_size, seq_len, hidden_dim]\n",
    "        return x"
   ]
  },
  {
   "cell_type": "code",
   "execution_count": null,
   "id": "f547f80c-e618-4cf8-a1cc-8b19e7b15d95",
   "metadata": {
    "execution": {
     "iopub.execute_input": "2024-11-24T17:29:44.218184Z",
     "iopub.status.busy": "2024-11-24T17:29:44.217792Z",
     "iopub.status.idle": "2024-11-24T17:29:49.673908Z",
     "shell.execute_reply": "2024-11-24T17:29:49.672197Z",
     "shell.execute_reply.started": "2024-11-24T17:29:44.218144Z"
    },
    "trusted": true
   },
   "outputs": [],
   "source": [
    "factor_dim = 64\n",
    "original_embeddings = model.bert.embeddings.word_embeddings\n",
    "factorized_embeddings = FactorizedEmbedding(original_embeddings, factor_dim)\n",
    "\n",
    "model.bert.embeddings.word_embeddings = factorized_embeddings"
   ]
  },
  {
   "cell_type": "code",
   "execution_count": null,
   "id": "4a8bc425-24a7-44e9-9292-f6d2681a3abb",
   "metadata": {
    "execution": {
     "iopub.execute_input": "2024-11-24T17:29:55.367019Z",
     "iopub.status.busy": "2024-11-24T17:29:55.366677Z",
     "iopub.status.idle": "2024-11-24T17:29:55.382463Z",
     "shell.execute_reply": "2024-11-24T17:29:55.381657Z",
     "shell.execute_reply.started": "2024-11-24T17:29:55.366988Z"
    },
    "trusted": true
   },
   "outputs": [],
   "source": [
    "trainer = Trainer(\n",
    "    model=model,\n",
    "    args=training_args,\n",
    "    train_dataset=tokenized_datasets[\"train\"],\n",
    "    eval_dataset=tokenized_datasets[\"validation\"],\n",
    "    tokenizer=tokenizer,\n",
    "    compute_metrics=compute_metrics,\n",
    ")"
   ]
  },
  {
   "cell_type": "code",
   "execution_count": null,
   "id": "03f26e4a-0ec7-4146-8731-57f70f2bfed9",
   "metadata": {
    "execution": {
     "iopub.execute_input": "2024-11-24T17:42:54.455513Z",
     "iopub.status.busy": "2024-11-24T17:42:54.454673Z",
     "iopub.status.idle": "2024-11-24T17:53:47.653563Z",
     "shell.execute_reply": "2024-11-24T17:53:47.652672Z",
     "shell.execute_reply.started": "2024-11-24T17:42:54.455477Z"
    },
    "trusted": true
   },
   "outputs": [],
   "source": [
    "wandb.init(\n",
    "    project=\"nlp_hw4_size_reduction\",\n",
    "    name='factorized_ft'\n",
    ")\n",
    "\n",
    "trainer.train()"
   ]
  },
  {
   "cell_type": "code",
   "execution_count": null,
   "id": "9c5e118a-46ee-4a1c-a121-09591656442b",
   "metadata": {
    "execution": {
     "iopub.execute_input": "2024-11-24T17:53:47.673884Z",
     "iopub.status.busy": "2024-11-24T17:53:47.673625Z",
     "iopub.status.idle": "2024-11-24T17:54:07.034892Z",
     "shell.execute_reply": "2024-11-24T17:54:07.033982Z",
     "shell.execute_reply.started": "2024-11-24T17:53:47.673857Z"
    },
    "trusted": true
   },
   "outputs": [],
   "source": [
    "test_results = trainer.evaluate(tokenized_datasets[\"test\"])\n",
    "print(test_results)\n",
    "\n",
    "wandb.finish()"
   ]
  },
  {
   "cell_type": "markdown",
   "id": "6220bd15-3681-4006-b7e0-44838b3500ad",
   "metadata": {},
   "source": [
    "### Дистилляция знаний\n",
    "\n",
    "Дистилляция знаний – это парадигма обучения, в которой знания модели-учителя дистиллируются в модель-ученика. Учеником может быть произвольная модель меньшего размера, решающая ту же задачу, однако обычно ученик имеет ту же архитектуру, что и учитель. При дистилляции используются два функционала ошибки:\n",
    "\n",
    "1. Стандартная кросс-энтропия.\n",
    "1. Функция, задающая расстояние между распределениями предсказаний учителя и ученика. Чаще всего используют KL-дивергенцию.\n",
    "\n",
    "Для того, чтобы распределение предсказаний учителя не было вырожденным, к softmax добавляют температуру больше 1, например, 2 или 5.   \n",
    "__Важно:__ при делении логитов на температуру значения градиентов уменьшаются в $\\tau^2$ раз (проверьте это!). Поэтому для возвращения их в изначальный масштаб ошибку надо домножить на $\\tau^2$. Подробнее об этом можно почитать в разделе 2.1 [оригинальной статьи](https://arxiv.org/pdf/1503.02531).\n",
    "\n",
    "<img src=\"https://intellabs.github.io/distiller/imgs/knowledge_distillation.png\" width=\"1000\">"
   ]
  },
  {
   "cell_type": "markdown",
   "id": "450e921f-279e-46ae-8c70-5d715b91106e",
   "metadata": {},
   "source": [
    "__Задание 4 (3 балла).__ Реализуйте метод дистилляции знаний, изображенный на картинке. Для подсчета ошибки между предсказаниями ученика и учителя используйте KL-дивергенцию [`nn.KLDivLoss(reduction=\"batchmean\")`](https://pytorch.org/docs/stable/generated/torch.nn.KLDivLoss.html) (обратите внимание на формат ее входов). Для получения итоговой ошибки суммируйте мягкую ошибку с жесткой.   \n",
    "В качестве учителя используйте дообученный BERT из задания 2. В качестве ученика возьмите необученную модель с размером __не больше 20M__ параметров. Вы можете использовать факторизацию матрицы эмбеддингов для уменьшения числа параметров. Если вы все сделали правильно, то на тестовой выборке вы должны получить значение F1 не меньше 0.7. Вам должно хватить примерно 20к итераций обучения для этого. Если у вас что-то не получается, то можно ориентироваться на статью про [DistilBERT](https://arxiv.org/abs/1910.01108) и на [эту статью](https://www.researchgate.net/publication/375758425_Knowledge_Distillation_Scheme_for_Named_Entity_Recognition_Model_Based_on_BERT).\n",
    "\n",
    "__Важно:__\n",
    "* Не забывайте добавлять _warmup_ при обучении ученика.\n",
    "* Не забывайте переводить учителя в режим _eval_."
   ]
  },
  {
   "cell_type": "code",
   "execution_count": null,
   "id": "ab5da5e8-be2d-4f72-9823-4692da5eee58",
   "metadata": {
    "execution": {
     "iopub.execute_input": "2024-11-25T11:50:46.847357Z",
     "iopub.status.busy": "2024-11-25T11:50:46.847021Z",
     "iopub.status.idle": "2024-11-25T11:50:54.943474Z",
     "shell.execute_reply": "2024-11-25T11:50:54.942464Z",
     "shell.execute_reply.started": "2024-11-25T11:50:46.847323Z"
    },
    "trusted": true
   },
   "outputs": [],
   "source": [
    "import gdown\n",
    "\n",
    "gdown.download(id='13YDJ3EA3iBisqPcaXf7g4fdgNOixiAoY') # тут фт модель из 2го задания"
   ]
  },
  {
   "cell_type": "code",
   "execution_count": null,
   "id": "8e9b99c9-ce42-4979-b5a9-fa4b416a4ebe",
   "metadata": {
    "execution": {
     "iopub.execute_input": "2024-11-25T12:22:00.883743Z",
     "iopub.status.busy": "2024-11-25T12:22:00.883408Z",
     "iopub.status.idle": "2024-11-25T12:22:00.902401Z",
     "shell.execute_reply": "2024-11-25T12:22:00.901541Z",
     "shell.execute_reply.started": "2024-11-25T12:22:00.883714Z"
    },
    "trusted": true
   },
   "outputs": [],
   "source": [
    "class ScaledDotProductAttention(nn.Module):\n",
    "    def __init__(self, dropout=0.1):\n",
    "        super().__init__()\n",
    "        self.dropout = nn.Dropout(dropout)\n",
    "\n",
    "    def forward(self, query, key, value, mask=None):\n",
    "        d_k = query.size(-1)\n",
    "        scores = torch.matmul(query, key.transpose(-2, -1)) / math.sqrt(d_k)\n",
    "        if mask is not None:\n",
    "            mask = mask[:, None, :, None] * mask[:, None, None, :]\n",
    "            ones = torch.ones(mask.shape[-2:], device=mask.device)\n",
    "            mask = mask + ones\n",
    "            scores = scores.masked_fill(mask == 0, -1e9)\n",
    "        attention = torch.softmax(scores, dim=-1)\n",
    "        attention = self.dropout(attention)\n",
    "        return torch.matmul(attention, value), attention\n",
    "\n",
    "\n",
    "class MultiHeadAttention(nn.Module):\n",
    "    def __init__(self, hidden_dim, num_heads, dropout=0.1):\n",
    "        super().__init__()\n",
    "        assert hidden_dim % num_heads == 0, \"hidden_dim must be divisible by num_heads\"\n",
    "        self.d_k = hidden_dim // num_heads\n",
    "        self.num_heads = num_heads\n",
    "\n",
    "        self.query = nn.Linear(hidden_dim, hidden_dim)\n",
    "        self.key = nn.Linear(hidden_dim, hidden_dim)\n",
    "        self.value = nn.Linear(hidden_dim, hidden_dim)\n",
    "        self.out = nn.Linear(hidden_dim, hidden_dim)\n",
    "\n",
    "        self.attention = ScaledDotProductAttention(dropout)\n",
    "        self.dropout = nn.Dropout(dropout)\n",
    "        self.layer_norm = nn.LayerNorm(hidden_dim)\n",
    "\n",
    "    def forward(self, x, mask=None):\n",
    "        batch_size, seq_len, hidden_dim = x.size()\n",
    "\n",
    "        query = self.query(x).view(batch_size, seq_len, self.num_heads, self.d_k).transpose(1, 2)\n",
    "        key = self.key(x).view(batch_size, seq_len, self.num_heads, self.d_k).transpose(1, 2)\n",
    "        value = self.value(x).view(batch_size, seq_len, self.num_heads, self.d_k).transpose(1, 2)\n",
    "\n",
    "        attn_output, _ = self.attention(query, key, value, mask)\n",
    "        attn_output = attn_output.transpose(1, 2).contiguous().view(batch_size, seq_len, hidden_dim)\n",
    "        output = self.out(attn_output)\n",
    "\n",
    "        return self.layer_norm(x + self.dropout(output))\n",
    "\n",
    "\n",
    "class FeedForward(nn.Module):\n",
    "    def __init__(self, hidden_dim, ff_dim, dropout=0.1):\n",
    "        super().__init__()\n",
    "        self.linear1 = nn.Linear(hidden_dim, ff_dim)\n",
    "        self.linear2 = nn.Linear(ff_dim, hidden_dim)\n",
    "        self.dropout = nn.Dropout(dropout)\n",
    "        self.layer_norm = nn.LayerNorm(hidden_dim)\n",
    "\n",
    "    def forward(self, x):\n",
    "        ff_output = self.linear2(self.dropout(torch.relu(self.linear1(x))))\n",
    "        return self.layer_norm(x + self.dropout(ff_output))\n",
    "\n",
    "\n",
    "class TransformerEncoderLayer(nn.Module):\n",
    "    def __init__(self, hidden_dim, num_heads, ff_dim, dropout=0.1):\n",
    "        super().__init__()\n",
    "        self.attention = MultiHeadAttention(hidden_dim, num_heads, dropout)\n",
    "        self.feed_forward = FeedForward(hidden_dim, ff_dim, dropout)\n",
    "\n",
    "    def forward(self, x, mask=None):\n",
    "        x = self.attention(x, mask)\n",
    "        return self.feed_forward(x)\n",
    "\n",
    "\n",
    "class BERTLikeModel(nn.Module):\n",
    "    def __init__(self, vocab_size, max_position_embeddings, hidden_dim, num_heads, ff_dim, num_layers, num_labels, dropout=0.1):\n",
    "        super().__init__()\n",
    "        self.embeddings = nn.Embedding(vocab_size, hidden_dim)\n",
    "        self.position_embeddings = nn.Embedding(max_position_embeddings, hidden_dim)\n",
    "        self.layer_norm = nn.LayerNorm(hidden_dim)\n",
    "        self.dropout = nn.Dropout(dropout)\n",
    "\n",
    "        self.encoder_layers = nn.ModuleList(\n",
    "            [TransformerEncoderLayer(hidden_dim, num_heads, ff_dim, dropout) for _ in range(num_layers)]\n",
    "        )\n",
    "\n",
    "        self.classifier = nn.Linear(hidden_dim, num_labels)\n",
    "\n",
    "    def forward(self, input_ids, attention_mask=None):\n",
    "        batch_size, seq_len = input_ids.size()\n",
    "        position_ids = torch.arange(seq_len, device=input_ids.device).unsqueeze(0).expand(batch_size, seq_len)\n",
    "\n",
    "        x = self.embeddings(input_ids) + self.position_embeddings(position_ids)\n",
    "        x = self.layer_norm(x)\n",
    "        x = self.dropout(x)\n",
    "\n",
    "        for layer in self.encoder_layers:\n",
    "            x = layer(x, attention_mask)\n",
    "\n",
    "        logits = self.classifier(x)\n",
    "        return logits\n",
    "    \n",
    "    def __str__(self):\n",
    "        \"\"\"\n",
    "        Model prints with the number of parameters.\n",
    "        \"\"\"\n",
    "        all_parameters = sum([p.numel() for p in self.parameters()])\n",
    "        trainable_parameters = sum(\n",
    "            [p.numel() for p in self.parameters() if p.requires_grad]\n",
    "        )\n",
    "\n",
    "        result_info = super().__str__()\n",
    "        result_info = result_info + f\"\\nAll parameters: {all_parameters}\"\n",
    "        result_info = result_info + f\"\\nTrainable parameters: {trainable_parameters}\"\n",
    "\n",
    "        return result_info"
   ]
  },
  {
   "cell_type": "code",
   "execution_count": null,
   "id": "3c10eee8",
   "metadata": {
    "execution": {
     "iopub.execute_input": "2024-11-25T12:22:01.144669Z",
     "iopub.status.busy": "2024-11-25T12:22:01.143894Z",
     "iopub.status.idle": "2024-11-25T12:22:01.616311Z",
     "shell.execute_reply": "2024-11-25T12:22:01.615602Z",
     "shell.execute_reply.started": "2024-11-25T12:22:01.144633Z"
    },
    "trusted": true
   },
   "outputs": [],
   "source": [
    "teacher_model = torch.load('model_checkpoint1.pt')\n",
    "teacher_model.eval()\n",
    "\n",
    "student_model = BERTLikeModel(\n",
    "    vocab_size=28996,\n",
    "    max_position_embeddings=128,\n",
    "    hidden_dim=396,         # Размер скрытого слоя\n",
    "    num_heads=6,            # Количество голов\n",
    "    ff_dim=512,             # Размер feed-forward слоя\n",
    "    num_layers=8,           # Количество слоев\n",
    "    num_labels=9,           # Количество меток (для NER)\n",
    "    dropout=0.1\n",
    ")"
   ]
  },
  {
   "cell_type": "code",
   "execution_count": null,
   "id": "3a6533bd",
   "metadata": {
    "execution": {
     "iopub.execute_input": "2024-11-25T12:22:01.618600Z",
     "iopub.status.busy": "2024-11-25T12:22:01.617957Z",
     "iopub.status.idle": "2024-11-25T12:22:01.626209Z",
     "shell.execute_reply": "2024-11-25T12:22:01.625295Z",
     "shell.execute_reply.started": "2024-11-25T12:22:01.618554Z"
    },
    "trusted": true
   },
   "outputs": [],
   "source": [
    "print(student_model)"
   ]
  },
  {
   "cell_type": "code",
   "execution_count": null,
   "id": "a694e6ed",
   "metadata": {
    "execution": {
     "iopub.execute_input": "2024-11-25T12:22:01.660248Z",
     "iopub.status.busy": "2024-11-25T12:22:01.659812Z",
     "iopub.status.idle": "2024-11-25T12:22:01.666877Z",
     "shell.execute_reply": "2024-11-25T12:22:01.665944Z",
     "shell.execute_reply.started": "2024-11-25T12:22:01.660220Z"
    },
    "trusted": true
   },
   "outputs": [],
   "source": [
    "class KnowledgeDistillationLoss(nn.Module):\n",
    "    def __init__(self, temperature=2.0, alpha=0.5):\n",
    "        super().__init__()\n",
    "        self.temperature = temperature\n",
    "        self.alpha = alpha\n",
    "        self.kl_loss = nn.KLDivLoss(reduction=\"batchmean\")\n",
    "        self.ce_loss = nn.CrossEntropyLoss()\n",
    "\n",
    "    def forward(self, student_logits, teacher_logits, labels):\n",
    "        student_probs = torch.log_softmax(student_logits / self.temperature, dim=-1)\n",
    "        teacher_probs = torch.softmax(teacher_logits / self.temperature, dim=-1)        \n",
    "        soft_loss = self.kl_loss(student_probs, teacher_probs)\n",
    "\n",
    "        hard_loss = self.ce_loss(student_logits.view(-1, student_logits.size(-1)), labels.view(-1))    \n",
    "        return self.alpha * soft_loss + (1 - self.alpha) * hard_loss, soft_loss, hard_loss"
   ]
  },
  {
   "cell_type": "code",
   "execution_count": null,
   "id": "fc0fb058",
   "metadata": {
    "execution": {
     "iopub.execute_input": "2024-11-25T12:22:01.906527Z",
     "iopub.status.busy": "2024-11-25T12:22:01.905792Z",
     "iopub.status.idle": "2024-11-25T12:22:01.913763Z",
     "shell.execute_reply": "2024-11-25T12:22:01.913120Z",
     "shell.execute_reply.started": "2024-11-25T12:22:01.906494Z"
    },
    "trusted": true
   },
   "outputs": [],
   "source": [
    "train_loader = DataLoader(tokenized_datasets[\"train\"], batch_size=128, shuffle=True, collate_fn=default_data_collator)\n",
    "eval_loader = DataLoader(tokenized_datasets[\"validation\"], batch_size=128, collate_fn=default_data_collator)\n",
    "\n",
    "temperature=2.0\n",
    "distillation_loss = KnowledgeDistillationLoss(temperature=temperature, alpha=0.5)\n",
    "\n",
    "optimizer = AdamW(student_model.parameters(), lr=3e-4)\n",
    "num_training_steps = len(train_loader) * 100  # 100 эпох\n",
    "lr_scheduler = get_scheduler(\"linear\", optimizer=optimizer, num_warmup_steps=1000, num_training_steps=num_training_steps)"
   ]
  },
  {
   "cell_type": "code",
   "execution_count": null,
   "id": "61962c43",
   "metadata": {
    "execution": {
     "iopub.execute_input": "2024-11-25T12:22:02.172217Z",
     "iopub.status.busy": "2024-11-25T12:22:02.171628Z",
     "iopub.status.idle": "2024-11-25T12:22:04.564579Z",
     "shell.execute_reply": "2024-11-25T12:22:04.563766Z",
     "shell.execute_reply.started": "2024-11-25T12:22:02.172183Z"
    },
    "trusted": true
   },
   "outputs": [],
   "source": [
    "wandb.init(\n",
    "    project=\"nlp_hw4_size_reduction\",\n",
    "    name='distilation'\n",
    ")"
   ]
  },
  {
   "cell_type": "code",
   "execution_count": null,
   "id": "ac5135e0",
   "metadata": {
    "execution": {
     "iopub.execute_input": "2024-11-25T12:22:04.581836Z",
     "iopub.status.busy": "2024-11-25T12:22:04.581585Z"
    },
    "trusted": true
   },
   "outputs": [],
   "source": [
    "device = torch.device(\"cuda\" if torch.cuda.is_available() else \"cpu\")\n",
    "teacher_model = nn.DataParallel(teacher_model.to(device))\n",
    "student_model = nn.DataParallel(student_model.to(device))\n",
    "\n",
    "for epoch in range(100):\n",
    "    print('Epoch:', epoch)\n",
    "    student_model.train()\n",
    "\n",
    "    for step, batch in tqdm(enumerate(train_loader), desc='training', total=len(train_loader)):\n",
    "        log_step = len(train_loader) * epoch + step\n",
    "        input_ids = batch[\"input_ids\"].to(device)\n",
    "        attention_mask = batch[\"attention_mask\"].to(device)\n",
    "        labels = batch[\"labels\"].to(device)\n",
    "\n",
    "        with torch.no_grad():\n",
    "            teacher_logits = teacher_model(input_ids=input_ids, attention_mask=attention_mask).logits\n",
    "\n",
    "        student_logits = student_model(input_ids=input_ids, attention_mask=attention_mask)\n",
    "\n",
    "        loss, soft_loss, hard_loss = distillation_loss(student_logits, teacher_logits, labels)\n",
    "\n",
    "        loss = loss * temperature ** 2\n",
    "\n",
    "        loss.backward()\n",
    "        optimizer.step()\n",
    "        lr_scheduler.step()\n",
    "        optimizer.zero_grad()\n",
    "\n",
    "        wandb.log({\n",
    "            \"train_loss\": loss.item(),\n",
    "            \"train_soft_loss\": soft_loss.item(),\n",
    "            \"train_hard_loss\": hard_loss.item(),\n",
    "            \"learning_rate\": lr_scheduler.get_last_lr()[0]})\n",
    "\n",
    "    student_model.eval()\n",
    "    true_labels, predictions = [], []\n",
    "\n",
    "    for step, batch in tqdm(enumerate(eval_loader), desc='validating', total=len(eval_loader)):\n",
    "        log_step = len(train_loader) * epoch + step\n",
    "        input_ids = batch[\"input_ids\"].to(device)\n",
    "        attention_mask = batch[\"attention_mask\"].to(device)\n",
    "        labels = batch[\"labels\"].to(device)\n",
    "\n",
    "        with torch.no_grad():\n",
    "            logits = student_model(input_ids=input_ids, attention_mask=attention_mask)\n",
    "\n",
    "        preds = torch.argmax(logits, dim=-1).cpu().numpy()\n",
    "        for label, pred in zip(labels, preds):\n",
    "            true_labels.append([label_names[l] for l in label if l != -100])\n",
    "            predictions.append([label_names[p] for l, p in zip(label, pred) if l != -100])\n",
    "\n",
    "    f1 = f1_score(true_labels, predictions)\n",
    "    wandb.log({\"val_f1\": f1})\n",
    "\n",
    "wandb.finish()"
   ]
  },
  {
   "cell_type": "code",
   "execution_count": null,
   "id": "2dca37a9-c033-4fd4-b595-f73854ae8531",
   "metadata": {
    "trusted": true
   },
   "outputs": [],
   "source": [
    "student_model.eval()\n",
    "test_loader = DataLoader(tokenized_datasets[\"test\"], batch_size=64, collate_fn=default_data_collator)\n",
    "true_labels, predictions = [], []\n",
    "\n",
    "for step, batch in tqdm(enumerate(test_loader), desc='testing', total=len(test_loader)):\n",
    "    log_step = len(train_loader) * epoch + step\n",
    "    input_ids = batch[\"input_ids\"].to(device)\n",
    "    attention_mask = batch[\"attention_mask\"].to(device)\n",
    "    labels = batch[\"labels\"].to(device)\n",
    "\n",
    "    with torch.no_grad():\n",
    "        logits = student_model(input_ids=input_ids, attention_mask=attention_mask)\n",
    "\n",
    "    preds = torch.argmax(logits, dim=-1).cpu().numpy()\n",
    "    for label, pred in zip(labels, preds):\n",
    "        true_labels.append([label_names[l] for l in label if l != -100])\n",
    "        predictions.append([label_names[p] for l, p in zip(label, pred) if l != -100])\n",
    "\n",
    "f1 = f1_score(true_labels, predictions)\n",
    "print(f\"F1 on test: {f1:.4f}\")"
   ]
  },
  {
   "cell_type": "markdown",
   "id": "12a3f8b6",
   "metadata": {},
   "source": [
    "### Шеринг весов обучение с нуля\n",
    "\n",
    "__Шеринг весов (2 балла).__ В модификации BERT [ALBERT](https://arxiv.org/pdf/1909.11942.pdf) помимо факторизации эмбеддингов предлагается шерить веса между слоями. То есть разные слои используют одни и те же веса. Такая техника эвивалентна применению одного и того же слоя несколько раз. Она позволяет в несколько раз уменьшить число параметров и не сильно потерять в качестве."
   ]
  },
  {
   "cell_type": "code",
   "execution_count": null,
   "id": "41f945d3",
   "metadata": {},
   "outputs": [],
   "source": [
    "class WeightSharingBERTLikeModel(nn.Module):\n",
    "    def __init__(self, vocab_size, max_position_embeddings, hidden_dim, num_heads, ff_dim, num_layers, num_labels, dropout=0.1):\n",
    "        super().__init__()\n",
    "        self.embeddings = nn.Embedding(vocab_size, hidden_dim)\n",
    "        self.position_embeddings = nn.Embedding(max_position_embeddings, hidden_dim)\n",
    "        self.layer_norm = nn.LayerNorm(hidden_dim)\n",
    "        self.dropout = nn.Dropout(dropout)\n",
    "\n",
    "        shared_layer = TransformerEncoderLayer(hidden_dim, num_heads, ff_dim, dropout)\n",
    "\n",
    "        self.encoder_layers = nn.ModuleList(\n",
    "            [shared_layer for _ in range(num_layers)]\n",
    "        )\n",
    "\n",
    "        self.classifier = nn.Linear(hidden_dim, num_labels)\n",
    "\n",
    "    def forward(self, input_ids, attention_mask=None):\n",
    "        batch_size, seq_len = input_ids.size()\n",
    "        position_ids = torch.arange(seq_len, device=input_ids.device).unsqueeze(0).expand(batch_size, seq_len)\n",
    "\n",
    "        x = self.embeddings(input_ids) + self.position_embeddings(position_ids)\n",
    "        x = self.layer_norm(x)\n",
    "        x = self.dropout(x)\n",
    "\n",
    "        for layer in self.encoder_layers:\n",
    "            x = layer(x, attention_mask)\n",
    "\n",
    "        logits = self.classifier(x)\n",
    "        return logits\n",
    "    \n",
    "    def __str__(self):\n",
    "        \"\"\"\n",
    "        Model prints with the number of parameters.\n",
    "        \"\"\"\n",
    "        all_parameters = sum([p.numel() for p in self.parameters()])\n",
    "        trainable_parameters = sum(\n",
    "            [p.numel() for p in self.parameters() if p.requires_grad]\n",
    "        )\n",
    "\n",
    "        result_info = super().__str__()\n",
    "        result_info = result_info + f\"\\nAll parameters: {all_parameters}\"\n",
    "        result_info = result_info + f\"\\nTrainable parameters: {trainable_parameters}\"\n",
    "\n",
    "        return result_info"
   ]
  },
  {
   "cell_type": "code",
   "execution_count": null,
   "id": "a306eb42",
   "metadata": {},
   "outputs": [],
   "source": [
    "# teacher_model = torch.load('model_checkpoint1.pt')\n",
    "# teacher_model.eval()\n",
    "\n",
    "student_model = WeightSharingBERTLikeModel(\n",
    "    vocab_size=28996,\n",
    "    max_position_embeddings=128,\n",
    "    hidden_dim=534,         # Размер скрытого слоя\n",
    "    num_heads=6,            # Количество голов\n",
    "    ff_dim=3072,             # Размер feed-forward слоя\n",
    "    num_layers=8,           # Количество слоев\n",
    "    num_labels=9,           # Количество меток (для NER)\n",
    "    dropout=0.1\n",
    ")"
   ]
  },
  {
   "cell_type": "code",
   "execution_count": null,
   "id": "6c29ba74",
   "metadata": {},
   "outputs": [],
   "source": [
    "print(student_model)"
   ]
  },
  {
   "cell_type": "code",
   "execution_count": null,
   "id": "30459661",
   "metadata": {},
   "outputs": [],
   "source": [
    "train_loader = DataLoader(tokenized_datasets[\"train\"], batch_size=32, shuffle=True, collate_fn=default_data_collator)\n",
    "eval_loader = DataLoader(tokenized_datasets[\"validation\"], batch_size=64, collate_fn=default_data_collator)\n",
    "\n",
    "temperature=2.0\n",
    "distillation_loss = KnowledgeDistillationLoss(temperature=temperature, alpha=0.5)\n",
    "\n",
    "optimizer = AdamW(student_model.parameters(), lr=5e-5)\n",
    "num_training_steps = len(train_loader) * 46  # 46 эпох\n",
    "lr_scheduler = get_scheduler(\"linear\", optimizer=optimizer, num_warmup_steps=1000, num_training_steps=num_training_steps)"
   ]
  },
  {
   "cell_type": "code",
   "execution_count": null,
   "id": "f30d514f",
   "metadata": {},
   "outputs": [],
   "source": [
    "wandb.init(\n",
    "    project=\"nlp_hw4_size_reduction\",\n",
    "    name='distilation_with_sharing'\n",
    ")"
   ]
  },
  {
   "cell_type": "code",
   "execution_count": null,
   "id": "99173e80",
   "metadata": {},
   "outputs": [],
   "source": [
    "device = torch.device(\"cuda\" if torch.cuda.is_available() else \"cpu\")\n",
    "teacher_model = nn.DataParallel(teacher_model.to(device))\n",
    "student_model = nn.DataParallel(student_model.to(device))\n",
    "\n",
    "for epoch in range(46):\n",
    "    print('Epoch:', epoch)\n",
    "    student_model.train()\n",
    "\n",
    "    for step, batch in tqdm(enumerate(train_loader), desc='training', total=len(train_loader)):\n",
    "        log_step = len(train_loader) * epoch + step\n",
    "        input_ids = batch[\"input_ids\"].to(device)\n",
    "        attention_mask = batch[\"attention_mask\"].to(device)\n",
    "        labels = batch[\"labels\"].to(device)\n",
    "\n",
    "        with torch.no_grad():\n",
    "            teacher_logits = teacher_model(input_ids=input_ids, attention_mask=attention_mask).logits\n",
    "\n",
    "        student_logits = student_model(input_ids=input_ids, attention_mask=attention_mask)\n",
    "\n",
    "        loss, soft_loss, hard_loss = distillation_loss(student_logits, teacher_logits, labels)\n",
    "\n",
    "        loss = loss * temperature ** 2\n",
    "\n",
    "        loss.backward()\n",
    "        optimizer.step()\n",
    "        lr_scheduler.step()\n",
    "        optimizer.zero_grad()\n",
    "\n",
    "        wandb.log({\n",
    "            \"train_loss\": loss.item(),\n",
    "            \"train_soft_loss\": soft_loss.item(),\n",
    "            \"train_hard_loss\": hard_loss.item(),\n",
    "            \"learning_rate\": lr_scheduler.get_last_lr()[0]})\n",
    "\n",
    "    student_model.eval()\n",
    "    true_labels, predictions = [], []\n",
    "\n",
    "    for step, batch in tqdm(enumerate(eval_loader), desc='validating', total=len(eval_loader)):\n",
    "        log_step = len(train_loader) * epoch + step\n",
    "        input_ids = batch[\"input_ids\"].to(device)\n",
    "        attention_mask = batch[\"attention_mask\"].to(device)\n",
    "        labels = batch[\"labels\"].to(device)\n",
    "\n",
    "        with torch.no_grad():\n",
    "            logits = student_model(input_ids=input_ids, attention_mask=attention_mask)\n",
    "\n",
    "        preds = torch.argmax(logits, dim=-1).cpu().numpy()\n",
    "        for label, pred in zip(labels, preds):\n",
    "            true_labels.append([label_names[l] for l in label if l != -100])\n",
    "            predictions.append([label_names[p] for l, p in zip(label, pred) if l != -100])\n",
    "\n",
    "    f1 = f1_score(true_labels, predictions)\n",
    "    wandb.log({\"val_f1\": f1})\n",
    "\n",
    "wandb.finish()"
   ]
  },
  {
   "cell_type": "code",
   "execution_count": null,
   "id": "3c991d27",
   "metadata": {},
   "outputs": [],
   "source": [
    "student_model.eval()\n",
    "test_loader = DataLoader(tokenized_datasets[\"test\"], batch_size=64, collate_fn=default_data_collator)\n",
    "true_labels, predictions = [], []\n",
    "\n",
    "for step, batch in tqdm(enumerate(test_loader), desc='testing', total=len(test_loader)):\n",
    "    log_step = len(train_loader) * epoch + step\n",
    "    input_ids = batch[\"input_ids\"].to(device)\n",
    "    attention_mask = batch[\"attention_mask\"].to(device)\n",
    "    labels = batch[\"labels\"].to(device)\n",
    "\n",
    "    with torch.no_grad():\n",
    "        logits = student_model(input_ids=input_ids, attention_mask=attention_mask)\n",
    "\n",
    "    preds = torch.argmax(logits, dim=-1).cpu().numpy()\n",
    "    for label, pred in zip(labels, preds):\n",
    "        true_labels.append([label_names[l] for l in label if l != -100])\n",
    "        predictions.append([label_names[p] for l, p in zip(label, pred) if l != -100])\n",
    "\n",
    "f1 = f1_score(true_labels, predictions)\n",
    "print(f\"F1 on test: {f1:.4f}\")"
   ]
  },
  {
   "cell_type": "markdown",
   "id": "0e7c2437",
   "metadata": {},
   "source": [
    "### Шеринг весов ft"
   ]
  },
  {
   "cell_type": "code",
   "execution_count": null,
   "id": "37e1c0f2",
   "metadata": {},
   "outputs": [
    {
     "name": "stdout",
     "output_type": "stream",
     "text": [
      "Число параметров: 19991961\n"
     ]
    }
   ],
   "source": [
    "model = torch.load('model_checkpoint1.pt', map_location=torch.device('cpu'))\n",
    "\n",
    "shared_layer = model.bert.encoder.layer[0]\n",
    "\n",
    "for i in range(len(model.bert.encoder.layer)):\n",
    "    model.bert.encoder.layer[i] = shared_layer\n",
    "\n",
    "rank=420\n",
    "original_embeddings = model.bert.embeddings.word_embeddings\n",
    "factorized_embeddings = FactorizedEmbedding(original_embeddings, rank)\n",
    "\n",
    "model.bert.embeddings.word_embeddings = factorized_embeddings\n",
    "\n",
    "print('Число параметров:', sum(p.numel() for p in model.parameters()))"
   ]
  },
  {
   "cell_type": "code",
   "execution_count": null,
   "id": "e875f0a4",
   "metadata": {},
   "outputs": [],
   "source": [
    "trainer = Trainer(\n",
    "    model=model,\n",
    "    args=training_args,\n",
    "    train_dataset=tokenized_datasets[\"train\"],\n",
    "    eval_dataset=tokenized_datasets[\"validation\"],\n",
    "    tokenizer=tokenizer,\n",
    "    compute_metrics=compute_metrics,\n",
    ")"
   ]
  },
  {
   "cell_type": "code",
   "execution_count": null,
   "id": "cfa060da",
   "metadata": {},
   "outputs": [],
   "source": [
    "wandb.init(\n",
    "    project=\"nlp_hw4_size_reduction\",\n",
    "    name='sharing_encoder_weights_ft'\n",
    ")\n",
    "\n",
    "trainer.train()"
   ]
  },
  {
   "cell_type": "code",
   "execution_count": null,
   "id": "30ed674c",
   "metadata": {},
   "outputs": [],
   "source": [
    "test_results = trainer.evaluate(tokenized_datasets[\"test\"])\n",
    "print(test_results)\n",
    "\n",
    "wandb.finish()"
   ]
  },
  {
   "cell_type": "markdown",
   "id": "88ae322c",
   "metadata": {},
   "source": [
    "### Факторизация промежуточных слоев обучение с нуля\n",
    "\n",
    "__Факторизация промежуточных слоев (2 балла).__ Если можно факторизовать матрицу эмбеддингов, то и все остальное тоже можно. Для факторизации слоев существует много разных подходов и выбрать какой-то один сложно. Вы можете вдохновляться [этим списком](https://lechnowak.com/posts/neural-network-low-rank-factorization-techniques/), найти в интернете что-то другое или придумать метод самостоятельно. В любом случае в отчете обоснуйте, почему вы решили сделать так как сделали."
   ]
  },
  {
   "cell_type": "code",
   "execution_count": 42,
   "id": "7796147b",
   "metadata": {},
   "outputs": [],
   "source": [
    "class FactorizedLinear(nn.Module):\n",
    "    def __init__(self, in_features, out_features, rank):\n",
    "        super().__init__()\n",
    "        self.U = nn.Linear(in_features, rank, bias=False)\n",
    "        self.V = nn.Linear(rank, out_features, bias=True)\n",
    "\n",
    "    def forward(self, x):\n",
    "        return self.V(self.U(x))\n",
    "\n",
    "\n",
    "class FactorizedMultiHeadAttention(MultiHeadAttention):\n",
    "    def __init__(self, hidden_dim, num_heads, rank, dropout=0.1):\n",
    "        super().__init__(hidden_dim, num_heads, dropout)\n",
    "        self.query = FactorizedLinear(hidden_dim, hidden_dim, rank)\n",
    "        self.key = FactorizedLinear(hidden_dim, hidden_dim, rank)\n",
    "        self.value = FactorizedLinear(hidden_dim, hidden_dim, rank)\n",
    "        self.out = FactorizedLinear(hidden_dim, hidden_dim, rank)\n",
    "\n",
    "\n",
    "class FactorizedFeedForward(FeedForward):\n",
    "    def __init__(self, hidden_dim, ff_dim, rank, dropout=0.1):\n",
    "        super().__init__(hidden_dim, ff_dim, dropout)\n",
    "        self.linear1 = FactorizedLinear(hidden_dim, ff_dim, rank)\n",
    "        self.linear2 = FactorizedLinear(ff_dim, hidden_dim, rank)\n",
    "\n",
    "\n",
    "class FactorizedTransformerEncoderLayer(TransformerEncoderLayer):\n",
    "    def __init__(self, hidden_dim, num_heads, ff_dim, rank, dropout=0.1):\n",
    "        super().__init__(hidden_dim, num_heads, ff_dim, dropout)\n",
    "        self.attention = FactorizedMultiHeadAttention(hidden_dim, num_heads, rank, dropout)\n",
    "        self.feed_forward = FactorizedFeedForward(hidden_dim, ff_dim, rank, dropout)\n",
    "\n",
    "\n",
    "class FactorizedBERTLikeModel(BERTLikeModel):\n",
    "    def __init__(self, vocab_size, max_position_embeddings, hidden_dim, num_heads, ff_dim, num_layers, num_labels, rank, dropout=0.1):\n",
    "        super().__init__(vocab_size, max_position_embeddings, hidden_dim, num_heads, ff_dim, num_layers, num_labels, dropout)\n",
    "\n",
    "        self.encoder_layers = nn.ModuleList(\n",
    "            [FactorizedTransformerEncoderLayer(hidden_dim, num_heads, ff_dim, rank, dropout) for _ in range(num_layers)]\n",
    "        )\n",
    "\n",
    "        self.classifier = FactorizedLinear(hidden_dim, num_labels, rank)\n"
   ]
  },
  {
   "cell_type": "code",
   "execution_count": null,
   "id": "a936948f",
   "metadata": {},
   "outputs": [],
   "source": [
    "factorized_model = FactorizedBERTLikeModel(\n",
    "    vocab_size=28996,\n",
    "    max_position_embeddings=128,\n",
    "    hidden_dim=512,         # Размер скрытого слоя\n",
    "    num_heads=4,            # Количество голов\n",
    "    ff_dim=2048,             # Размер feed-forward слоя\n",
    "    num_layers=6,           # Количество слоев\n",
    "    num_labels=9,           # Количество меток (например, для NER)\n",
    "    rank=90,                # Ранг факторизации\n",
    "    dropout=0.1\n",
    ")"
   ]
  },
  {
   "cell_type": "code",
   "execution_count": null,
   "id": "3b292fe7",
   "metadata": {},
   "outputs": [],
   "source": [
    "print(factorized_model)"
   ]
  },
  {
   "cell_type": "code",
   "execution_count": null,
   "id": "330e011b",
   "metadata": {},
   "outputs": [],
   "source": [
    "train_loader = DataLoader(tokenized_datasets[\"train\"], batch_size=128, shuffle=True, collate_fn=default_data_collator)\n",
    "eval_loader = DataLoader(tokenized_datasets[\"validation\"], batch_size=128, collate_fn=default_data_collator)\n",
    "\n",
    "temperature=2.0\n",
    "distillation_loss = KnowledgeDistillationLoss(temperature=temperature, alpha=0.5)\n",
    "\n",
    "optimizer = AdamW(factorized_model.parameters(), lr=3e-4)\n",
    "num_training_steps = len(train_loader) * 100  # 100 эпох\n",
    "lr_scheduler = get_scheduler(\"linear\", optimizer=optimizer, num_warmup_steps=1000, num_training_steps=num_training_steps)"
   ]
  },
  {
   "cell_type": "code",
   "execution_count": null,
   "id": "2f7840b4",
   "metadata": {},
   "outputs": [],
   "source": [
    "wandb.init(\n",
    "    project=\"nlp_hw4_size_reduction\",\n",
    "    name='distilation_with_all_factorization'\n",
    ")"
   ]
  },
  {
   "cell_type": "code",
   "execution_count": null,
   "id": "76a5df82",
   "metadata": {},
   "outputs": [],
   "source": [
    "device = torch.device(\"cuda\" if torch.cuda.is_available() else \"cpu\")\n",
    "teacher_model = nn.DataParallel(teacher_model.to(device))\n",
    "factorized_model = nn.DataParallel(factorized_model.to(device))\n",
    "\n",
    "for epoch in range(100):\n",
    "    print('Epoch:', epoch)\n",
    "    factorized_model.train()\n",
    "\n",
    "    for step, batch in tqdm(enumerate(train_loader), desc='training', total=len(train_loader)):\n",
    "        log_step = len(train_loader) * epoch + step\n",
    "        input_ids = batch[\"input_ids\"].to(device)\n",
    "        attention_mask = batch[\"attention_mask\"].to(device)\n",
    "        labels = batch[\"labels\"].to(device)\n",
    "\n",
    "        with torch.no_grad():\n",
    "            teacher_logits = teacher_model(input_ids=input_ids, attention_mask=attention_mask).logits\n",
    "\n",
    "        factorized_logits = factorized_model(input_ids=input_ids, attention_mask=attention_mask)\n",
    "\n",
    "        loss, soft_loss, hard_loss = distillation_loss(factorized_logits, teacher_logits, labels)\n",
    "\n",
    "        loss = loss * temperature ** 2\n",
    "\n",
    "        loss.backward()\n",
    "        optimizer.step()\n",
    "        lr_scheduler.step()\n",
    "        optimizer.zero_grad()\n",
    "\n",
    "        wandb.log({\n",
    "            \"train_loss\": loss.item(),\n",
    "            \"train_soft_loss\": soft_loss.item(),\n",
    "            \"train_hard_loss\": hard_loss.item(),\n",
    "            \"learning_rate\": lr_scheduler.get_last_lr()[0]})\n",
    "\n",
    "    factorized_model.eval()\n",
    "    true_labels, predictions = [], []\n",
    "\n",
    "    for step, batch in tqdm(enumerate(eval_loader), desc='validating', total=len(eval_loader)):\n",
    "        log_step = len(train_loader) * epoch + step\n",
    "        input_ids = batch[\"input_ids\"].to(device)\n",
    "        attention_mask = batch[\"attention_mask\"].to(device)\n",
    "        labels = batch[\"labels\"].to(device)\n",
    "\n",
    "        with torch.no_grad():\n",
    "            logits = factorized_model(input_ids=input_ids, attention_mask=attention_mask)\n",
    "\n",
    "        preds = torch.argmax(logits, dim=-1).cpu().numpy()\n",
    "        for label, pred in zip(labels, preds):\n",
    "            true_labels.append([label_names[l] for l in label if l != -100])\n",
    "            predictions.append([label_names[p] for l, p in zip(label, pred) if l != -100])\n",
    "\n",
    "    f1 = f1_score(true_labels, predictions)\n",
    "    wandb.log({\"val_f1\": f1})\n",
    "\n",
    "wandb.finish()"
   ]
  },
  {
   "cell_type": "code",
   "execution_count": null,
   "id": "8dd81f72",
   "metadata": {},
   "outputs": [],
   "source": [
    "factorized_model.eval()\n",
    "test_loader = DataLoader(tokenized_datasets[\"test\"], batch_size=64, collate_fn=default_data_collator)\n",
    "true_labels, predictions = [], []\n",
    "\n",
    "for step, batch in tqdm(enumerate(test_loader), desc='testing', total=len(test_loader)):\n",
    "    log_step = len(train_loader) * epoch + step\n",
    "    input_ids = batch[\"input_ids\"].to(device)\n",
    "    attention_mask = batch[\"attention_mask\"].to(device)\n",
    "    labels = batch[\"labels\"].to(device)\n",
    "\n",
    "    with torch.no_grad():\n",
    "        logits = factorized_model(input_ids=input_ids, attention_mask=attention_mask)\n",
    "\n",
    "    preds = torch.argmax(logits, dim=-1).cpu().numpy()\n",
    "    for label, pred in zip(labels, preds):\n",
    "        true_labels.append([label_names[l] for l in label if l != -100])\n",
    "        predictions.append([label_names[p] for l, p in zip(label, pred) if l != -100])\n",
    "\n",
    "f1 = f1_score(true_labels, predictions)\n",
    "print(f\"F1 on test: {f1:.4f}\")"
   ]
  },
  {
   "cell_type": "markdown",
   "id": "b227c740",
   "metadata": {},
   "source": [
    "### Факторизаия ft"
   ]
  },
  {
   "cell_type": "code",
   "execution_count": 72,
   "id": "7bac4c34",
   "metadata": {},
   "outputs": [],
   "source": [
    "class FactorizedLinear(nn.Module):\n",
    "    def __init__(self, in_features, out_features, rank):\n",
    "        super().__init__()\n",
    "        self.U = nn.Linear(in_features, rank, bias=False)\n",
    "        self.V = nn.Linear(rank, out_features, bias=True) \n",
    "\n",
    "    def forward(self, x):\n",
    "        return self.V(self.U(x))\n",
    "\n",
    "def svd_factorize_linear(layer, rank):\n",
    "    with torch.no_grad():\n",
    "        W = layer.weight.data\n",
    "        U, S, Vh = torch.linalg.svd(W, full_matrices=False)\n",
    "        \n",
    "        U_reduced = U[:, :rank]\n",
    "        S_reduced = S[:rank]\n",
    "        Vh_reduced = Vh[:rank, :]\n",
    "        \n",
    "        U_weight = U_reduced @ torch.diag(S_reduced)\n",
    "        V_weight = Vh_reduced\n",
    "\n",
    "        assert U.shape[0] == W.shape[0]\n",
    "        assert Vh.shape[1] == W.shape[1]\n",
    "\n",
    "        \n",
    "        factorized_layer = FactorizedLinear(W.size(1), W.size(0), rank)\n",
    "\n",
    "        factorized_layer.U.weight.data.copy_(V_weight)\n",
    "        factorized_layer.V.weight.data.copy_(U_weight)\n",
    "        \n",
    "        if layer.bias is not None:\n",
    "            factorized_layer.V.bias.data.copy_(layer.bias.data)\n",
    "\n",
    "        return factorized_layer\n",
    "\n",
    "def replace_linear_with_factorized(module, rank):\n",
    "    for name, child in module.named_children():\n",
    "        if isinstance(child, nn.Linear):\n",
    "            change = True\n",
    "            for shape in child.weight.data.shape:\n",
    "                if shape < rank:\n",
    "                    change = False\n",
    "            if change:\n",
    "                factorized_layer = svd_factorize_linear(child, rank)\n",
    "                setattr(module, name, factorized_layer)\n",
    "        else:\n",
    "            replace_linear_with_factorized(child, rank)\n",
    "    return module\n"
   ]
  },
  {
   "cell_type": "code",
   "execution_count": null,
   "id": "cacdedf7",
   "metadata": {},
   "outputs": [
    {
     "name": "stdout",
     "output_type": "stream",
     "text": [
      "Число параметров: 19892565\n"
     ]
    }
   ],
   "source": [
    "model = torch.load('model_checkpoint1.pt', map_location=torch.device('cpu'))\n",
    "\n",
    "rank = 99\n",
    "factorized_model = replace_linear_with_factorized(model, rank)\n",
    "original_embeddings = factorized_model.bert.embeddings.word_embeddings\n",
    "factorized_embeddings = FactorizedEmbedding(original_embeddings, rank)\n",
    "\n",
    "factorized_model.bert.embeddings.word_embeddings = factorized_embeddings\n",
    "\n",
    "print('Число параметров:', sum(p.numel() for p in factorized_model.parameters()))"
   ]
  },
  {
   "cell_type": "code",
   "execution_count": null,
   "id": "8b3ed0b8",
   "metadata": {},
   "outputs": [],
   "source": [
    "trainer = Trainer(\n",
    "    model=model,\n",
    "    args=training_args,\n",
    "    train_dataset=tokenized_datasets[\"train\"],\n",
    "    eval_dataset=tokenized_datasets[\"validation\"],\n",
    "    tokenizer=tokenizer,\n",
    "    compute_metrics=compute_metrics,\n",
    ")"
   ]
  },
  {
   "cell_type": "code",
   "execution_count": null,
   "id": "85ecb886",
   "metadata": {},
   "outputs": [],
   "source": [
    "wandb.init(\n",
    "    project=\"nlp_hw4_size_reduction\",\n",
    "    name='factorized_all_ft'\n",
    ")\n",
    "\n",
    "trainer.train()"
   ]
  },
  {
   "cell_type": "code",
   "execution_count": null,
   "id": "a45e232b",
   "metadata": {},
   "outputs": [],
   "source": [
    "test_results = trainer.evaluate(tokenized_datasets[\"test\"])\n",
    "print(test_results)\n",
    "\n",
    "wandb.finish()"
   ]
  },
  {
   "cell_type": "markdown",
   "id": "248bf555",
   "metadata": {},
   "source": [
    "### Приближение промежуточнх слоев\n",
    "\n",
    "__Приближение промежуточных слоев (2 балла).__ Мы обсуждали, что помимо приближения выходов модели ученика к выходам модели учителя, можно приближать выходы промежуточных слоев. В [этой работе](https://www.researchgate.net/publication/375758425_Knowledge_Distillation_Scheme_for_Named_Entity_Recognition_Model_Based_on_BERT) подробно написано, как это можно сделать."
   ]
  },
  {
   "cell_type": "code",
   "execution_count": 13,
   "id": "c5c08207",
   "metadata": {},
   "outputs": [],
   "source": [
    "class ScaledDotProductAttention(nn.Module):\n",
    "    def __init__(self, dropout=0.1):\n",
    "        super().__init__()\n",
    "        self.dropout = nn.Dropout(dropout)\n",
    "\n",
    "    def forward(self, query, key, value, mask=None):\n",
    "        d_k = query.size(-1)\n",
    "        scores = torch.matmul(query, key.transpose(-2, -1)) / math.sqrt(d_k)\n",
    "        if mask is not None:\n",
    "            mask = mask[:, None, :, None] * mask[:, None, None, :]\n",
    "            ones = torch.ones(mask.shape[-2:], device=mask.device)\n",
    "            mask = mask + ones\n",
    "            scores = scores.masked_fill(mask == 0, -1e9)\n",
    "        attention = torch.softmax(scores, dim=-1)\n",
    "        attention = self.dropout(attention)\n",
    "        return torch.matmul(attention, value), attention\n",
    "\n",
    "\n",
    "class MultiHeadAttention(nn.Module):\n",
    "    def __init__(self, hidden_dim, num_heads, dropout=0.1):\n",
    "        super().__init__()\n",
    "        assert hidden_dim % num_heads == 0, \"hidden_dim must be divisible by num_heads\"\n",
    "        self.d_k = hidden_dim // num_heads\n",
    "        self.num_heads = num_heads\n",
    "\n",
    "        self.query = nn.Linear(hidden_dim, hidden_dim)\n",
    "        self.key = nn.Linear(hidden_dim, hidden_dim)\n",
    "        self.value = nn.Linear(hidden_dim, hidden_dim)\n",
    "        self.out = nn.Linear(hidden_dim, hidden_dim)\n",
    "\n",
    "        self.attention = ScaledDotProductAttention(dropout)\n",
    "        self.dropout = nn.Dropout(dropout)\n",
    "        self.layer_norm = nn.LayerNorm(hidden_dim)\n",
    "\n",
    "    def forward(self, x, mask=None):\n",
    "        batch_size, seq_len, hidden_dim = x.size()\n",
    "\n",
    "        query = self.query(x).view(batch_size, seq_len, self.num_heads, self.d_k).transpose(1, 2)\n",
    "        key = self.key(x).view(batch_size, seq_len, self.num_heads, self.d_k).transpose(1, 2)\n",
    "        value = self.value(x).view(batch_size, seq_len, self.num_heads, self.d_k).transpose(1, 2)\n",
    "\n",
    "        attn_output, attention_matrix = self.attention(query, key, value, mask)\n",
    "        attn_output = attn_output.transpose(1, 2).contiguous().view(batch_size, seq_len, hidden_dim)\n",
    "        output = self.out(attn_output)\n",
    "\n",
    "        return self.layer_norm(x + self.dropout(output)), attention_matrix\n",
    "\n",
    "\n",
    "class FeedForward(nn.Module):\n",
    "    def __init__(self, hidden_dim, ff_dim, dropout=0.1):\n",
    "        super().__init__()\n",
    "        self.linear1 = nn.Linear(hidden_dim, ff_dim)\n",
    "        self.linear2 = nn.Linear(ff_dim, hidden_dim)\n",
    "        self.dropout = nn.Dropout(dropout)\n",
    "        self.layer_norm = nn.LayerNorm(hidden_dim)\n",
    "\n",
    "    def forward(self, x):\n",
    "        ff_output = self.linear2(self.dropout(torch.relu(self.linear1(x))))\n",
    "        return self.layer_norm(x + self.dropout(ff_output))\n",
    "\n",
    "\n",
    "class TransformerEncoderLayer(nn.Module):\n",
    "    def __init__(self, hidden_dim, num_heads, ff_dim, dropout=0.1):\n",
    "        super().__init__()\n",
    "        self.attention = MultiHeadAttention(hidden_dim, num_heads, dropout)\n",
    "        self.feed_forward = FeedForward(hidden_dim, ff_dim, dropout)\n",
    "\n",
    "    def forward(self, x, mask=None):\n",
    "        x, attention_matrix = self.attention(x, mask)\n",
    "        return self.feed_forward(x), attention_matrix\n",
    "\n",
    "\n",
    "class BERTLikeModel(nn.Module):\n",
    "    def __init__(self, vocab_size, max_position_embeddings, hidden_dim, num_heads, ff_dim, num_layers, num_labels, dropout=0.1):\n",
    "        super().__init__()\n",
    "        self.embeddings = nn.Embedding(vocab_size, hidden_dim)\n",
    "        self.position_embeddings = nn.Embedding(max_position_embeddings, hidden_dim)\n",
    "        self.layer_norm = nn.LayerNorm(hidden_dim)\n",
    "        self.dropout = nn.Dropout(dropout)\n",
    "\n",
    "        self.encoder_layers = nn.ModuleList(\n",
    "            [TransformerEncoderLayer(hidden_dim, num_heads, ff_dim, dropout) for _ in range(num_layers)]\n",
    "        )\n",
    "\n",
    "        self.classifier = nn.Linear(hidden_dim, num_labels)\n",
    "\n",
    "    def forward(self, input_ids, attention_mask=None):\n",
    "        batch_size, seq_len = input_ids.size()\n",
    "        position_ids = torch.arange(seq_len, device=input_ids.device).unsqueeze(0).expand(batch_size, seq_len)\n",
    "\n",
    "        x = self.embeddings(input_ids) + self.position_embeddings(position_ids)\n",
    "        x = self.layer_norm(x)\n",
    "        x = self.dropout(x)\n",
    "\n",
    "        attentions, hidden_states = [], []\n",
    "\n",
    "        for layer in self.encoder_layers:\n",
    "            x, attention_matrix = layer(x, attention_mask)\n",
    "            attentions.append(attention_matrix)\n",
    "            hidden_states.append(x)\n",
    "\n",
    "        logits = self.classifier(x)\n",
    "        return logits, attentions, hidden_states\n",
    "    \n",
    "    def __str__(self):\n",
    "        \"\"\"\n",
    "        Model prints with the number of parameters.\n",
    "        \"\"\"\n",
    "        all_parameters = sum([p.numel() for p in self.parameters()])\n",
    "        trainable_parameters = sum(\n",
    "            [p.numel() for p in self.parameters() if p.requires_grad]\n",
    "        )\n",
    "\n",
    "        result_info = super().__str__()\n",
    "        result_info = result_info + f\"\\nAll parameters: {all_parameters}\"\n",
    "        result_info = result_info + f\"\\nTrainable parameters: {trainable_parameters}\"\n",
    "\n",
    "        return result_info"
   ]
  },
  {
   "cell_type": "code",
   "execution_count": 17,
   "id": "177954a7",
   "metadata": {},
   "outputs": [
    {
     "name": "stderr",
     "output_type": "stream",
     "text": [
      "Some weights of BertForTokenClassification were not initialized from the model checkpoint at bert-base-cased and are newly initialized: ['classifier.bias', 'classifier.weight']\n",
      "You should probably TRAIN this model on a down-stream task to be able to use it for predictions and inference.\n"
     ]
    }
   ],
   "source": [
    "teacher_model = AutoModelForTokenClassification.from_pretrained(\n",
    "    'bert-base-cased',\n",
    "    num_labels=len(label_names),\n",
    "    output_hidden_states=True,\n",
    "    output_attentions=True\n",
    ")\n",
    "teacher_model.eval()\n",
    "\n",
    "student_hidden_dim =396\n",
    "teacher_hidden_dim = teacher_model.bert.embeddings.word_embeddings.weight.shape[1]\n",
    "student_model = BERTLikeModel(\n",
    "    vocab_size=28996,\n",
    "    max_position_embeddings=128,\n",
    "    hidden_dim=student_hidden_dim,         # Размер скрытого слоя\n",
    "    num_heads=12,            # Количество голов\n",
    "    ff_dim=512,             # Размер feed-forward слоя\n",
    "    num_layers=8,           # Количество слоев\n",
    "    num_labels=9,           # Количество меток (для NER)\n",
    "    dropout=0.1\n",
    ")"
   ]
  },
  {
   "cell_type": "code",
   "execution_count": null,
   "id": "b2e0b4b1",
   "metadata": {},
   "outputs": [],
   "source": [
    "print(student_model)"
   ]
  },
  {
   "cell_type": "code",
   "execution_count": null,
   "id": "20744a40",
   "metadata": {},
   "outputs": [],
   "source": [
    "print(teacher_model)\n"
   ]
  },
  {
   "cell_type": "code",
   "execution_count": null,
   "id": "651ac09b",
   "metadata": {},
   "outputs": [],
   "source": [
    "class KnowledgeDistillationLoss(nn.Module):\n",
    "    def __init__(self, device, temperature=2.0, alpha=0.5):\n",
    "        super().__init__()\n",
    "        self.device=device\n",
    "        self.temperature = temperature\n",
    "        self.alpha = alpha\n",
    "        self.kl_loss = nn.KLDivLoss(reduction=\"batchmean\")\n",
    "        self.ce_loss = nn.CrossEntropyLoss()\n",
    "        self.mse = nn.MSELoss()\n",
    "        self.lin = nn.Linear(in_features=student_hidden_dim, out_features=teacher_hidden_dim, bias=False, device=device)\n",
    "\n",
    "    def forward(self, student_logits, teacher_logits, student_attentions, teacher_attentions, student_hs, teacher_hs, labels):\n",
    "        student_probs = torch.log_softmax(student_logits / self.temperature, dim=-1)\n",
    "        teacher_probs = torch.softmax(teacher_logits / self.temperature, dim=-1)        \n",
    "        soft_loss = self.kl_loss(student_probs, teacher_probs)\n",
    "        # hard_loss = self.ce_loss(student_logits.view(-1, student_logits.size(-1)), labels.view(-1)) \n",
    "        hard_loss = torch.tensor([0], device=self.device)\n",
    "\n",
    "        attn_loss = torch.mean(torch.tensor([self.mse(attn1, attn2) for attn1, attn2 in zip(student_attentions, teacher_attentions[::2])]))\n",
    "        hs_loss = torch.mean(torch.tensor([self.mse(self.lin(hs1), hs2) for hs1, hs2 in zip(student_hs, teacher_hs[1::2])])) # remove embeddings hs\n",
    "\n",
    "        trans_loss = attn_loss + hs_loss\n",
    "        return self.alpha * (soft_loss + trans_loss) + (1 - self.alpha) * hard_loss, soft_loss, hard_loss, trans_loss"
   ]
  },
  {
   "cell_type": "code",
   "execution_count": null,
   "id": "1d2e859d",
   "metadata": {},
   "outputs": [],
   "source": [
    "train_loader = DataLoader(tokenized_datasets[\"train\"], batch_size=128, shuffle=True, collate_fn=default_data_collator)\n",
    "eval_loader = DataLoader(tokenized_datasets[\"validation\"], batch_size=128, collate_fn=default_data_collator)\n",
    "\n",
    "temperature=2.0\n",
    "device = torch.device(\"cuda\" if torch.cuda.is_available() else \"cpu\")\n",
    "distillation_loss = KnowledgeDistillationLoss(device, temperature=temperature, alpha=0.5)\n",
    "\n",
    "optimizer = AdamW(student_model.parameters(), lr=3e-4)\n",
    "num_training_steps = len(train_loader) * 100  # 100 эпох\n",
    "lr_scheduler = get_scheduler(\"linear\", optimizer=optimizer, num_warmup_steps=1000, num_training_steps=num_training_steps)"
   ]
  },
  {
   "cell_type": "code",
   "execution_count": null,
   "id": "e6ddd785",
   "metadata": {},
   "outputs": [],
   "source": [
    "wandb.init(\n",
    "    project=\"nlp_hw4_size_reduction\",\n",
    "    name='distilation_hs_attn_matching'\n",
    ")"
   ]
  },
  {
   "cell_type": "code",
   "execution_count": null,
   "id": "998ba650",
   "metadata": {},
   "outputs": [],
   "source": [
    "teacher_model = nn.DataParallel(teacher_model.to(device))\n",
    "student_model = nn.DataParallel(student_model.to(device))\n",
    "\n",
    "for epoch in range(100):\n",
    "    print('Epoch:', epoch)\n",
    "    student_model.train()\n",
    "\n",
    "    for step, batch in tqdm(enumerate(train_loader), desc='training', total=len(train_loader)):\n",
    "        log_step = len(train_loader) * epoch + step\n",
    "        input_ids = batch[\"input_ids\"].to(device)\n",
    "        attention_mask = batch[\"attention_mask\"].to(device)\n",
    "        labels = batch[\"labels\"].to(device)\n",
    "\n",
    "        with torch.no_grad():\n",
    "            teacher_output = teacher_model(input_ids=input_ids, attention_mask=attention_mask)\n",
    "            teacher_logits = teacher_output.logits\n",
    "            teacher_attentions = teacher_output.attentions\n",
    "            teacher_hs = teacher_output.hidden_states\n",
    "\n",
    "        student_logits, student_attentions, student_hs = student_model(input_ids=input_ids, attention_mask=attention_mask)\n",
    "\n",
    "        loss, soft_loss, hard_loss, trans_loss = distillation_loss(student_logits, teacher_logits, student_attentions, teacher_attentions, student_hs, teacher_hs, labels)\n",
    "\n",
    "        loss = loss * temperature ** 2\n",
    "\n",
    "        loss.backward()\n",
    "        optimizer.step()\n",
    "        lr_scheduler.step()\n",
    "        optimizer.zero_grad()\n",
    "\n",
    "        wandb.log({\n",
    "            \"train_loss\": loss.item(),\n",
    "            \"train_soft_loss\": soft_loss.item(),\n",
    "            \"train_hard_loss\": hard_loss.item(),\n",
    "            \"train_trans_loss\": trans_loss.item(),\n",
    "            \"learning_rate\": lr_scheduler.get_last_lr()[0]\n",
    "        })\n",
    "\n",
    "    student_model.eval()\n",
    "    true_labels, predictions = [], []\n",
    "\n",
    "    for step, batch in tqdm(enumerate(eval_loader), desc='validating', total=len(eval_loader)):\n",
    "        log_step = len(train_loader) * epoch + step\n",
    "        input_ids = batch[\"input_ids\"].to(device)\n",
    "        attention_mask = batch[\"attention_mask\"].to(device)\n",
    "        labels = batch[\"labels\"].to(device)\n",
    "\n",
    "        with torch.no_grad():\n",
    "            logits, _, _ = student_model(input_ids=input_ids, attention_mask=attention_mask)\n",
    "\n",
    "        preds = torch.argmax(logits, dim=-1).cpu().numpy()\n",
    "        for label, pred in zip(labels, preds):\n",
    "            true_labels.append([label_names[l] for l in label if l != -100])\n",
    "            predictions.append([label_names[p] for l, p in zip(label, pred) if l != -100])\n",
    "\n",
    "    f1 = f1_score(true_labels, predictions)\n",
    "    wandb.log({\"val_f1\": f1})\n",
    "\n",
    "wandb.finish()"
   ]
  },
  {
   "cell_type": "code",
   "execution_count": null,
   "id": "94832d2b",
   "metadata": {},
   "outputs": [],
   "source": [
    "student_model.eval()\n",
    "test_loader = DataLoader(tokenized_datasets[\"test\"], batch_size=64, collate_fn=default_data_collator)\n",
    "true_labels, predictions = [], []\n",
    "\n",
    "for step, batch in tqdm(enumerate(test_loader), desc='testing', total=len(test_loader)):\n",
    "    log_step = len(train_loader) * epoch + step\n",
    "    input_ids = batch[\"input_ids\"].to(device)\n",
    "    attention_mask = batch[\"attention_mask\"].to(device)\n",
    "    labels = batch[\"labels\"].to(device)\n",
    "\n",
    "    with torch.no_grad():\n",
    "        logits = student_model(input_ids=input_ids, attention_mask=attention_mask)\n",
    "\n",
    "    preds = torch.argmax(logits, dim=-1).cpu().numpy()\n",
    "    for label, pred in zip(labels, preds):\n",
    "        true_labels.append([label_names[l] for l in label if l != -100])\n",
    "        predictions.append([label_names[p] for l, p in zip(label, pred) if l != -100])\n",
    "\n",
    "f1 = f1_score(true_labels, predictions)\n",
    "print(f\"F1 on test: {f1:.4f}\")"
   ]
  },
  {
   "cell_type": "markdown",
   "id": "e2eb7e71",
   "metadata": {},
   "source": [
    "2nd stage"
   ]
  },
  {
   "cell_type": "code",
   "execution_count": null,
   "id": "0320cb21",
   "metadata": {},
   "outputs": [],
   "source": [
    "gdown.download(id='1CSa_rYgoUN-E2I3guM2r6P5F9JkZAr1v')\n",
    "gdown.download(id='1YSAesbwk9Z_Z8Blw0cPBwpDYtMifAvNF')"
   ]
  },
  {
   "cell_type": "code",
   "execution_count": null,
   "id": "15fd79e1",
   "metadata": {},
   "outputs": [],
   "source": [
    "teacher_model = torch.load('ft_model_with_attn_hs.pt')\n",
    "student_model = torch.load('student_model_pretrain.pt')"
   ]
  },
  {
   "cell_type": "code",
   "execution_count": null,
   "id": "5b6909b1",
   "metadata": {},
   "outputs": [],
   "source": [
    "class KnowledgeDistillationLoss(nn.Module):\n",
    "    def __init__(self, device, temperature=2.0, alpha=0.5):\n",
    "        super().__init__()\n",
    "        self.device=device\n",
    "        self.temperature = temperature\n",
    "        self.alpha = alpha\n",
    "        self.kl_loss = nn.KLDivLoss(reduction=\"batchmean\")\n",
    "        self.ce_loss = nn.CrossEntropyLoss()\n",
    "        self.mse = nn.MSELoss()\n",
    "        self.lin = nn.Linear(in_features=student_hidden_dim, out_features=teacher_hidden_dim, bias=False, device=device)\n",
    "\n",
    "    def forward(self, student_logits, teacher_logits, student_attentions, teacher_attentions, student_hs, teacher_hs, labels):\n",
    "        student_probs = torch.log_softmax(student_logits / self.temperature, dim=-1)\n",
    "        teacher_probs = torch.softmax(teacher_logits / self.temperature, dim=-1)        \n",
    "        soft_loss = self.kl_loss(student_probs, teacher_probs)\n",
    "        hard_loss = self.ce_loss(student_logits.view(-1, student_logits.size(-1)), labels.view(-1)) \n",
    "\n",
    "        attn_loss = torch.sum(torch.tensor([self.mse(attn1, attn2) for attn1, attn2 in zip(student_attentions, teacher_attentions[::2])]))\n",
    "        hs_loss = torch.sum(torch.tensor([self.mse(self.lin(hs1), hs2) for hs1, hs2 in zip(student_hs, teacher_hs[1::2])])) # remove embeddings hs\n",
    "\n",
    "        trans_loss = attn_loss + hs_loss\n",
    "        return self.alpha * (soft_loss + trans_loss) + (1 - self.alpha) * hard_loss, soft_loss, hard_loss, trans_loss"
   ]
  },
  {
   "cell_type": "code",
   "execution_count": null,
   "id": "e6ace162",
   "metadata": {},
   "outputs": [],
   "source": [
    "train_loader = DataLoader(tokenized_datasets[\"train\"], batch_size=128, shuffle=True, collate_fn=default_data_collator)\n",
    "eval_loader = DataLoader(tokenized_datasets[\"validation\"], batch_size=128, collate_fn=default_data_collator)\n",
    "\n",
    "temperature=2.0\n",
    "device = torch.device(\"cuda\" if torch.cuda.is_available() else \"cpu\")\n",
    "distillation_loss = KnowledgeDistillationLoss(device, temperature=temperature, alpha=0.5)\n",
    "\n",
    "optimizer = AdamW(list(student_model.parameters()) + list(distillation_loss.parameters()), lr=3e-4)\n",
    "num_training_steps = len(train_loader) * 100  # 100 эпох\n",
    "lr_scheduler = get_scheduler(\"linear\", optimizer=optimizer, num_warmup_steps=1000, num_training_steps=num_training_steps)"
   ]
  },
  {
   "cell_type": "code",
   "execution_count": null,
   "id": "3292f5a5",
   "metadata": {},
   "outputs": [],
   "source": [
    "wandb.init(\n",
    "    project=\"nlp_hw4_size_reduction\",\n",
    "    name='distilation_hs_attn_matching_2_stage_sum'\n",
    ")"
   ]
  },
  {
   "cell_type": "code",
   "execution_count": null,
   "id": "ad8c417f",
   "metadata": {},
   "outputs": [],
   "source": [
    "teacher_model = teacher_model.to(device)\n",
    "student_model = student_model.to(device)\n",
    "\n",
    "for epoch in range(100):\n",
    "    print('Epoch:', epoch)\n",
    "    student_model.train()\n",
    "\n",
    "    for step, batch in tqdm(enumerate(train_loader), desc='training', total=len(train_loader)):\n",
    "        log_step = len(train_loader) * epoch + step\n",
    "        input_ids = batch[\"input_ids\"].to(device)\n",
    "        attention_mask = batch[\"attention_mask\"].to(device)\n",
    "        labels = batch[\"labels\"].to(device)\n",
    "\n",
    "        with torch.no_grad():\n",
    "            teacher_output = teacher_model(input_ids=input_ids, attention_mask=attention_mask)\n",
    "            teacher_logits = teacher_output.logits\n",
    "            teacher_attentions = teacher_output.attentions\n",
    "            teacher_hs = teacher_output.hidden_states\n",
    "\n",
    "        student_logits, student_attentions, student_hs = student_model(input_ids=input_ids, attention_mask=attention_mask)\n",
    "\n",
    "        loss, soft_loss, hard_loss, trans_loss = distillation_loss(student_logits, teacher_logits, student_attentions, teacher_attentions, student_hs, teacher_hs, labels)\n",
    "\n",
    "        loss = loss * temperature ** 2\n",
    "\n",
    "        loss.backward()\n",
    "        optimizer.step()\n",
    "        lr_scheduler.step()\n",
    "        optimizer.zero_grad()\n",
    "\n",
    "        wandb.log({\n",
    "            \"train_loss\": loss.item(),\n",
    "            \"train_soft_loss\": soft_loss.item(),\n",
    "            \"train_hard_loss\": hard_loss.item(),\n",
    "            \"train_trans_loss\": trans_loss.item(),\n",
    "            \"learning_rate\": lr_scheduler.get_last_lr()[0]\n",
    "        })\n",
    "\n",
    "    student_model.eval()\n",
    "    true_labels, predictions = [], []\n",
    "\n",
    "    for step, batch in tqdm(enumerate(eval_loader), desc='validating', total=len(eval_loader)):\n",
    "        log_step = len(train_loader) * epoch + step\n",
    "        input_ids = batch[\"input_ids\"].to(device)\n",
    "        attention_mask = batch[\"attention_mask\"].to(device)\n",
    "        labels = batch[\"labels\"].to(device)\n",
    "\n",
    "        with torch.no_grad():\n",
    "            logits, _, _ = student_model(input_ids=input_ids, attention_mask=attention_mask)\n",
    "\n",
    "        preds = torch.argmax(logits, dim=-1).cpu().numpy()\n",
    "        for label, pred in zip(labels, preds):\n",
    "            true_labels.append([label_names[l] for l in label if l != -100])\n",
    "            predictions.append([label_names[p] for l, p in zip(label, pred) if l != -100])\n",
    "\n",
    "    f1 = f1_score(true_labels, predictions)\n",
    "    wandb.log({\"val_f1\": f1})\n",
    "\n",
    "wandb.finish()"
   ]
  },
  {
   "cell_type": "code",
   "execution_count": null,
   "id": "ba06692a",
   "metadata": {},
   "outputs": [],
   "source": [
    "student_model.eval()\n",
    "\n",
    "test_loader = DataLoader(tokenized_datasets[\"test\"], batch_size=64, collate_fn=default_data_collator)\n",
    "\n",
    "true_labels, predictions = [], []\n",
    "\n",
    "\n",
    "\n",
    "for step, batch in tqdm(enumerate(test_loader), desc='testing', total=len(test_loader)):\n",
    "\n",
    "    log_step = len(train_loader) * epoch + step\n",
    "\n",
    "    input_ids = batch[\"input_ids\"].to(device)\n",
    "\n",
    "    attention_mask = batch[\"attention_mask\"].to(device)\n",
    "\n",
    "    labels = batch[\"labels\"].to(device)\n",
    "\n",
    "\n",
    "\n",
    "    with torch.no_grad():\n",
    "\n",
    "        logits, _, _ = student_model(input_ids=input_ids, attention_mask=attention_mask)\n",
    "\n",
    "\n",
    "\n",
    "    preds = torch.argmax(logits, dim=-1).cpu().numpy()\n",
    "\n",
    "    for label, pred in zip(labels, preds):\n",
    "\n",
    "        true_labels.append([label_names[l] for l in label if l != -100])\n",
    "\n",
    "        predictions.append([label_names[p] for l, p in zip(label, pred) if l != -100])\n",
    "\n",
    "\n",
    "\n",
    "f1 = f1_score(true_labels, predictions)\n",
    "\n",
    "print(f\"F1 on test: {f1:.4f}\")"
   ]
  },
  {
   "cell_type": "markdown",
   "id": "b159870d-4dc7-4e60-89b2-bf99c48b8ee9",
   "metadata": {},
   "source": [
    "# Задания на выбор\n",
    "\n",
    "Как вы понимаете, есть еще довольно много разных способов уменьшить обученную модель. В этой секции вам предлагается реализовать разные техники на выбор. За каждую из них можно получить разное количество балов в зависимости от сложности. Успешность реализации будет оцениваться как по коду, так и по качеству на тестовой выборке. Все баллы за это дз, которые вы наберете сверх 10, будут считаться бонусными.   \n",
    "В задании 4 вы обучали модель с ограничением числа параметров в 20М. При реализации техник из этой секции придерживайтесь такого же ограничение. Это позволит честно сравнивать методы между собой и делать правильные выводы. Напишите в отчете обо всем, что вы попробовали.\n",
    "\n",
    "* __Шеринг весов (2 балла).__ В модификации BERT [ALBERT](https://arxiv.org/pdf/1909.11942.pdf) помимо факторизации эмбеддингов предлагается шерить веса между слоями. То есть разные слои используют одни и те же веса. Такая техника эвивалентна применению одного и того же слоя несколько раз. Она позволяет в несколько раз уменьшить число параметров и не сильно потерять в качестве.\n",
    "* __Факторизация промежуточных слоев (2 балла).__ Если можно факторизовать матрицу эмбеддингов, то и все остальное тоже можно. Для факторизации слоев существует много разных подходов и выбрать какой-то один сложно. Вы можете вдохновляться [этим списком](https://lechnowak.com/posts/neural-network-low-rank-factorization-techniques/), найти в интернете что-то другое или придумать метод самостоятельно. В любом случае в отчете обоснуйте, почему вы решили сделать так как сделали.\n",
    "* __Приближение промежуточных слоев (2 балла).__ Мы обсуждали, что помимо приближения выходов модели ученика к выходам модели учителя, можно приближать выходы промежуточных слоев. В [этой работе](https://www.researchgate.net/publication/375758425_Knowledge_Distillation_Scheme_for_Named_Entity_Recognition_Model_Based_on_BERT) подробно написано, как это можно сделать.\n",
    "* __Прунинг (4 балла).__ В методе [SparseGPT](https://arxiv.org/abs/2301.00774) предлагается подход, удаляющий веса модели один раз после обучения. При этом оказывается возможным удалить до половины всех весов без потери в качестве. Математика, стоящаяя за техникой, довольно сложная, однако общий подход простой – будем удалять веса в каждом слое по отдельности, при удалении части весов слоя, остальные веса будут перенастраиваться так, чтобы общий выход слоя не изменился.\n",
    "* __Удаление голов (6 баллов).__ В данный момент мы используем все головы внимания, но ряд исследований показывает, что большинство из них можно выбросить без потери качества. В этой [статье](https://arxiv.org/pdf/1905.09418.pdf) предлагается подход, который добавляет гейты к механизму внимания, которые регулируют, какие головы участвуют в слое, а какие – нет. В процессе обучения гейты настраиваются так, чтобы большинство голов не использовалась. В конце обучения неиспользуемые головы можно удалить. За это задание дается много баллов, потому что в методе довольно сложная математика и подход плохо заводится. Если вы решитесь потратить на него свои силы, то в случае неудачи мы дадим промежуточные баллы, опираясь на отчет.   \n",
    "__Совет:__ во время обучения внимательно следите за поведением гейтов. Если вы все сделали правильно, то они должны зануляться. Однако зануляются они не всегда сразу, им надо дать время и обучать модель подольше."
   ]
  },
  {
   "cell_type": "markdown",
   "id": "143d40af",
   "metadata": {},
   "source": []
  }
 ],
 "metadata": {
  "kaggle": {
   "accelerator": "nvidiaTeslaT4",
   "dataSources": [],
   "dockerImageVersionId": 30787,
   "isGpuEnabled": true,
   "isInternetEnabled": true,
   "language": "python",
   "sourceType": "notebook"
  },
  "kernelspec": {
   "display_name": "Python 3",
   "language": "python",
   "name": "python3"
  },
  "language_info": {
   "codemirror_mode": {
    "name": "ipython",
    "version": 3
   },
   "file_extension": ".py",
   "mimetype": "text/x-python",
   "name": "python",
   "nbconvert_exporter": "python",
   "pygments_lexer": "ipython3",
   "version": "3.11.10"
  }
 },
 "nbformat": 4,
 "nbformat_minor": 5
}
